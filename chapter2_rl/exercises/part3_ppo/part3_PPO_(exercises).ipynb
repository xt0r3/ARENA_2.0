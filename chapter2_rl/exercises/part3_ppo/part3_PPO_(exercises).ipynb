{
  "cells": [
    {
      "cell_type": "markdown",
      "metadata": {
        "id": "ST7GZ0xkxW6j"
      },
      "source": [
        "<img src=\"https://raw.githubusercontent.com/callummcdougall/computational-thread-art/master/example_images/misc/football.jpeg\" width=\"350\">\n"
      ]
    },
    {
      "cell_type": "markdown",
      "metadata": {
        "id": "NzpGGRLH1tc8"
      },
      "source": [
        "Colab: [**exercises**](https://colab.research.google.com/drive/1USZJy9HCpq8rsAqfD6yYfpAfZvO5YDha) | [**solutions**](https://colab.research.google.com/drive/1f_RBuosHddwQrydZ7-iAnBs6lhkMMMSG)\n",
        "\n",
        "Please send any problems / bugs on the `#errata` channel in the [Slack group](https://join.slack.com/t/arena-la82367/shared_invite/zt-1uvoagohe-JUv9xB7Vr143pdx1UBPrzQ), and ask any questions on the dedicated channels for this chapter of material."
      ]
    },
    {
      "cell_type": "markdown",
      "metadata": {
        "id": "jd3LpCav3UXu"
      },
      "source": [
        "# [2.3] - PPO\n"
      ]
    },
    {
      "cell_type": "markdown",
      "metadata": {
        "id": "B4UFhAaYJWgv"
      },
      "source": [
        "## Introduction\n"
      ]
    },
    {
      "cell_type": "markdown",
      "metadata": {
        "id": "uZguNr-nJWgw"
      },
      "source": [
        "Proximal Policy Optimization (PPO) is a cutting-edge reinforcement learning algorithm that has gained significant attention in recent years. As an improvement over traditional policy optimization methods, PPO addresses key challenges such as sample efficiency, stability, and robustness in training deep neural networks for reinforcement learning tasks. With its ability to strike a balance between exploration and exploitation, PPO has demonstrated remarkable performance across a wide range of complex environments, including robotics, game playing, and autonomous control systems.\n",
        "\n",
        "In this section, you'll build your own agent to perform PPO on the CartPole environment. By the end, you should be able to train your agent to near perfect performance in about 30 seconds. You'll also be able to try out other things like **reward shaping**, to make it easier for your agent to learn to balance, or to do fun tricks!\n"
      ]
    },
    {
      "cell_type": "markdown",
      "metadata": {
        "id": "4Io1ZisEJWgw"
      },
      "source": [
        "## Content & Learning Objectives\n"
      ]
    },
    {
      "cell_type": "markdown",
      "metadata": {
        "id": "Nt6B8jFBJWgx"
      },
      "source": [
        "#### 1️⃣ Setting up our agent\n",
        "\n",
        "> ##### Learning objectives\n",
        ">\n",
        "> * Understand the difference between the actor & critic networks, and what their roles are\n",
        "> * Learn about & implement generalised advantage estimation\n",
        "> * Build a replay buffer to store & sample experiences\n",
        "> * Design an agent class to step through the environment & record experiences\n",
        "\n",
        "#### 2️⃣ Learning phase\n",
        "\n",
        "> ##### Learning objectives\n",
        ">\n",
        "> * Implement the total objective function (sum of three separate terms)\n",
        "> * Understand the importance of each of these terms for the overall algorithm\n",
        "> * Write a function to return an optimizer and learning rate scheduler for your model\n",
        "\n",
        "#### 3️⃣ PPO: Learning\n",
        "\n",
        "> ##### Learning objectives\n",
        ">\n",
        "> * Build a full training loop for the PPO algorithm\n",
        "> * Train our agent, and visualise its performance with Weights & Biases media logger\n",
        "> * Use reward shaping to improve your agent's training (and make it do tricks!)\n"
      ]
    },
    {
      "cell_type": "markdown",
      "metadata": {
        "id": "z3lK9SLhJWgx"
      },
      "source": [
        "## Introduction - PPO vs DQN\n",
        "\n",
        "Today, we'll be working on PPO (Proximal Policy Optimization). It has some similarities to DQN, but is based on a fundamentally different approach:\n",
        "\n",
        "|                                        | DQN                                                                                                                                                                                                                                     | PPO                                                                                                                                                                                                                                                                                                                                                                                                                                                               |\n",
        "|----------------------------------------|-----------------------------------------------------------------------------------------------------------------------------------------------------------------------------------------------------------------------------------------|-------------------------------------------------------------------------------------------------------------------------------------------------------------------------------------------------------------------------------------------------------------------------------------------------------------------------------------------------------------------------------------------------------------------------------------------------------------------|\n",
        "| What do we learn?                      | We learn the Q-function $Q(s, a)$.                                                                                                                                                                                                      | We learn the policy function $\\pi(a \\mid s)$.                                                                                                                                                                                                                                                                                                                                                                                                                     |\n",
        "| What networks do we have?              | Our network `q_network` takes $s$ as inputs, and outputs the Q-values for each possible action $a$.  We also had a `target_network`, although this was just a lagged version of `q_network` rather than one that actually gets trained. | We have two networks: `actor` which learns the policy function, and `critic` which learns the value function $V(s)$. These two work in tandem: the `actor` requires the `critic`'s output in order to estimate the policy gradient and perform gradient ascent, and the `critic` tries to learn the value function of the `actor`'s current policy.                                                                                                               |\n",
        "| Where do our gradients come from?      | We do gradient descent on the squared **TD residual**, i.e. the residual of the Bellman equation (which is only satisfied if we've found the true Q-function).                                                               | For our `actor`, we do gradient ascent on an estimate of the time-discounted future reward stream (i.e. we're directly moving up the **policy gradient**; changing our policy in a way which will lead to higher expected reward). Our `critic` trains by minimising the TD residual.                                                                                                                                                                                                                                                |\n",
        "| Techniques to improve stability?       | We use a \"lagged copy\" of our network to sample actions from; in this way we don't update too fast after only having seen a small number of possible states. In the DQN code, this was `q_network` and `target_network`.                | We use a \"lagged copy\" of our network to sample actions from. In the mathematical notation, this is $\\theta$ and $\\theta_{\\text{old}}$. In the code, we won't actually need to make a different network for this.  We clip the objective function to make sure large policy changes aren't incentivised past a certain point (this is the \"proximal\" part of PPO). |\n",
        "| Suitable for continuous action spaces? | No. Our Q-function $Q$ is implemented as a network which takes in states and returns Q-values for each discrete action. It's not even good for large action spaces!                                                                     | Yes. Our policy function $\\pi$ can take continuous argument $a$.                                                                                                                                                                                                                                                                                                                                                                                                  |\n",
        "\n",
        "A quick note on the distinction between **states** and **observations**.\n",
        "\n",
        "In reality these are two different things (denoted $s_t$ and $o_t$), because our agent might not be able to see all relevant information. However, the games we'll be working with for the rest of this section make no distinction between them. Thus, we will only refer to $s_t$ going forwards.\n"
      ]
    },
    {
      "cell_type": "markdown",
      "metadata": {
        "id": "zqMRyRh2JWgy"
      },
      "source": [
        "## Conceptual overview of PPO\n",
        "\n",
        "Below is an algorithm showing the conceptual overview of PPO. It's split into 2 main phases: **learning** and **rollout**.\n",
        "\n",
        "In **rollout**, we sample experiences using the current values of our actor and critic networks, and store them in a buffer. This is all done in inference mode. In **learning**, we use our current actor and critic networks (*not* in inference mode) plus these logged experiences to calculate an objective function and use it to update our network.\n",
        "\n",
        "<img src=\"https://raw.githubusercontent.com/callummcdougall/computational-thread-art/master/example_images/misc/ppo-alg-conceptual.png\" width=\"800\">\n"
      ]
    },
    {
      "cell_type": "markdown",
      "metadata": {
        "id": "Wv7u_qW4JWgz"
      },
      "source": [
        "## Implementational overview of PPO\n",
        "\n",
        "There are 3 main classes you'll be using today:\n",
        "\n",
        "* `ReplayBuffer`\n",
        "    * Stores & samples from the buffer of experiences\n",
        "    * Has a `get_minibatches` method, which samples data from the buffer to actually be used in training\n",
        "* `Agent`\n",
        "    * Contains the actor and critic networks, the `play_step` function, and a replay buffer\n",
        "        * In other words, it contains both the thing doing the inference and the thing which interacts with environment & stores results\n",
        "        * This is a design choice, other designs might keep these separate\n",
        "    * Also has a `get_minibatches` method which calls the corresponding buffer method (and uses the agent's current state)\n",
        "* `PPOTrainer`\n",
        "    * This is the main class for training our model, it helps us keep methods like `rollout_phase` and `learning_phase` separate\n",
        "\n",
        "The image below shows the high-level details of this, and how they relate to the conceptual overview above.\n",
        "\n",
        "<img src=\"https://raw.githubusercontent.com/callummcdougall/computational-thread-art/master/example_images/misc/ppo-alg-objects-6.png\" width=\"1300\">\n",
        "\n",
        "Don't worry if this seems like a lot at first! We'll go through it step-by-step. You might find this diagram useful to return to, throughout the exercises (you're recommended to open it in a separate tab).\n"
      ]
    },
    {
      "cell_type": "markdown",
      "metadata": {
        "id": "ShpeimhcJWgz"
      },
      "source": [
        "## Notes on today's workflow\n",
        "\n",
        "Your implementation might get huge benchmark scores by the end of the day, but don't worry if it struggles to learn the simplest of tasks. RL can be frustrating because the feedback you get is extremely noisy: the agent can fail even with correct code, and succeed with buggy code. Forming a systematic process for coping with the confusion and uncertainty is the point of today, more so than producing a working PPO implementation.\n",
        "\n",
        "Some parts of your process could include:\n",
        "\n",
        "- Forming hypotheses about why it isn't working, and thinking about what tests you could write, or where you could set a breakpoint to confirm the hypothesis.\n",
        "- Implementing some of the even more basic Gym environments and testing your agent on those.\n",
        "- Getting a sense for the meaning of various logged metrics, and what this implies about the training process\n",
        "- Noticing confusion and sections that don't make sense, and investigating this instead of hand-waving over it.\n"
      ]
    },
    {
      "cell_type": "markdown",
      "metadata": {
        "id": "RgosDiTeJWg0"
      },
      "source": [
        "## Readings\n",
        "\n",
        "* [Spinning Up in Deep RL - PPO](https://spinningup.openai.com/en/latest/algorithms/ppo.html)\n",
        "    * You don't need to follow all the derivations, but try to have a qualitative understanding of what all the symbols represent.\n",
        "* [The 37 Implementation Details of Proximal Policy Optimization](https://iclr-blog-track.github.io/2022/03/25/ppo-implementation-details/#solving-pong-in-5-minutes-with-ppo--envpool)\n",
        "    * he good news is that you won't need all 37 of these today, so no need to read to the end.\n",
        "    * We will be tackling the 13 \"core\" details, not in the same order as presented here. Some of the sections below are labelled with the number they correspond to in this page (e.g. **Minibatch Update ([detail #6](https://iclr-blog-track.github.io/2022/03/25/ppo-implementation-details/#:~:text=Mini%2Dbatch%20Updates))**).\n",
        "* [Proximal Policy Optimization Algorithms](https://arxiv.org/pdf/1707.06347.pdf)\n",
        "    * This paper is a useful reference point for many of the key equations. In particular, you will find up to page 5 useful.\n",
        "\n",
        "You might find it helpful to make a physical checklist of the 13 items and marking them as you go with how confident you are in your implementation. If things aren't working, this will help you notice if you missed one, or focus on the sections most likely to be bugged.\n",
        "\n",
        "### Optional Reading\n",
        "\n",
        "* [Spinning Up in Deep RL - Vanilla Policy Gradient](https://spinningup.openai.com/en/latest/algorithms/vpg.html#background)\n",
        "    * PPO is a fancier version of vanilla policy gradient, so if you're struggling to understand PPO it may help to look at the simpler setting first.\n",
        "* [Andy Jones - Debugging RL, Without the Agonizing Pain](https://andyljones.com/posts/rl-debugging.html)\n",
        "    * You've already read this previously but it will come in handy again.\n",
        "    * You'll want to reuse your probe environments from yesterday, or you can import them from the solution if you didn't implement them all.\n",
        "\n",
        "### References (not required reading)\n",
        "\n",
        "- [The Policy of Truth](http://www.argmin.net/2018/02/20/reinforce/) - a contrarian take on why Policy Gradients are actually a \"terrible algorithm\" that is \"legitimately bad\" and \"never a good idea\".\n",
        "- [Tricks from Deep RL Bootcamp at UC Berkeley](https://github.com/williamFalcon/DeepRLHacks/blob/master/README.md) - more debugging tips that may be of use.\n",
        "- [What Matters In On-Policy Reinforcement Learning? A Large-Scale Empirical Study](https://arxiv.org/pdf/2006.05990.pdf) - Google Brain researchers trained over 250K agents to figure out what really affects performance. The answers may surprise you.\n",
        "- [Lilian Weng Blog](https://lilianweng.github.io/posts/2018-04-08-policy-gradient/#ppo)\n",
        "- [A Closer Look At Deep Policy Gradients](https://arxiv.org/pdf/1811.02553.pdf)\n",
        "- [Where Did My Optimum Go?: An Empirical Analysis of Gradient Descent Optimization in Policy Gradient Methods](https://arxiv.org/pdf/1810.02525.pdf)\n",
        "- [Independent Policy Gradient Methods for Competitive Reinforcement Learning](https://papers.nips.cc/paper/2020/file/3b2acfe2e38102074656ed938abf4ac3-Supplemental.pdf) - requirements for multi-agent Policy Gradient to converge to Nash equilibrium.\n"
      ]
    },
    {
      "cell_type": "markdown",
      "metadata": {
        "id": "XcgAnZZOyBYk"
      },
      "source": [
        "## Setup (don't read, just run!)\n"
      ]
    },
    {
      "cell_type": "code",
      "execution_count": null,
      "metadata": {
        "id": "7yYsYe32yl9U"
      },
      "outputs": [],
      "source": [
        "try:\n",
        "    import google.colab # type: ignore\n",
        "    IN_COLAB = True\n",
        "except:\n",
        "    IN_COLAB = False\n",
        "\n",
        "if IN_COLAB:\n",
        "    # Install packages\n",
        "    %pip install wandb==0.13.10\n",
        "    %pip install einops\n",
        "    %pip install gym==0.23.1\n",
        "    %pip install pygame\n",
        "    %pip install jaxtyping\n",
        "\n",
        "    # Code to make sure output widgets display\n",
        "    from google.colab import output\n",
        "    output.enable_custom_widget_manager()\n",
        "\n",
        "    # Code to download the necessary files (e.g. solutions, test funcs)\n",
        "    import os, sys\n",
        "    if not os.path.exists(\"chapter2_rl\"):\n",
        "        !wget https://github.com/callummcdougall/ARENA_2.0/archive/refs/heads/main.zip\n",
        "        !unzip /content/main.zip 'ARENA_2.0-main/chapter2_rl/exercises/*'\n",
        "        sys.path.append(\"/content/ARENA_2.0-main/chapter2_rl/exercises\")\n",
        "        os.remove(\"/content/main.zip\")\n",
        "        os.rename(\"ARENA_2.0-main/chapter2_rl\", \"chapter2_rl\")\n",
        "        os.rmdir(\"ARENA_2.0-main\")\n",
        "        os.chdir(\"chapter2_rl/exercises\")\n",
        "else:\n",
        "    from IPython import get_ipython\n",
        "    ipython = get_ipython()\n",
        "    ipython.run_line_magic(\"load_ext\", \"autoreload\")\n",
        "    ipython.run_line_magic(\"autoreload\", \"2\")\n",
        "\n",
        "# Things that need to be done manually\n",
        "\n",
        "# Nothing\n",
        "\n",
        "# END"
      ]
    },
    {
      "cell_type": "code",
      "execution_count": null,
      "metadata": {
        "id": "DRQ9j4ftyHXf"
      },
      "outputs": [],
      "source": [
        "import os\n",
        "os.environ[\"ACCELERATE_DISABLE_RICH\"] = \"1\"\n",
        "os.environ[\"SDL_VIDEODRIVER\"] = \"dummy\"\n",
        "os.environ[\"KMP_DUPLICATE_LIB_OK\"] = \"TRUE\"\n",
        "\n",
        "import random\n",
        "import time\n",
        "import sys\n",
        "import re\n",
        "import pandas as pd\n",
        "from dataclasses import dataclass\n",
        "from tqdm import tqdm\n",
        "import numpy as np\n",
        "from numpy.random import Generator\n",
        "import plotly.express as px\n",
        "import torch as t\n",
        "from torch import Tensor\n",
        "from torch.optim.optimizer import Optimizer\n",
        "from torch.utils.data import Dataset\n",
        "import gym\n",
        "from gym.envs.classic_control.cartpole import CartPoleEnv\n",
        "import torch.nn as nn\n",
        "import torch.optim as optim\n",
        "from torch.distributions.categorical import Categorical\n",
        "from gym.spaces import Discrete\n",
        "import einops\n",
        "import copy\n",
        "from pathlib import Path\n",
        "from typing import List, Tuple, Dict, Any, Union, Callable, Optional\n",
        "from jaxtyping import Float, Int, Bool\n",
        "import wandb\n",
        "from IPython.display import clear_output\n",
        "\n",
        "# Make sure exercises are in the path\n",
        "chapter = r\"chapter2_rl\"\n",
        "exercises_dir = Path(f\"{os.getcwd().split(chapter)[0]}/{chapter}/exercises\").resolve()\n",
        "section_dir = exercises_dir / \"part3_ppo\"\n",
        "if str(exercises_dir) not in sys.path: sys.path.append(str(exercises_dir))\n",
        "\n",
        "from part1_intro_to_rl.utils import make_env\n",
        "from part2_dqn.utils import set_global_seeds\n",
        "from part2_dqn.solutions import Probe1, Probe2, Probe3, Probe4, Probe5\n",
        "import part3_ppo.utils as utils\n",
        "import part3_ppo.tests as tests\n",
        "from plotly_utils import plot_cartpole_obs_and_dones\n",
        "\n",
        "# Register our probes from last time\n",
        "for idx, probe in enumerate([Probe1, Probe2, Probe3, Probe4, Probe5]):\n",
        "    gym.envs.registration.register(id=f\"Probe{idx+1}-v0\", entry_point=probe)\n",
        "\n",
        "Arr = np.ndarray\n",
        "\n",
        "device = t.device(\"cuda\" if t.cuda.is_available() else \"cpu\")\n",
        "\n",
        "MAIN = __name__ == \"__main__\""
      ]
    },
    {
      "cell_type": "markdown",
      "metadata": {
        "id": "u1mKwRBpyF9c"
      },
      "source": [
        "## PPO Arguments\n",
        "\n",
        "Just like for DQN, we've provided you with a dataclass containing arguments for your `train_ppo` function. We've also given you a function from `utils` to display all these arguments (including which ones you've changed).\n",
        "\n",
        "Don't worry if these don't all make sense right now, they will by the end.\n"
      ]
    },
    {
      "cell_type": "code",
      "execution_count": null,
      "metadata": {
        "id": "LI1NtFf9JWg2"
      },
      "outputs": [],
      "source": [
        "@dataclass\n",
        "class PPOArgs:\n",
        "    exp_name: str = \"PPO_Implementation\"\n",
        "    seed: int = 1\n",
        "    cuda: bool = t.cuda.is_available()\n",
        "    log_dir: str = \"logs\"\n",
        "    use_wandb: bool = False\n",
        "    wandb_project_name: str = \"PPOCart\"\n",
        "    wandb_entity: str = None\n",
        "    capture_video: bool = True\n",
        "    env_id: str = \"CartPole-v1\"\n",
        "    total_timesteps: int = 500000\n",
        "    learning_rate: float = 0.00025\n",
        "    num_envs: int = 4\n",
        "    num_steps: int = 128\n",
        "    gamma: float = 0.99\n",
        "    gae_lambda: float = 0.95\n",
        "    num_minibatches: int = 4\n",
        "    batches_per_epoch: int = 4\n",
        "    clip_coef: float = 0.2\n",
        "    ent_coef: float = 0.01\n",
        "    vf_coef: float = 0.5\n",
        "    max_grad_norm: float = 0.5\n",
        "    batch_size: int = 512\n",
        "    minibatch_size: int = 128\n",
        "\n",
        "    def __post_init__(self):\n",
        "        assert self.batch_size % self.minibatch_size == 0, \"batch_size must be divisible by minibatch_size\"\n",
        "        self.total_epochs = self.total_timesteps // (self.num_steps * self.num_envs)\n",
        "        self.total_training_steps = self.total_epochs * self.batches_per_epoch * (self.batch_size // self.minibatch_size)\n",
        "\n",
        "\n",
        "args = PPOArgs(minibatch_size=256)\n",
        "utils.arg_help(args)"
      ]
    },
    {
      "cell_type": "markdown",
      "metadata": {
        "id": "TsR3w36EJWg2"
      },
      "source": [
        "# 1️⃣ Setting up our agent\n"
      ]
    },
    {
      "cell_type": "markdown",
      "metadata": {
        "id": "oSMCCZoPJWg2"
      },
      "source": [
        "> ##### Learning objectives\n",
        ">\n",
        "> * Understand the difference between the actor & critic networks, and what their roles are\n",
        "> * Learn about & implement generalised advantage estimation\n",
        "> * Build a replay buffer to store & sample experiences\n",
        "> * Design an agent class to step through the environment & record experiences\n"
      ]
    },
    {
      "cell_type": "markdown",
      "metadata": {
        "id": "YsJy1VLhJWg2"
      },
      "source": [
        "In this section, we'll do the following:\n",
        "\n",
        "* Write functions to create our actor and critic networks (which will eventually be stored in our `PPOAgent` instance)\n",
        "* Write a function to do **generalized advantage estimation** (this will be necessary when computing our objective function during the learning phase)\n",
        "* Fill in our `ReplayBuffer` class (for storing and sampling experiences)\n",
        "* Fill in our `PPOAgent` class (a wrapper around our networks and our replay buffer, which will turn them into an agent).\n"
      ]
    },
    {
      "cell_type": "markdown",
      "metadata": {
        "id": "_k248e1aJWg2"
      },
      "source": [
        "## Actor-Critic Agent Implementation ([detail #2](https://iclr-blog-track.github.io/2022/03/25/ppo-implementation-details/#:~:text=Orthogonal%20Initialization%20of%20Weights%20and%20Constant%20Initialization%20of%20biases))\n",
        "\n",
        "Implement the `Agent` class according to the diagram, inspecting `envs` to determine the observation shape and number of actions. We are doing separate Actor and Critic networks because [detail #13](https://iclr-blog-track.github.io/2022/03/25/ppo-implementation-details/#:~:text=Shared%20and%20separate%20MLP%20networks%20for%20policy%20and%20value%20functions) notes that is performs better than a single shared network in simple environments.\n",
        "\n",
        "Note that today `envs` will actually have multiple instances of the environment inside, unlike yesterday's DQN which had only one instance inside. From the **37 implementation details** post:\n",
        "\n",
        "> In this architecture, PPO first initializes a vectorized environment `envs` that runs $N$ (usually independent) environments either sequentially or in parallel by leveraging multi-processes. `envs` presents a synchronous interface that always outputs a batch of $N$ observations from $N$ environments, and it takes a batch of $N$ actions to step the $N$ environments. When calling `next_obs = envs.reset()`, next_obs gets a batch of $N$ initial observations (pronounced \"next observation\"). PPO also initializes an environment `done` flag variable next_done (pronounced \"next done\") to an $N$-length array of zeros, where its i-th element `next_done[i]` has values of 0 or 1 which corresponds to the $i$-th sub-environment being *not done* and *done*, respectively.\n",
        "\n",
        "<img src=\"https://raw.githubusercontent.com/callummcdougall/computational-thread-art/master/example_images/misc/screenshot-2.png\" width=\"800\">\n"
      ]
    },
    {
      "cell_type": "markdown",
      "metadata": {
        "id": "NzuxYOz3JWg2"
      },
      "source": [
        "### Exercise - implement `get_actor_and_critic`\n",
        "\n",
        "```c\n",
        "Difficulty: 🟠🟠⚪⚪⚪\n",
        "Importance: 🟠🟠🟠⚪⚪\n",
        "\n",
        "You should spend up to 10-20 minutes on this exercise.\n",
        "```\n",
        "\n",
        "Use `layer_init` to initialize each `Linear`, overriding the standard deviation argument `std` according to the diagram.\n",
        "\n",
        "<figure style=\"max-width:510px\"><embed type=\"image/svg+xml\" src=\"https://mermaid.ink/svg/pako:eNqNkU9LAzEQxb_KMicLW-3W0sOihWC9CR7sbVPKbDJ1A012yZ-DlH53s8buqhV0IMnk8QZ-LzmCaCVBCa8WuybbrLnJYrlQJ-HBKq9EEvt6UobQFhWH1F21tdu5BjvKs-ViwmGbTaerbIOmKap-T_dkno9jy8WFf37hv_3uLyZ3tb1ZOS_vi_Pgc_DcJDwy8gc8E761Izv7Jzz7Qv9x_4ueJXwO_TmIv2YwQe9QeNUaN6aZXc-GQCwmquLaDqEgB01Wo5Lxm469zME3pIlDGVtJewwHz4GbU7SGTqKnR6lidCj3eHCUAwbfvrwZAaW3gc6mtcL4TvrTdXoHrTShmw\" /></figure>\n"
      ]
    },
    {
      "cell_type": "code",
      "execution_count": null,
      "metadata": {
        "id": "ScsRpxFEJWg3"
      },
      "outputs": [],
      "source": [
        "def layer_init(layer: nn.Linear, std=np.sqrt(2), bias_const=0.0):\n",
        "    t.nn.init.orthogonal_(layer.weight, std)\n",
        "    t.nn.init.constant_(layer.bias, bias_const)\n",
        "    return layer\n",
        "\n",
        "\n",
        "def get_actor_and_critic(envs: gym.vector.SyncVectorEnv) -> Tuple[nn.Module, nn.Module]:\n",
        "    '''\n",
        "    Returns (actor, critic), the networks used for PPO.\n",
        "    '''\n",
        "    obs_shape = envs.single_observation_space.shape\n",
        "    num_obs = np.array(obs_shape).prod()\n",
        "    num_actions = envs.single_action_space.n\n",
        "    pass\n",
        "\n",
        "tests.test_get_actor_and_critic(get_actor_and_critic)"
      ]
    },
    {
      "cell_type": "markdown",
      "metadata": {
        "id": "Y8D33hQWJWg3"
      },
      "source": [
        "<details>\n",
        "<summary>Solution</summary>\n",
        "\n",
        "\n",
        "```python\n",
        "def get_actor_and_critic(envs: gym.vector.SyncVectorEnv) -> Tuple[nn.Module, nn.Module]:\n",
        "    '''\n",
        "    Returns (actor, critic), the networks used for PPO.\n",
        "    '''\n",
        "    obs_shape = envs.single_observation_space.shape\n",
        "    num_obs = np.array(obs_shape).prod()\n",
        "    num_actions = envs.single_action_space.n\n",
        "    # SOLUTION\n",
        "\n",
        "    critic = nn.Sequential(\n",
        "        layer_init(nn.Linear(num_obs, 64)),\n",
        "        nn.Tanh(),\n",
        "        layer_init(nn.Linear(64, 64)),\n",
        "        nn.Tanh(),\n",
        "        layer_init(nn.Linear(64, 1), std=1.0)\n",
        "    ).to(device)\n",
        "\n",
        "    actor = nn.Sequential(\n",
        "        layer_init(nn.Linear(num_obs, 64)),\n",
        "        nn.Tanh(),\n",
        "        layer_init(nn.Linear(64, 64)),\n",
        "        nn.Tanh(),\n",
        "        layer_init(nn.Linear(64, num_actions), std=0.01)\n",
        "    ).to(device)\n",
        "\n",
        "    return actor, critic\n",
        "```\n",
        "</details>\n",
        "\n",
        "Question - what do you think is the benefit of using a small standard deviation for the last actor layer?\n",
        "\n",
        "<details>\n",
        "<summary>Answer</summary>\n",
        "\n",
        "The purpose is to center the initial `agent.actor` logits around zero, in other words an approximately uniform distribution over all actions independent of the state. If you didn't do this, then your agent might get locked into a nearly-deterministic policy early on and find it difficult to train away from it.\n",
        "\n",
        "[Studies suggest](https://openreview.net/pdf?id=nIAxjsniDzg) this is one of the more important initialisation details, and performance is often harmed without it.\n",
        "</details>\n"
      ]
    },
    {
      "cell_type": "markdown",
      "metadata": {
        "id": "7CiWjUgqJWg3"
      },
      "source": [
        "## Generalized Advantage Estimation ([detail #5](https://iclr-blog-track.github.io/2022/03/25/ppo-implementation-details/#:~:text=Generalized%20Advantage%20Estimation))\n",
        "\n",
        "The advantage function $A_\\pi(s,a)$ indicates how much better choosing action $a$ would be in state $s$ as compared to the value obtained by letting $\\pi$ choose the action (or if $\\pi$ is stochastic, compared to the on expectation value by letting $\\pi$ decide).\n",
        "$$\n",
        "A_\\pi(s,a) = Q_\\pi(s,a) - V_\\pi(s)\n",
        "$$\n",
        "\n",
        "There are various ways to compute advantages - follow [detail #5](https://iclr-blog-track.github.io/2022/03/25/ppo-implementation-details/#:~:text=Generalized%20Advantage%20Estimation) closely for today.\n",
        "\n",
        "Given a batch of experiences, we want to compute each `advantage[t][env]`. This is equation $(11)$ of the [PPO paper](https://arxiv.org/pdf/1707.06347.pdf).\n",
        "\n",
        "Implement `compute_advantages`. I recommend using a reversed for loop over `t` to get it working, and not worrying about trying to completely vectorize it.\n",
        "\n",
        "Remember that the sum in $(11)$ should be truncated at the first instance when the episode is terminated (i.e. `done=True`). This is another reason why using a for loop is easier than vectorization!\n",
        "\n",
        "**Gotcha** - if you've imported torch with `import torch as t`, be careful about using `t` as a variable during your iteration! Recommended alternatives are `T`, `t_`, `s`, or `timestep`.\n"
      ]
    },
    {
      "cell_type": "markdown",
      "metadata": {
        "id": "w-k40gZ2JWg3"
      },
      "source": [
        "### Exercise - implement `compute_advantages`\n",
        "\n",
        "```c\n",
        "Difficulty: 🟠🟠🟠🟠⚪\n",
        "Importance: 🟠🟠🟠⚪⚪\n",
        "\n",
        "You should spend up to 20-40 minutes on this exercise.\n",
        "```\n"
      ]
    },
    {
      "cell_type": "code",
      "execution_count": null,
      "metadata": {
        "id": "GytdHeqnJWg3"
      },
      "outputs": [],
      "source": [
        "@t.inference_mode()\n",
        "def compute_advantages(\n",
        "    next_value: t.Tensor,\n",
        "    next_done: t.Tensor,\n",
        "    rewards: t.Tensor,\n",
        "    values: t.Tensor,\n",
        "    dones: t.Tensor,\n",
        "    gamma: float,\n",
        "    gae_lambda: float,\n",
        ") -> t.Tensor:\n",
        "    '''Compute advantages using Generalized Advantage Estimation.\n",
        "    next_value: shape (env,)\n",
        "    next_done: shape (env,)\n",
        "    rewards: shape (buffer_size, env)\n",
        "    values: shape (buffer_size, env)\n",
        "    dones: shape (buffer_size, env)\n",
        "    Return: shape (buffer_size, env)\n",
        "    '''\n",
        "    pass\n",
        "\n",
        "tests.test_compute_advantages(compute_advantages)"
      ]
    },
    {
      "cell_type": "markdown",
      "metadata": {
        "id": "gj24OGXOJWg3"
      },
      "source": [
        "<details>\n",
        "<summary>Help - I'm confused about how to calculate advantages.</summary>\n",
        "\n",
        "You can calculate all the deltas explicitly, using:\n",
        "\n",
        "```python\n",
        "deltas = rewards + gamma * next_values * (1.0 - next_dones) - values\n",
        "```\n",
        "\n",
        "where `next_values` and `next_dones` are created by concatenating `(values, next_value)` and `(dones, next_done)` respectively and dropping the first element (i.e. the one at timestep $t=0$).\n",
        "\n",
        "When calculating the advantages from the deltas, it might help to work backwards, i.e. start with $\\hat{A}_{T-1}$ and calculate them recursively. You can go from $\\hat{A}_{t}$ to $\\hat{A}_{t-1}$ by multiplying by a scale factor (which might be zero depending on the value of `dones[t]`) and adding $\\delta_{t-1}$.\n",
        "</details>\n",
        "\n",
        "<details>\n",
        "<summary>Solution</summary>\n",
        "\n",
        "\n",
        "```python\n",
        "def compute_advantages(\n",
        "    next_value: t.Tensor,\n",
        "    next_done: t.Tensor,\n",
        "    rewards: t.Tensor,\n",
        "    values: t.Tensor,\n",
        "    dones: t.Tensor,\n",
        "    gamma: float,\n",
        "    gae_lambda: float,\n",
        ") -> t.Tensor:\n",
        "    '''Compute advantages using Generalized Advantage Estimation.\n",
        "    next_value: shape (env,)\n",
        "    next_done: shape (env,)\n",
        "    rewards: shape (buffer_size, env)\n",
        "    values: shape (buffer_size, env)\n",
        "    dones: shape (buffer_size, env)\n",
        "    Return: shape (buffer_size, env)\n",
        "    '''\n",
        "    # SOLUTION\n",
        "    T = values.shape[0]\n",
        "    next_values = t.concat([values[1:], next_value.unsqueeze(0)])\n",
        "    next_dones = t.concat([dones[1:], next_done.unsqueeze(0)])\n",
        "    deltas = rewards + gamma * next_values * (1.0 - next_dones) - values\n",
        "    advantages = t.zeros_like(deltas)\n",
        "    advantages[-1] = deltas[-1]\n",
        "    for s in reversed(range(1, T)):\n",
        "        advantages[s-1] = deltas[s-1] + gamma * gae_lambda * (1.0 - dones[s]) * advantages[s]\n",
        "    return advantages\n",
        "```\n",
        "</details>\n"
      ]
    },
    {
      "cell_type": "markdown",
      "metadata": {
        "id": "Xit_R6aeJWg4"
      },
      "source": [
        "## Replay Buffer\n"
      ]
    },
    {
      "cell_type": "markdown",
      "metadata": {
        "id": "PB4u5757JWg4"
      },
      "source": [
        "Our replay buffer has some similarities to the replay buffer from yesterday, as well as some important differences. One difference is the way we sample from the buffer. Rather than iteratively adding things to the buffer and taking a subsample for training (like we did in DQN), we alternate between rollout and learning phases, where in rollout we fill the buffer (i.e. starting from empty) and in learning we update from *all* the experiences in the buffer.\n",
        "\n",
        "### Exercise - implement `minibatch_indices`\n",
        "\n",
        "```c\n",
        "Difficulty: 🟠🟠🟠🟠⚪\n",
        "Importance: 🟠🟠🟠⚪⚪\n",
        "\n",
        "You should spend up to 10-15 minutes on this exercise.\n",
        "```\n",
        "\n",
        "We'll start by implementing the `minibatch_indices` function, as described in [detail #6](https://iclr-blog-track.github.io/2022/03/25/ppo-implementation-details/#:~:text=Mini%2Dbatch%20Updates). This takes a batch size (total number of elements in the buffer, i.e. $N * M$ in detail #6) and minibatch size, and returns a randomly permuted set of indices (which we'll use to index into the buffer).\n",
        "\n",
        "To make this clearer, we've given you the test code inline (so you can see exactly what your function is required to do).\n"
      ]
    },
    {
      "cell_type": "code",
      "execution_count": null,
      "metadata": {
        "id": "yxfFZThnJWg4"
      },
      "outputs": [],
      "source": [
        "def minibatch_indexes(rng: Generator, batch_size: int, minibatch_size: int) -> List[np.ndarray]:\n",
        "    '''\n",
        "    Return a list of length (batch_size // minibatch_size) where each element is an array of indexes into the batch.\n",
        "\n",
        "    Each index should appear exactly once.\n",
        "    '''\n",
        "    assert batch_size % minibatch_size == 0\n",
        "    pass\n",
        "\n",
        "rng = np.random.default_rng(0)\n",
        "batch_size = 6\n",
        "minibatch_size = 2\n",
        "indexes = minibatch_indexes(rng, batch_size, minibatch_size)\n",
        "\n",
        "assert np.array(indexes).shape == (batch_size // minibatch_size, minibatch_size)\n",
        "assert sorted(np.unique(indexes)) == [0, 1, 2, 3, 4, 5]\n",
        "print(\"All tests in `test_minibatch_indexes` passed!\")"
      ]
    },
    {
      "cell_type": "markdown",
      "metadata": {
        "id": "nuEL51TGJWg4"
      },
      "source": [
        "<details>\n",
        "<summary>Solution</summary>\n",
        "\n",
        "\n",
        "```python\n",
        "def minibatch_indexes(rng: Generator, batch_size: int, minibatch_size: int) -> List[np.ndarray]:\n",
        "    '''\n",
        "    Return a list of length (batch_size // minibatch_size) where each element is an array of indexes into the batch.\n",
        "\n",
        "    Each index should appear exactly once.\n",
        "    '''\n",
        "    assert batch_size % minibatch_size == 0\n",
        "    # SOLUTION\n",
        "    indices = rng.permutation(batch_size)\n",
        "    indices = einops.rearrange(indices, \"(mb_num mb_size) -> mb_num mb_size\", mb_size=minibatch_size)\n",
        "    return list(indices)\n",
        "```\n",
        "</details>\n"
      ]
    },
    {
      "cell_type": "markdown",
      "metadata": {
        "id": "E6AJQn_DJWg4"
      },
      "source": [
        "Now, we've given you the code for a replay buffer for these exercises. It's pretty similar to the one you used for DQN, except that it stores slightly different variables.\n",
        "\n",
        "It will store episodes of the form $s_t, a_t, \\log{\\pi(a_t\\mid s_t)}, d_t, r_{t+1}, V_\\pi(s_t)$ for $t = 1, ..., T-1$, where $T =$ `arg.num_steps`.\n"
      ]
    },
    {
      "cell_type": "markdown",
      "metadata": {
        "id": "SjnFLaRyJWg4"
      },
      "source": [
        "\n",
        "### Exercise - explain the values in `ReplayBufferSamples`\n",
        "\n",
        "```c\n",
        "Difficulty: 🟠🟠🟠⚪⚪\n",
        "Importance: 🟠🟠🟠🟠⚪\n",
        "\n",
        "You should spend up to 10-25 minutes on this exercise.\n",
        "\n",
        "Understanding this is very conceptually important.\n",
        "```\n",
        "\n",
        "**Read the [PPO Algorithms paper](https://arxiv.org/pdf/1707.06347.pdf) and the [PPO Implementational Details post](https://iclr-blog-track.github.io/2022/03/25/ppo-implementation-details/#solving-pong-in-5-minutes-with-ppo--envpool), then try and figure out what each of the seven items in `ReplayBufferSamples` are and why they are necessary.** If you prefer, you can return to these once you've implmemented all the loss functions (when it might make a bit more sense).\n",
        "\n",
        "Note - we've omitted `values` and `dones` because they aren't actually used in the learning phase (i.e. we never use them directly in our loss functions). The reason we add them to our `ReplayBufferSamples` is just for logging.\n",
        "\n",
        "<details>\n",
        "<summary>obs</summary>\n",
        "\n",
        "`obs` are the observations from our environment, returned from the `envs.step` function.\n",
        "\n",
        "These are fed into our `agent.actor` and `agent.critic` to choose our next actions, and get estimates for the value function.\n",
        "\n",
        "</details>\n",
        "\n",
        "<details>\n",
        "<summary>actions</summary>\n",
        "\n",
        "`actions` are the actions chosen by our policy. These are sampled from the distribution corresponding to the logit output we get from our `agent.actor` network.\n",
        "\n",
        "These are passed into the `envs.step` function to generate new observations and rewards.\n",
        "\n",
        "</details>\n",
        "\n",
        "<details>\n",
        "<summary>logprobs</summary>\n",
        "\n",
        "`logprobs` are the logit outputs of our `actor.agent` network corresponding to the actions we chose.\n",
        "\n",
        "These are necessary for calculating the clipped surrogate objective (see equation $(7)$ on page page 3 in the [PPO Algorithms paper](https://arxiv.org/pdf/1707.06347.pdf)).\n",
        "\n",
        "`logprobs` is the value $\\ln(\\pi_{\\theta_\\text{old}}(a_t | s_t))$ in this equation (it was generated during the rollout phase, and is static). $\\pi_{\\theta}(a_t | s_t)$ is to the output of our `actor.agent` network **which changes as we perform gradient updates on it.**\n",
        "\n",
        "</details>\n",
        "\n",
        "<details>\n",
        "<summary>advantages</summary>\n",
        "\n",
        "`advantages` are the terms $\\hat{A}_t$ used in the calculation of the clipped surrogate objective (again, see equation $(7)$ in the PPO algorithms paper). They are computed using the formula $(11)$ in the paper.\n",
        "\n",
        "</details>\n",
        "\n",
        "<details>\n",
        "<summary>returns</summary>\n",
        "\n",
        "We mentioned above that `returns = advantages + values`. Returns are used for calculating the value function loss - see [detail #9](https://iclr-blog-track.github.io/2022/03/25/ppo-implementation-details/#:~:text=Value%20Function%20Loss%20Clipping) in the PPO implementational details post. This is equivalent to the TD residual loss used in DQN.\n",
        "\n",
        "</details>\n"
      ]
    },
    {
      "cell_type": "markdown",
      "metadata": {
        "id": "23BfyCMqJWg4"
      },
      "source": [
        "A few notes on the code below:\n",
        "\n",
        "* The logic to compute `advantages` and `returns` is all contained in the `get_minibatches` method. You should read through this method and make sure you understand what's being computed and why.\n",
        "    * We store slightly different things in our `ReplayBufferSamples` than we do in our `experiences` list in the replay buffer. The `ReplayBufferSamples` object stores **things we actually use for training**, which are computed **from** the things in the `experiences` list. (For instance, we need `returns`, but not `rewards`, in the learning phase).\n",
        "* We will take the output of the `get_minibatches` method as our dataset (i.e. one epoch will be us iterating through the minibatches returned by this method). The diagram below illustrates how we take our sampled experiences and turn them into minibatches for training.\n",
        "\n",
        "<img src=\"https://raw.githubusercontent.com/callummcdougall/computational-thread-art/master/example_images/misc/ppo-buffer-sampling-3.png\" width=\"1200\">\n"
      ]
    },
    {
      "cell_type": "code",
      "execution_count": null,
      "metadata": {
        "id": "R3naSUeEJWg4"
      },
      "outputs": [],
      "source": [
        "@dataclass\n",
        "class ReplayBufferSamples:\n",
        "    '''\n",
        "    Samples from the replay buffer, converted to PyTorch for use in neural network training.\n",
        "    '''\n",
        "    obs: Float[Tensor, \"minibatch_size *obs_shape\"]\n",
        "    dones: Float[Tensor, \"minibatch_size\"]\n",
        "    actions: Int[Tensor, \"minibatch_size\"]\n",
        "    logprobs: Float[Tensor, \"minibatch_size\"]\n",
        "    values: Float[Tensor, \"minibatch_size\"]\n",
        "    advantages: Float[Tensor, \"minibatch_size\"]\n",
        "    returns: Float[Tensor, \"minibatch_size\"]\n",
        "\n",
        "\n",
        "class ReplayBuffer:\n",
        "    '''\n",
        "    Contains buffer; has a method to sample from it to return a ReplayBufferSamples object.\n",
        "\n",
        "    Needs to be initialized with the first obs, dones and values.\n",
        "    '''\n",
        "    def __init__(self, args: PPOArgs, envs: gym.vector.SyncVectorEnv):\n",
        "        '''Defining all the attributes the buffer's methods will need to access.'''\n",
        "        self.rng = np.random.default_rng(args.seed)\n",
        "        self.num_envs = envs.num_envs\n",
        "        self.obs_shape = envs.single_observation_space.shape\n",
        "        self.gamma = args.gamma\n",
        "        self.gae_lambda = args.gae_lambda\n",
        "        self.batch_size = args.batch_size\n",
        "        self.minibatch_size = args.minibatch_size\n",
        "        self.num_steps = args.num_steps\n",
        "        self.batches_per_epoch = args.batches_per_epoch\n",
        "        self.experiences = []\n",
        "\n",
        "\n",
        "    def add(self, obs: Arr, actions: Arr, rewards: Arr, dones: Arr, logprobs: Arr, values: Arr) -> None:\n",
        "        '''\n",
        "        obs: shape (n_envs, *observation_shape)\n",
        "            Observation before the action\n",
        "        actions: shape (n_envs,)\n",
        "            Action chosen by the agent\n",
        "        rewards: shape (n_envs,)\n",
        "            Reward after the action\n",
        "        dones: shape (n_envs,)\n",
        "            If True, the episode ended and was reset automatically\n",
        "        logprobs: shape (n_envs,)\n",
        "            Log probability of the action that was taken (according to old policy)\n",
        "        values: shape (n_envs,)\n",
        "            Values, estimated by the critic (according to old policy)\n",
        "        '''\n",
        "        assert obs.shape == (self.num_envs, *self.obs_shape)\n",
        "        assert actions.shape == (self.num_envs,)\n",
        "        assert rewards.shape == (self.num_envs,)\n",
        "        assert dones.shape == (self.num_envs,)\n",
        "        assert logprobs.shape == (self.num_envs,)\n",
        "        assert values.shape == (self.num_envs,)\n",
        "\n",
        "        self.experiences.append((obs, dones, actions, logprobs, values, rewards))\n",
        "\n",
        "\n",
        "    def get_minibatches(self, next_value: t.Tensor, next_done: t.Tensor) -> List[ReplayBufferSamples]:\n",
        "        minibatches = []\n",
        "\n",
        "        # Turn all experiences to tensors on our device (we only want to do this once, not every time we add a new experience)\n",
        "        obs, dones, actions, logprobs, values, rewards = [t.stack(arr).to(device) for arr in zip(*self.experiences)]\n",
        "\n",
        "        # Compute advantages and returns (then get a list of everything we'll need for our replay buffer samples)\n",
        "        advantages = compute_advantages(next_value, next_done, rewards, values, dones.float(), self.gamma, self.gae_lambda)\n",
        "        returns = advantages + values\n",
        "        replaybuffer_args = [obs, dones, actions, logprobs, values, advantages, returns]\n",
        "\n",
        "        # We cycle through the entire buffer `self.batches_per_epoch` times\n",
        "        for _ in range(self.batches_per_epoch):\n",
        "\n",
        "            # Get random indices we'll use to generate our minibatches\n",
        "            indices = minibatch_indexes(self.rng, self.batch_size, self.minibatch_size)\n",
        "\n",
        "            # Get our new list of minibatches, and add them to the list\n",
        "            for index in indices:\n",
        "                minibatch = ReplayBufferSamples(*[\n",
        "                    arg.flatten(0, 1)[index].to(device) for arg in replaybuffer_args\n",
        "                ])\n",
        "                minibatches.append(minibatch)\n",
        "\n",
        "        # Reset the buffer\n",
        "        self.experiences = []\n",
        "\n",
        "        return minibatches"
      ]
    },
    {
      "cell_type": "markdown",
      "metadata": {
        "id": "muoBVDbZJWg5"
      },
      "source": [
        "Now, like before, here's some code to generate and plot observations. The dotted lines indicate a terminated episode.\n",
        "\n",
        "Note that we're actually using four environments inside our `envs` object, rather than just one like last time. The 3 solid (non-dotted) lines in the first plot below indicate the transition between different environments in `envs` (which we've stitched together into one long episode in the first plot below).\n"
      ]
    },
    {
      "cell_type": "code",
      "execution_count": null,
      "metadata": {
        "id": "M5zSnAMLJWg5"
      },
      "outputs": [],
      "source": [
        "args = PPOArgs()\n",
        "envs = gym.vector.SyncVectorEnv([make_env(\"CartPole-v1\", i, i, False, \"test\") for i in range(4)])\n",
        "next_value = t.zeros(envs.num_envs).to(device)\n",
        "next_done = t.zeros(envs.num_envs).to(device)\n",
        "rb = ReplayBuffer(args, envs)\n",
        "actions = t.zeros(envs.num_envs).int().to(device)\n",
        "obs = envs.reset()\n",
        "\n",
        "for i in range(args.num_steps):\n",
        "    (next_obs, rewards, dones, infos) = envs.step(actions.cpu().numpy())\n",
        "    real_next_obs = next_obs.copy()\n",
        "    for (i, done) in enumerate(dones):\n",
        "        if done: real_next_obs[i] = infos[i][\"terminal_observation\"]\n",
        "    logprobs = values = t.zeros(envs.num_envs)\n",
        "    rb.add(t.from_numpy(obs).to(device), actions, t.from_numpy(rewards).to(device), t.from_numpy(dones).to(device), logprobs, values)\n",
        "    obs = next_obs\n",
        "\n",
        "obs, dones, actions, logprobs, values, rewards = [t.stack(arr).to(device) for arr in zip(*rb.experiences)]\n",
        "\n",
        "plot_cartpole_obs_and_dones(obs, dones, show_env_jumps=True)"
      ]
    },
    {
      "cell_type": "markdown",
      "metadata": {
        "id": "xRKM-VTyJWg5"
      },
      "source": [
        "The next code shows **a single minibatch**, sampled from this replay buffer.\n"
      ]
    },
    {
      "cell_type": "code",
      "execution_count": null,
      "metadata": {
        "id": "scdhiHozJWg8"
      },
      "outputs": [],
      "source": [
        "minibatches = rb.get_minibatches(next_value, next_done)\n",
        "\n",
        "obs = minibatches[0].obs\n",
        "dones = minibatches[0].dones\n",
        "\n",
        "plot_cartpole_obs_and_dones(obs, dones)"
      ]
    },
    {
      "cell_type": "markdown",
      "metadata": {
        "id": "TpbQSnN-JWg9"
      },
      "source": [
        "## PPOAgent\n",
        "\n",
        "As the final task in this section, you should fill in the agent's `play_step` method. This is conceptually similar to what you did during DQN, but with a few key differences.\n",
        "\n",
        "In DQN, we did the following:\n",
        "\n",
        "* used the Q-Network and an epsilon greedy policy to select an action based on current observation,\n",
        "* stepped the environment with this action,\n",
        "* stored the transition in the replay buffer (using the `add` method of the buffer)\n",
        "\n",
        "In PPO, you'll do the following:\n",
        "\n",
        "* use the actor network to return a distribution over actions based on current observation & sample from this distribution to select an action,\n",
        "* step the environment with this action,\n",
        "* calculate `logprobs` and `values` (which we'll need during our learning step),\n",
        "* store the transition in the replay buffer (using the `add` method of the buffer)\n"
      ]
    },
    {
      "cell_type": "markdown",
      "metadata": {
        "id": "hvZG4jdRJWg-"
      },
      "source": [
        "### Exercise - implement `PPOAgent`\n",
        "\n",
        "```c\n",
        "Difficulty: 🟠🟠🟠🟠⚪\n",
        "Importance: 🟠🟠🟠🟠⚪\n",
        "\n",
        "You should spend up to 20-35 minutes on this exercise.\n",
        "```\n",
        "\n",
        "A few gotchas:\n",
        "\n",
        "* Make sure the things you're adding to the buffer are the right shape (otherwise the `add` method of the buffer will throw an error). This includes paying attention to the batch dimension when you put things through the actor and critic networks.\n",
        "* Don't forget to use inference mode when running your actor and critic networks, since you're only generating data $\\theta_\\text{old}$ (i.e. you don't want to update the weights of the network based on these values).\n",
        "* Don't forget to increment the step count `self.steps` by the number of environments (you're stepping once for each env!) in each call to `play_step`.\n",
        "* At the end of `play_step`, you should update `self.next_obs` and `self.next_done` (because this is where our agent will start next time `play_step` is called).\n",
        "    * For more on why we need these values, see [this section](https://iclr-blog-track.github.io/2022/03/25/ppo-implementation-details/#:~:text=role%20to%20help%20transition%20between%20phases) of detail #1 in the \"37 implementational details\" post.\n",
        "\n",
        "<details>\n",
        "<summary>Tip - how to sample from distributions (to get <code>actions</code>)</summary>\n",
        "\n",
        "You might remember using `torch.distributions.categorical.Categorical` when we were sampling from transformers in the previous chapter. We can use this again!\n",
        "\n",
        "You can define a `Categorical` object by passing in `logits` (the output of the actor network), and then you can:\n",
        "\n",
        "* Sample from it using the `sample` method,\n",
        "* Calculate the logprobs of a given action using the `log_prob` method (with the actions you took as input argument to this method).\n",
        "</details>\n",
        "\n",
        "For this exercise and others to follow, there's a trade-off in the test functions between being strict and being lax. Too lax and the tests will let failures pass; too strict and they might fail for odd reasons even if your code is mostly correct. If you find youself continually failing tests then you should ask a TA for help.\n",
        "\n",
        "**Note** - `PPOAgent` subclasses `nn.Module` so that we can call `agent.parameters()` to get the parameters of the actor and critic networks, and feed these params into our optimizer.\n"
      ]
    },
    {
      "cell_type": "code",
      "execution_count": null,
      "metadata": {
        "id": "N8tXbSs6JWg-"
      },
      "outputs": [],
      "source": [
        "class PPOAgent(nn.Module):\n",
        "    critic: nn.Sequential\n",
        "    actor: nn.Sequential\n",
        "\n",
        "    def __init__(self, args: PPOArgs, envs: gym.vector.SyncVectorEnv):\n",
        "        super().__init__()\n",
        "        self.args = args\n",
        "        self.envs = envs\n",
        "        self.num_envs = envs.num_envs\n",
        "        self.obs_shape = envs.single_observation_space.shape\n",
        "        self.num_obs = np.array(self.obs_shape).prod()\n",
        "        self.num_actions = envs.single_action_space.n\n",
        "\n",
        "        # Keep track of global number of steps taken by agent\n",
        "        self.steps = 0\n",
        "        # Define actor and critic (using our previous methods)\n",
        "        self.actor, self.critic = get_actor_and_critic(envs)\n",
        "\n",
        "        # Define our first (obs, done, value), so we can start adding experiences to our replay buffer\n",
        "        self.next_obs = t.tensor(self.envs.reset()).to(device)\n",
        "        self.next_done = t.zeros(self.envs.num_envs).to(device, dtype=t.float)\n",
        "\n",
        "        # Create our replay buffer\n",
        "        self.rb = ReplayBuffer(args, envs)\n",
        "\n",
        "\n",
        "    def play_step(self) -> List[dict]:\n",
        "        '''\n",
        "        Carries out a single interaction step between the agent and the environment, and adds results to the replay buffer.\n",
        "        '''\n",
        "        pass\n",
        "\n",
        "    def get_minibatches(self) -> None:\n",
        "        '''\n",
        "        Gets minibatches from the replay buffer.\n",
        "        '''\n",
        "        with t.inference_mode():\n",
        "            next_value = self.critic(self.next_obs).flatten()\n",
        "        return self.rb.get_minibatches(next_value, self.next_done)\n",
        "\n",
        "\n",
        "tests.test_ppo_agent(PPOAgent)"
      ]
    },
    {
      "cell_type": "markdown",
      "metadata": {
        "id": "EOZun09cJWg_"
      },
      "source": [
        "<details>\n",
        "<summary>Solution</summary>\n",
        "\n",
        "\n",
        "```python\n",
        "class PPOAgent(nn.Module):\n",
        "    critic: nn.Sequential\n",
        "    actor: nn.Sequential\n",
        "\n",
        "    def __init__(self, args: PPOArgs, envs: gym.vector.SyncVectorEnv):\n",
        "        super().__init__()\n",
        "        self.args = args\n",
        "        self.envs = envs\n",
        "        self.num_envs = envs.num_envs\n",
        "        self.obs_shape = envs.single_observation_space.shape\n",
        "        self.num_obs = np.array(self.obs_shape).prod()\n",
        "        self.num_actions = envs.single_action_space.n\n",
        "\n",
        "        # Keep track of global number of steps taken by agent\n",
        "        self.steps = 0\n",
        "        # Define actor and critic (using our previous methods)\n",
        "        self.actor, self.critic = get_actor_and_critic(envs)\n",
        "\n",
        "        # Define our first (obs, done, value), so we can start adding experiences to our replay buffer\n",
        "        self.next_obs = t.tensor(self.envs.reset()).to(device)\n",
        "        self.next_done = t.zeros(self.envs.num_envs).to(device, dtype=t.float)\n",
        "\n",
        "        # Create our replay buffer\n",
        "        self.rb = ReplayBuffer(args, envs)\n",
        "\n",
        "\n",
        "    def play_step(self) -> List[dict]:\n",
        "        '''\n",
        "        Carries out a single interaction step between the agent and the environment, and adds results to the replay buffer.\n",
        "        '''\n",
        "        # SOLUTION\n",
        "        obs = self.next_obs\n",
        "        dones = self.next_done\n",
        "        with t.inference_mode():\n",
        "            values = self.critic(obs).flatten()\n",
        "            logits = self.actor(obs)\n",
        "\n",
        "        probs = Categorical(logits=logits)\n",
        "        actions = probs.sample()\n",
        "        logprobs = probs.log_prob(actions)\n",
        "        next_obs, rewards, next_dones, infos = self.envs.step(actions.cpu().numpy())\n",
        "        rewards = t.from_numpy(rewards).to(device)\n",
        "\n",
        "        # (s_t, a_t, r_t+1, d_t, logpi(a_t|s_t), v(s_t))\n",
        "        self.rb.add(obs, actions, rewards, dones, logprobs, values)\n",
        "\n",
        "        self.next_obs = t.from_numpy(next_obs).to(device)\n",
        "        self.next_done = t.from_numpy(next_dones).to(device, dtype=t.float)\n",
        "        self.steps += self.num_envs\n",
        "\n",
        "        return infos\n",
        "\n",
        "\n",
        "    def get_minibatches(self) -> None:\n",
        "        '''\n",
        "        Gets minibatches from the replay buffer.\n",
        "        '''\n",
        "        with t.inference_mode():\n",
        "            next_value = self.critic(self.next_obs).flatten()\n",
        "        return self.rb.get_minibatches(next_value, self.next_done)\n",
        "```\n",
        "</details>\n"
      ]
    },
    {
      "cell_type": "markdown",
      "metadata": {
        "id": "of0he7AXJWg_"
      },
      "source": [
        "# 2️⃣ Learning Phase\n"
      ]
    },
    {
      "cell_type": "markdown",
      "metadata": {
        "id": "HeT_KyAyJWhA"
      },
      "source": [
        "> ##### Learning objectives\n",
        ">\n",
        "> * Implement the total objective function (sum of three separate terms)\n",
        "> * Understand the importance of each of these terms for the overall algorithm\n",
        "> * Write a function to return an optimizer and learning rate scheduler for your model\n"
      ]
    },
    {
      "cell_type": "markdown",
      "metadata": {
        "id": "CX8tmxylJWhA"
      },
      "source": [
        "In the last section, we wrote a lot of setup code (including handling most of how our rollout phase will work). Next, we'll turn to the learning phase.\n",
        "\n",
        "In the next exercises, you'll write code to compute your total objective function. This is given by equation $(9)$ in the paper, and is the sum of three terms - we'll implement each one individually.\n"
      ]
    },
    {
      "cell_type": "markdown",
      "metadata": {
        "id": "noG-euEmJWhA"
      },
      "source": [
        "Note - the convention we've used in these exercises for signs is that **your function outputs should be the expressions in equation $(9)$**, in other words you will compute $L_t^{CLIP}(\\theta)$, $c_1 L_t^{VF}(\\theta)$ and $c_2 S[\\pi_\\theta](s_t)$. We will then perform **gradient ascent** by passing `maximize=True` into our optimizers. An equally valid solution would be to just return the negative of the objective function.\n"
      ]
    },
    {
      "cell_type": "markdown",
      "metadata": {
        "id": "9VVDhzDyJWhA"
      },
      "source": [
        "## Objective function\n"
      ]
    },
    {
      "cell_type": "markdown",
      "metadata": {
        "id": "_4USgsgzJWhB"
      },
      "source": [
        "### Clipped Surrogate Objective\n",
        "\n",
        "For each minibatch, calculate $L^{CLIP}$ from equation $(7)$ in the paper. This will allow us to improve the parameters of our actor.\n",
        "\n",
        "Note - in the paper, don't confuse $r_{t}$ which is reward at time $t$ with $r_{t}(\\theta)$, which is the probability ratio between the current policy (output of the actor) and the old policy (stored in `mb_logprobs`).\n",
        "\n",
        "Pay attention to the normalization instructions in [detail #7](https://iclr-blog-track.github.io/2022/03/25/ppo-implementation-details/#:~:text=Normalization%20of%20Advantages) when implementing this loss function. They add a value of `eps = 1e-8` to the denominator to avoid division by zero, you should also do this.\n",
        "\n",
        "You can use the `probs.log_prob` method to get the log probabilities that correspond to the actions in `mb_action`.\n",
        "\n",
        "Note - if you're wondering why we're using a `Categorical` type rather than just using `log_prob` directly, it's because we'll be using them to sample actions later on in our `train_ppo` function. Also, categoricals have a useful method for returning the entropy of a distribution (which will be useful for the entropy term in the loss function).\n"
      ]
    },
    {
      "cell_type": "code",
      "execution_count": null,
      "metadata": {
        "id": "WdkxN40DJWhB"
      },
      "outputs": [],
      "source": [
        "def calc_clipped_surrogate_objective(\n",
        "    probs: Categorical,\n",
        "    mb_action: Int[Tensor, \"minibatch_size\"],\n",
        "    mb_advantages: Float[Tensor, \"minibatch_size\"],\n",
        "    mb_logprobs: Float[Tensor, \"minibatch_size\"],\n",
        "    clip_coef: float,\n",
        "    eps: float = 1e-8\n",
        ") -> Float[Tensor, \"\"]:\n",
        "    '''Return the clipped surrogate objective, suitable for maximisation with gradient ascent.\n",
        "\n",
        "    probs:\n",
        "        a distribution containing the actor's unnormalized logits of shape (minibatch_size, num_actions)\n",
        "    mb_action:\n",
        "        what actions actions were taken in the sampled minibatch\n",
        "    mb_advantages:\n",
        "        advantages calculated from the sampled minibatch\n",
        "    mb_logprobs:\n",
        "        logprobs of the actions taken in the sampled minibatch (according to the old policy)\n",
        "    clip_coef:\n",
        "        amount of clipping, denoted by epsilon in Eq 7.\n",
        "    eps:\n",
        "        used to add to std dev of mb_advantages when normalizing (to avoid dividing by zero)\n",
        "    '''\n",
        "    assert mb_action.shape == mb_advantages.shape == mb_logprobs.shape\n",
        "    pass\n",
        "\n",
        "tests.test_calc_clipped_surrogate_objective(calc_clipped_surrogate_objective)"
      ]
    },
    {
      "cell_type": "markdown",
      "metadata": {
        "id": "woUS8KF-JWhB"
      },
      "source": [
        "<details>\n",
        "<summary>Solution</summary>\n",
        "\n",
        "\n",
        "```python\n",
        "def calc_clipped_surrogate_objective(\n",
        "    probs: Categorical,\n",
        "    mb_action: Int[Tensor, \"minibatch_size\"],\n",
        "    mb_advantages: Float[Tensor, \"minibatch_size\"],\n",
        "    mb_logprobs: Float[Tensor, \"minibatch_size\"],\n",
        "    clip_coef: float,\n",
        "    eps: float = 1e-8\n",
        ") -> Float[Tensor, \"\"]:\n",
        "    '''Return the clipped surrogate objective, suitable for maximisation with gradient ascent.\n",
        "\n",
        "    probs:\n",
        "        a distribution containing the actor's unnormalized logits of shape (minibatch_size, num_actions)\n",
        "    mb_action:\n",
        "        what actions actions were taken in the sampled minibatch\n",
        "    mb_advantages:\n",
        "        advantages calculated from the sampled minibatch\n",
        "    mb_logprobs:\n",
        "        logprobs of the actions taken in the sampled minibatch (according to the old policy)\n",
        "    clip_coef:\n",
        "        amount of clipping, denoted by epsilon in Eq 7.\n",
        "    eps:\n",
        "        used to add to std dev of mb_advantages when normalizing (to avoid dividing by zero)\n",
        "    '''\n",
        "    assert mb_action.shape == mb_advantages.shape == mb_logprobs.shape\n",
        "    # SOLUTION\n",
        "    logits_diff = probs.log_prob(mb_action) - mb_logprobs\n",
        "\n",
        "    r_theta = t.exp(logits_diff)\n",
        "\n",
        "    mb_advantages = (mb_advantages - mb_advantages.mean()) / (mb_advantages.std() + eps)\n",
        "\n",
        "    non_clipped = r_theta * mb_advantages\n",
        "    clipped = t.clip(r_theta, 1-clip_coef, 1+clip_coef) * mb_advantages\n",
        "\n",
        "    return t.minimum(non_clipped, clipped).mean()\n",
        "```\n",
        "</details>\n"
      ]
    },
    {
      "cell_type": "markdown",
      "metadata": {
        "id": "No9cPNUhJWhC"
      },
      "source": [
        "### Value Function Loss ([detail #9](https://iclr-blog-track.github.io/2022/03/25/ppo-implementation-details/#:~:text=Value%20Function%20Loss%20Clipping))\n",
        "\n",
        "The value function loss lets us improve the parameters of our critic. Today we're going to implement the simple form: this is just 1/2 the mean squared difference between the following two terms:\n",
        "\n",
        "* The **critic's prediction**\n",
        "    * This is $V_\\theta(s_t)$ in the paper, and `values` in the diagram earlier (colored blue).\n",
        "* The **observed returns**\n",
        "    * This is $V_t^\\text{targ}$ in the paper, and `returns` in the diagram earlier (colored yellow).\n",
        "    * We defined it as `advantages + values`, where in this case `values` is the item stored in memory rather than the one computed by our network during the learning phase. We can interpret `returns` as a more accurate estimate of values, since the `advantages` term takes into account the rewards $r_{t+1}, r_{t+2}, ...$ which our agent actually accumulated.\n",
        "\n",
        "The PPO paper did a more complicated thing with clipping, but we're going to deviate from the paper and NOT clip, since [detail #9](https://iclr-blog-track.github.io/2022/03/25/ppo-implementation-details/#:~:text=Value%20Function%20Loss%20Clipping) gives evidence that it isn't beneficial.\n"
      ]
    },
    {
      "cell_type": "markdown",
      "metadata": {
        "id": "-dViv1vaJWhC"
      },
      "source": [
        "### Exercise - implement `calc_value_function_loss`\n",
        "\n",
        "```c\n",
        "Difficulty: 🟠🟠⚪⚪⚪\n",
        "Importance: 🟠🟠🟠⚪⚪\n",
        "\n",
        "You should spend up to ~10 minutes on this exercise.\n",
        "```\n",
        "\n",
        "Implement `calc_value_function_loss` which returns the term denoted $c_1 L_t^{VF}$ in equation $(9)$.\n"
      ]
    },
    {
      "cell_type": "code",
      "execution_count": null,
      "metadata": {
        "id": "xwB30sxvJWhC"
      },
      "outputs": [],
      "source": [
        "def calc_value_function_loss(\n",
        "    values: Float[Tensor, \"minibatch_size\"],\n",
        "    mb_returns: Float[Tensor, \"minibatch_size\"],\n",
        "    vf_coef: float\n",
        ") -> Float[Tensor, \"\"]:\n",
        "    '''Compute the value function portion of the loss function.\n",
        "\n",
        "    values:\n",
        "        the value function predictions for the sampled minibatch (using the updated critic network)\n",
        "    mb_returns:\n",
        "        the target for our updated critic network (computed as `advantages + values` from the old network)\n",
        "    vf_coef:\n",
        "        the coefficient for the value loss, which weights its contribution to the overall loss. Denoted by c_1 in the paper.\n",
        "    '''\n",
        "    assert values.shape == mb_returns.shape\n",
        "    pass\n",
        "\n",
        "tests.test_calc_value_function_loss(calc_value_function_loss)"
      ]
    },
    {
      "cell_type": "markdown",
      "metadata": {
        "id": "XyDeqAVOJWhC"
      },
      "source": [
        "<details>\n",
        "<summary>Solution</summary>\n",
        "\n",
        "\n",
        "```python\n",
        "def calc_value_function_loss(\n",
        "    values: Float[Tensor, \"minibatch_size\"],\n",
        "    mb_returns: Float[Tensor, \"minibatch_size\"],\n",
        "    vf_coef: float\n",
        ") -> Float[Tensor, \"\"]:\n",
        "    '''Compute the value function portion of the loss function.\n",
        "\n",
        "    values:\n",
        "        the value function predictions for the sampled minibatch (using the updated critic network)\n",
        "    mb_returns:\n",
        "        the target for our updated critic network (computed as `advantages + values` from the old network)\n",
        "    vf_coef:\n",
        "        the coefficient for the value loss, which weights its contribution to the overall loss. Denoted by c_1 in the paper.\n",
        "    '''\n",
        "    assert values.shape == mb_returns.shape\n",
        "    # SOLUTION\n",
        "    return 0.5 * vf_coef * (values - mb_returns).pow(2).mean()\n",
        "```\n",
        "</details>\n"
      ]
    },
    {
      "cell_type": "markdown",
      "metadata": {
        "id": "k0VJKJ3pJWhD"
      },
      "source": [
        "### Entropy Bonus ([detail #10](https://iclr-blog-track.github.io/2022/03/25/ppo-implementation-details/#:~:text=Overall%20Loss%20and%20Entropy%20Bonus))\n",
        "\n",
        "The entropy bonus term is intended to incentivize exploration by increasing the entropy of the actions distribution. For a discrete probability distribution $p$, the entropy $H$ is defined as\n",
        "$$\n",
        "H(p) = \\sum_x p(x) \\ln \\frac{1}{p(x)}\n",
        "$$\n",
        "If $p(x) = 0$, then we define $0 \\ln \\frac{1}{0} := 0$ (by taking the limit as $p(x) \\to 0$).\n",
        "You should understand what entropy of a discrete distribution means, but you don't have to implement it yourself: `probs.entropy` computes it using the above formula but in a numerically stable way, and in\n",
        "a way that handles the case where $p(x) = 0$.\n",
        "\n",
        "Question: in CartPole, what are the minimum and maximum values that entropy can take? What behaviors correspond to each of these cases?\n",
        "\n",
        "<details>\n",
        "<summary>Answer</summary>\n",
        "\n",
        "The minimum entropy is zero, under the policy \"always move left\" or \"always move right\".\n",
        "\n",
        "The maximum entropy is $\\ln(2) \\approx 0.693$ under the uniform random policy over the 2 actions.\n",
        "</details>\n",
        "\n",
        "Separately from its role in the loss function, the entropy of our action distribution is a useful diagnostic to have: if the entropy of agent's actions is near the maximum, it's playing nearly randomly which means it isn't learning anything (assuming the optimal policy isn't random). If it is near the minimum especially early in training, then the agent might not be exploring enough.\n"
      ]
    },
    {
      "cell_type": "markdown",
      "metadata": {
        "id": "C7X0Z-j-JWhD"
      },
      "source": [
        "### Exercise - implement `calc_entropy_bonus`\n",
        "\n",
        "```c\n",
        "Difficulty: 🟠🟠⚪⚪⚪\n",
        "Importance: 🟠🟠🟠⚪⚪\n",
        "\n",
        "You should spend up to ~10 minutes on this exercise.\n",
        "```\n"
      ]
    },
    {
      "cell_type": "code",
      "execution_count": null,
      "metadata": {
        "id": "-lRxHI41JWhD"
      },
      "outputs": [],
      "source": [
        "def calc_entropy_bonus(probs: Categorical, ent_coef: float):\n",
        "    '''Return the entropy bonus term, suitable for gradient ascent.\n",
        "\n",
        "    probs:\n",
        "        the probability distribution for the current policy\n",
        "    ent_coef:\n",
        "        the coefficient for the entropy loss, which weights its contribution to the overall objective function. Denoted by c_2 in the paper.\n",
        "    '''\n",
        "    pass\n",
        "\n",
        "tests.test_calc_entropy_bonus(calc_entropy_bonus)"
      ]
    },
    {
      "cell_type": "markdown",
      "metadata": {
        "id": "cgSOsJjWJWhD"
      },
      "source": [
        "<details>\n",
        "<summary>Solution</summary>\n",
        "\n",
        "\n",
        "```python\n",
        "def calc_entropy_bonus(probs: Categorical, ent_coef: float):\n",
        "    '''Return the entropy bonus term, suitable for gradient ascent.\n",
        "\n",
        "    probs:\n",
        "        the probability distribution for the current policy\n",
        "    ent_coef:\n",
        "        the coefficient for the entropy loss, which weights its contribution to the overall objective function. Denoted by c_2 in the paper.\n",
        "    '''\n",
        "    # SOLUTION\n",
        "    return ent_coef * probs.entropy().mean()\n",
        "```\n",
        "</details>\n"
      ]
    },
    {
      "cell_type": "markdown",
      "metadata": {
        "id": "VyaG08RtJWhE"
      },
      "source": [
        "## Adam Optimizer and Scheduler (details [#3](https://iclr-blog-track.github.io/2022/03/25/ppo-implementation-details/#:~:text=The%20Adam%20Optimizer%E2%80%99s%20Epsilon%20Parameter) and [#4](https://iclr-blog-track.github.io/2022/03/25/ppo-implementation-details/#:~:text=Adam%20Learning%20Rate%20Annealing))\n",
        "\n",
        "Even though Adam is already an adaptive learning rate optimizer, empirically it's still beneficial to decay the learning rate.\n",
        "\n",
        "Implement a linear decay from `initial_lr` to `end_lr` over `total_training_steps` steps. Also, make sure you read details details [#3](https://iclr-blog-track.github.io/2022/03/25/ppo-implementation-details/#:~:text=The%20Adam%20Optimizer%E2%80%99s%20Epsilon%20Parameter) and [#4](https://iclr-blog-track.github.io/2022/03/25/ppo-implementation-details/#:~:text=Adam%20Learning%20Rate%20Annealing) so you don't miss any of the Adam implementational details.\n",
        "\n",
        "Note, the training terminates after `num_updates`, so you don't need to worry about what the learning rate will be after this point.\n"
      ]
    },
    {
      "cell_type": "markdown",
      "metadata": {
        "id": "FsHpVE0yJWhE"
      },
      "source": [
        "### Exercise - implement `PPOScheduler`\n",
        "\n",
        "```c\n",
        "Difficulty: 🟠🟠🟠⚪⚪\n",
        "Importance: 🟠🟠⚪⚪⚪\n",
        "\n",
        "You should spend up to 10-15 minutes on this exercise.\n",
        "```\n"
      ]
    },
    {
      "cell_type": "code",
      "execution_count": null,
      "metadata": {
        "id": "IgOCcfPcJWhE"
      },
      "outputs": [],
      "source": [
        "class PPOScheduler:\n",
        "    def __init__(self, optimizer: Optimizer, initial_lr: float, end_lr: float, total_training_steps: int):\n",
        "        self.optimizer = optimizer\n",
        "        self.initial_lr = initial_lr\n",
        "        self.end_lr = end_lr\n",
        "        self.total_training_steps = total_training_steps\n",
        "        self.n_step_calls = 0\n",
        "\n",
        "    def step(self):\n",
        "        '''Implement linear learning rate decay so that after total_training_steps calls to step, the learning rate is end_lr.\n",
        "        '''\n",
        "        pass\n",
        "\n",
        "def make_optimizer(agent: PPOAgent, total_training_steps: int, initial_lr: float, end_lr: float) -> tuple[optim.Adam, PPOScheduler]:\n",
        "    '''Return an appropriately configured Adam with its attached scheduler.'''\n",
        "    optimizer = optim.Adam(agent.parameters(), lr=initial_lr, eps=1e-5, maximize=True)\n",
        "    scheduler = PPOScheduler(optimizer, initial_lr, end_lr, total_training_steps)\n",
        "    return (optimizer, scheduler)\n",
        "\n",
        "\n",
        "tests.test_ppo_scheduler(PPOScheduler)"
      ]
    },
    {
      "cell_type": "markdown",
      "metadata": {
        "id": "auxI28VlJWhE"
      },
      "source": [
        "<details>\n",
        "<summary>Solution</summary>\n",
        "\n",
        "\n",
        "```python\n",
        "class PPOScheduler:\n",
        "    def __init__(self, optimizer: Optimizer, initial_lr: float, end_lr: float, total_training_steps: int):\n",
        "        self.optimizer = optimizer\n",
        "        self.initial_lr = initial_lr\n",
        "        self.end_lr = end_lr\n",
        "        self.total_training_steps = total_training_steps\n",
        "        self.n_step_calls = 0\n",
        "\n",
        "    def step(self):\n",
        "        '''Implement linear learning rate decay so that after total_training_steps calls to step, the learning rate is end_lr.\n",
        "        '''\n",
        "        # SOLUTION\n",
        "        self.n_step_calls += 1\n",
        "        frac = self.n_step_calls / self.total_training_steps\n",
        "        assert frac <= 1\n",
        "        for param_group in self.optimizer.param_groups:\n",
        "            param_group[\"lr\"] = self.initial_lr + frac * (self.end_lr - self.initial_lr)\n",
        "\n",
        "\n",
        "def make_optimizer(agent: PPOAgent, total_training_steps: int, initial_lr: float, end_lr: float) -> tuple[optim.Adam, PPOScheduler]:\n",
        "    '''Return an appropriately configured Adam with its attached scheduler.'''\n",
        "    optimizer = optim.Adam(agent.parameters(), lr=initial_lr, eps=1e-5, maximize=True)\n",
        "    scheduler = PPOScheduler(optimizer, initial_lr, end_lr, total_training_steps)\n",
        "    return (optimizer, scheduler)\n",
        "```\n",
        "</details>\n"
      ]
    },
    {
      "cell_type": "markdown",
      "metadata": {
        "id": "assWbK1pJWhE"
      },
      "source": [
        "# 3️⃣ Training Loop\n"
      ]
    },
    {
      "cell_type": "markdown",
      "metadata": {
        "id": "6Fskl7T7JWhF"
      },
      "source": [
        "> ##### Learning objectives\n",
        ">\n",
        "> * Build a full training loop for the PPO algorithm\n",
        "> * Train our agent, and visualise its performance with Weights & Biases media logger\n",
        "> * Use reward shaping to improve your agent's training (and make it do tricks!)\n"
      ]
    },
    {
      "cell_type": "markdown",
      "metadata": {
        "id": "Jjk2XW_KJWhF"
      },
      "source": [
        "## Writing your training loop\n"
      ]
    },
    {
      "cell_type": "markdown",
      "metadata": {
        "id": "UiwgCy1pJWhF"
      },
      "source": [
        "Finally, we can package this all together into our full training loop.\n",
        "\n",
        "For a suggested implementation, please refer back to the diagram at the homepage of these exercises (pasted again below for convenience).\n",
        "\n",
        "<img src=\"https://raw.githubusercontent.com/callummcdougall/computational-thread-art/master/example_images/misc/ppo-alg-objects-6.png\" width=\"1300\">\n",
        "\n",
        "Under this implementation, you have two main methods to implement - `rollout_phase` and `learning_phase`. These will do the following:\n",
        "\n",
        "* `rollout_phase`\n",
        "    * Step the agent through the environment for `args.num_steps` steps, collecting data into the replay buffer.\n",
        "    * If using `wandb`, log any relevant variables.\n",
        "* `learning_phase`\n",
        "    * Sample from the replay buffer using `agent.get_minibatches()` (which returns a list of minibatches).\n",
        "    * Iterate over these minibatches, and for each minibatch:\n",
        "        * Calculate the total objective function.\n",
        "        * Backpropagate the loss.\n",
        "        * Update the agent's parameters using the optimizer.\n",
        "        * **Clip the gradients** in accordance with [detail #11](https://iclr-blog-track.github.io/2022/03/25/ppo-implementation-details/#:~:text=Global%20Gradient%20Clipping%20)\n",
        "        * Step the scheduler.\n",
        "    * If using `wandb`, log any relevant variables.\n",
        "\n",
        "A few notes to help you:\n",
        "\n",
        "* The `agent.get_minibatches()` function empties the list of experiences stored in the replay buffer, so you don't need to worry about doing this manually.\n",
        "* You can log variables using `wandb.log({\"variable_name\": variable_value}, steps=steps)`.\n",
        "* The `agent.play_step()` method returns a list of dictionaries containing data about the current run. If the agent terminated at that step, then the dictionary will contain `{\"episode\": {\"l\": episode_length, \"r\": episode_reward}}`.\n",
        "* You might want to create a separate method like `_compute_ppo_objective(minibatch)` which returns the objective function (to keep your code clean for the `learning_phase` method).\n",
        "* For clipping gradients, you can use `nn.utils.clip_grad_norm(parameters, max_norm)` (see [here](https://pytorch.org/docs/stable/generated/torch.nn.utils.clip_grad_norm_.html) for more details).\n",
        "\n",
        "Finally, you'll put this all together into a training loop. Very roughly, this should look like:\n",
        "\n",
        "```python\n",
        "# initialise PPOArgs and PPOTrainer objects\n",
        "for epoch in args.total_epochs:\n",
        "    trainer.rollout_phase()\n",
        "    trainer.learning_phase()\n",
        "    # log any relevant variables\n",
        "```\n",
        "\n",
        "As an indication, the solution's implementation (ignoring logging) has the following properties:\n",
        "* 2 lines for `rollout_phase`\n",
        "* 8 lines for `learning_phase`\n",
        "* 8 lines for `_compute_ppo_objective`\n",
        "* 5 lines for the full training loop\n",
        "\n",
        "### Logging\n",
        "\n",
        "You should only focus on logging once you've got a mininal version of the code working. Once you do, you can try logging variables in the way described by [detail #12](https://iclr-blog-track.github.io/2022/03/25/ppo-implementation-details/#:~:text=Debug%20variables). This will involve adding code to the `rollout_phase` and `learning_phase` methods.\n"
      ]
    },
    {
      "cell_type": "markdown",
      "metadata": {
        "id": "5p8bjyP_JWhF"
      },
      "source": [
        "### Exercise - complete the `PPOTrainer` class\n",
        "\n",
        "```c\n",
        "Difficulty: 🟠🟠🟠🟠🟠\n",
        "Importance: 🟠🟠🟠🟠🟠\n",
        "\n",
        "You should spend up to 30-60 minutes on this exercise (including logging).\n",
        "```\n",
        "\n",
        "If you get stuck at any point during this implementation, please ask a TA for help!\n"
      ]
    },
    {
      "cell_type": "code",
      "execution_count": null,
      "metadata": {
        "id": "kcDxDFKBJWhG"
      },
      "outputs": [],
      "source": [
        "class PPOTrainer:\n",
        "\n",
        "    def __init__(self, args: PPOArgs):\n",
        "        super().__init__()\n",
        "        self.args = args\n",
        "        set_global_seeds(args.seed)\n",
        "        self.run_name = f\"{args.env_id}__{args.exp_name}__{args.seed}__{int(time.time())}\"\n",
        "        self.envs = gym.vector.SyncVectorEnv([make_env(args.env_id, args.seed + i, i, args.capture_video, self.run_name) for i in range(args.num_envs)])\n",
        "        self.agent = PPOAgent(self.args, self.envs).to(device)\n",
        "        self.optimizer, self.scheduler = make_optimizer(self.agent, self.args.total_training_steps, self.args.learning_rate, 0.0)\n",
        "        if args.use_wandb:\n",
        "            wandb.init(project=args.wandb_project_name, entity=args.wandb_entity, name=self.run_name)\n",
        "            wandb.gym.monitor()\n",
        "\n",
        "\n",
        "    def rollout_phase(self):\n",
        "        '''Should populate the replay buffer with new experiences.'''\n",
        "        pass\n",
        "\n",
        "    def learning_phase(self) -> None:\n",
        "        '''Should get minibatches and iterate through them (performing an optimizer step at each one).'''\n",
        "        pass\n",
        "\n",
        "    def _compute_ppo_objective(self, minibatch: ReplayBufferSamples) -> Float[Tensor, \"\"]:\n",
        "        '''Handles learning phase for a single minibatch. Returns objective function to be maximized.'''\n",
        "        logits = self.agent.actor(minibatch.obs)\n",
        "        probs = Categorical(logits=logits)\n",
        "        values = self.agent.critic(minibatch.obs).squeeze()\n",
        "\n",
        "        clipped_surrogate_objective = calc_clipped_surrogate_objective(probs, minibatch.actions, minibatch.advantages, minibatch.logprobs, self.args.clip_coef)\n",
        "        value_loss = calc_value_function_loss(values, minibatch.returns, self.args.vf_coef)\n",
        "        entropy_bonus = calc_entropy_bonus(probs, self.args.ent_coef)\n",
        "\n",
        "        total_objective_function = clipped_surrogate_objective - value_loss + entropy_bonus\n",
        "\n",
        "        with t.inference_mode():\n",
        "            newlogprob = probs.log_prob(minibatch.actions)\n",
        "            logratio = newlogprob - minibatch.logprobs\n",
        "            ratio = logratio.exp()\n",
        "            approx_kl = (ratio - 1 - logratio).mean().item()\n",
        "            clipfracs = [((ratio - 1.0).abs() > self.args.clip_coef).float().mean().item()]\n",
        "        wandb.log(dict(\n",
        "            total_steps = self.agent.steps,\n",
        "            values = values.mean().item(),\n",
        "            learning_rate = self.scheduler.optimizer.param_groups[0][\"lr\"],\n",
        "            value_loss = value_loss.item(),\n",
        "            clipped_surrogate_objective = clipped_surrogate_objective.item(),\n",
        "            entropy = entropy_bonus.item(),\n",
        "            approx_kl = approx_kl,\n",
        "            clipfrac = np.mean(clipfracs)\n",
        "        ), step=self.agent.steps)\n",
        "\n",
        "        return total_objective_function\n",
        "\n",
        "\n",
        "\n",
        "def train(args: PPOArgs) -> PPOAgent:\n",
        "    '''Implements training loop, used like: agent = train(args)'''\n",
        "\n",
        "    trainer = PPOTrainer(args)\n",
        "\n",
        "    progress_bar = tqdm(range(args.total_epochs))\n",
        "\n",
        "    for epoch in progress_bar:\n",
        "        last_episode_len = trainer.rollout_phase()\n",
        "        if last_episode_len is not None:\n",
        "            progress_bar.set_description(f\"Epoch {epoch:02}, Episode length: {last_episode_len}\")\n",
        "\n",
        "        trainer.learning_phase()\n",
        "\n",
        "    args = PPOArgs()\n",
        "\n",
        "    return trainer.agent"
      ]
    },
    {
      "cell_type": "markdown",
      "metadata": {
        "id": "Q0i-JDYPJWhG"
      },
      "source": [
        "<details>\n",
        "<summary>Solution</summary>\n",
        "\n",
        "\n",
        "```python\n",
        "class PPOTrainer:\n",
        "\n",
        "    def __init__(self, args: PPOArgs):\n",
        "        super().__init__()\n",
        "        self.args = args\n",
        "        set_global_seeds(args.seed)\n",
        "        self.run_name = f\"{args.env_id}__{args.exp_name}__{args.seed}__{int(time.time())}\"\n",
        "        self.envs = gym.vector.SyncVectorEnv([make_env(args.env_id, args.seed + i, i, args.capture_video, self.run_name) for i in range(args.num_envs)])\n",
        "        self.agent = PPOAgent(self.args, self.envs).to(device)\n",
        "        self.optimizer, self.scheduler = make_optimizer(self.agent, self.args.total_training_steps, self.args.learning_rate, 0.0)\n",
        "        if args.use_wandb:\n",
        "            wandb.init(project=args.wandb_project_name, entity=args.wandb_entity, name=self.run_name)\n",
        "            wandb.gym.monitor()\n",
        "\n",
        "\n",
        "    def rollout_phase(self):\n",
        "        '''Should populate the replay buffer with new experiences.'''\n",
        "        # SOLUTION\n",
        "        last_episode_len = None\n",
        "        for step in range(self.args.num_steps):\n",
        "            infos = self.agent.play_step()\n",
        "            for info in infos:\n",
        "                if \"episode\" in info.keys():\n",
        "                    last_episode_len = info[\"episode\"][\"l\"]\n",
        "                    last_episode_return = info[\"episode\"][\"r\"]\n",
        "                    if args.use_wandb: wandb.log({\n",
        "                        \"episode_length\": last_episode_len,\n",
        "                        \"episode_return\": last_episode_return,\n",
        "                    }, step=self.agent.steps)\n",
        "        return last_episode_len\n",
        "\n",
        "\n",
        "    def learning_phase(self) -> None:\n",
        "        '''Should get minibatches and iterate through them (performing an optimizer step at each one).'''\n",
        "        # SOLUTION\n",
        "        minibatches = self.agent.get_minibatches()\n",
        "        for minibatch in minibatches:\n",
        "            objective_fn = self._compute_ppo_objective(minibatch)\n",
        "            objective_fn.backward()\n",
        "            nn.utils.clip_grad_norm_(self.agent.parameters(), args.max_grad_norm)\n",
        "            self.optimizer.step()\n",
        "            self.optimizer.zero_grad()\n",
        "            self.scheduler.step()\n",
        "\n",
        "\n",
        "    def _compute_ppo_objective(self, minibatch: ReplayBufferSamples) -> Float[Tensor, \"\"]:\n",
        "        '''Handles learning phase for a single minibatch. Returns objective function to be maximized.'''\n",
        "        logits = self.agent.actor(minibatch.obs)\n",
        "        probs = Categorical(logits=logits)\n",
        "        values = self.agent.critic(minibatch.obs).squeeze()\n",
        "\n",
        "        clipped_surrogate_objective = calc_clipped_surrogate_objective(probs, minibatch.actions, minibatch.advantages, minibatch.logprobs, self.args.clip_coef)\n",
        "        value_loss = calc_value_function_loss(values, minibatch.returns, self.args.vf_coef)\n",
        "        entropy_bonus = calc_entropy_bonus(probs, self.args.ent_coef)\n",
        "\n",
        "        total_objective_function = clipped_surrogate_objective - value_loss + entropy_bonus\n",
        "\n",
        "        with t.inference_mode():\n",
        "            newlogprob = probs.log_prob(minibatch.actions)\n",
        "            logratio = newlogprob - minibatch.logprobs\n",
        "            ratio = logratio.exp()\n",
        "            approx_kl = (ratio - 1 - logratio).mean().item()\n",
        "            clipfracs = [((ratio - 1.0).abs() > self.args.clip_coef).float().mean().item()]\n",
        "        wandb.log(dict(\n",
        "            total_steps = self.agent.steps,\n",
        "            values = values.mean().item(),\n",
        "            learning_rate = self.scheduler.optimizer.param_groups[0][\"lr\"],\n",
        "            value_loss = value_loss.item(),\n",
        "            clipped_surrogate_objective = clipped_surrogate_objective.item(),\n",
        "            entropy = entropy_bonus.item(),\n",
        "            approx_kl = approx_kl,\n",
        "            clipfrac = np.mean(clipfracs)\n",
        "        ), step=self.agent.steps)\n",
        "\n",
        "        return total_objective_function\n",
        "\n",
        "\n",
        "\n",
        "def train(args: PPOArgs) -> PPOAgent:\n",
        "    '''Implements training loop, used like: agent = train(args)'''\n",
        "\n",
        "    trainer = PPOTrainer(args)\n",
        "\n",
        "    progress_bar = tqdm(range(args.total_epochs))\n",
        "\n",
        "    for epoch in progress_bar:\n",
        "        last_episode_len = trainer.rollout_phase()\n",
        "        if last_episode_len is not None:\n",
        "            progress_bar.set_description(f\"Epoch {epoch:02}, Episode length: {last_episode_len}\")\n",
        "\n",
        "        trainer.learning_phase()\n",
        "\n",
        "    args = PPOArgs()\n",
        "\n",
        "    return trainer.agent\n",
        "```\n",
        "</details>\n",
        "\n",
        "Here's some code to run your model on the probe environments (and assert that they're all working fine).\n"
      ]
    },
    {
      "cell_type": "code",
      "execution_count": null,
      "metadata": {
        "id": "kz94FfFXJWhH"
      },
      "outputs": [],
      "source": [
        "def test_probe(probe_idx: int):\n",
        "\n",
        "    # Define a set of arguments for our probe experiment\n",
        "    args = PPOArgs(\n",
        "        env_id=f\"Probe{probe_idx}-v0\",\n",
        "        exp_name=f\"test-probe-{probe_idx}\",\n",
        "        total_timesteps=[10000, 10000, 10000, 35000, 50000][probe_idx-1],\n",
        "        learning_rate=0.001,\n",
        "        capture_video=False,\n",
        "        use_wandb=False,\n",
        "    )\n",
        "\n",
        "    # YOUR CODE HERE - create a PPOTrainer instance, and train your agent\n",
        "    agent = None\n",
        "\n",
        "    # Check that our final results were the ones we expected from this probe\n",
        "    obs_for_probes = [[[0.0]], [[-1.0], [+1.0]], [[0.0], [1.0]], [[0.0]], [[0.0], [1.0]]]\n",
        "    expected_value_for_probes = [[[1.0]], [[-1.0], [+1.0]], [[args.gamma], [1.0]], [[1.0]], [[1.0], [1.0]]]\n",
        "    expected_probs_for_probes = [None, None, None, [[0.0, 1.0]], [[1.0, 0.0], [0.0, 1.0]]]\n",
        "    tolerances = [5e-4, 5e-4, 5e-4, 1e-3, 1e-3]\n",
        "    obs = t.tensor(obs_for_probes[probe_idx-1]).to(device)\n",
        "    with t.inference_mode():\n",
        "        value = agent.critic(obs)\n",
        "        probs = agent.actor(obs).softmax(-1)\n",
        "    expected_value = t.tensor(expected_value_for_probes[probe_idx-1]).to(device)\n",
        "    t.testing.assert_close(value, expected_value, atol=tolerances[probe_idx-1], rtol=0)\n",
        "    expected_probs = expected_probs_for_probes[probe_idx-1]\n",
        "    if expected_probs is not None:\n",
        "        t.testing.assert_close(probs, t.tensor(expected_probs).to(device), atol=tolerances[probe_idx-1], rtol=0)\n",
        "    clear_output()\n",
        "    print(\"Probe tests passed!\")\n",
        "\n",
        "\n",
        "for probe_idx in range(4, 6):\n",
        "    test_probe(probe_idx)"
      ]
    },
    {
      "cell_type": "markdown",
      "metadata": {
        "id": "r27hHAEzJWhH"
      },
      "source": [
        "Once you've passed the tests for all 5 probe environments, you should test your model on Cartpole.\n",
        "\n",
        "<details>\n",
        "<summary>Question - if you've done this correctly (and logged everything), clipped surrogate objective will be close to zero. Should you infer from this that it's not important in the overall algorithm (compared to the components of the objective function which are larger)?</summary>\n",
        "\n",
        "No, this doesn't mean that it's not important.\n",
        "\n",
        "Clipped surrogate objective is a moving target. At each rollout phase, we generate new experiences, and the expected value of the clipped surrogate objective will be zero (because the expected value of advantages is zero). But this doesn't mean that differentiating clipped surrogate objective wrt the policy doesn't have a large gradient!\n",
        "\n",
        "As we make update steps in the learning phase, the policy values $\\pi(a_t \\mid s_t)$ will increase for actions which have positive advantages, and decrease for actions which have negative advantages, so the clipped surrogate objective will no longer be zero in expectation. But (thanks to the fact that we're clipping changes larger than $\\epsilon$) it will still be very small.\n",
        "\n",
        "</details>\n"
      ]
    },
    {
      "cell_type": "code",
      "execution_count": null,
      "metadata": {
        "id": "34-DSSvtJWhH"
      },
      "outputs": [],
      "source": [
        "args = PPOArgs(use_wandb=True)\n",
        "\n",
        "agent = train(args)"
      ]
    },
    {
      "cell_type": "markdown",
      "metadata": {
        "id": "bdz4ZK-MJWhH"
      },
      "source": [
        "### Catastrophic forgetting\n",
        "\n",
        "Note - you might see performance very high initially and then drop off rapidly (before recovering again).\n",
        "\n",
        "<img src=\"https://raw.githubusercontent.com/callummcdougall/computational-thread-art/master/example_images/misc/cf2.png\" width=\"600\">\n",
        "\n",
        "This is a well-known RL phenomena called **catastrophic forgetting**. It happens when the buffer only contains good experiences, and the agent forgets how to recover from bad experiences. One way to fix this is to change your buffer to keep 10 of experiences from previous epochs, and 90% of experiences from the current epoch. Can you implement this?\n",
        "\n",
        "(Note - reward shaping can also help fix this problem - see next section.)\n"
      ]
    },
    {
      "cell_type": "markdown",
      "metadata": {
        "id": "Tbpe1slIJWhI"
      },
      "source": [
        "## Reward Shaping\n",
        "\n",
        "Recall the [docs](https://www.gymlibrary.dev/environments/classic_control/cart_pole/) and [source code](https://github.com/openai/gym/blob/master/gym/envs/classic_control/cartpole.py) for the `CartPole` environment.\n",
        "\n",
        "The current rewards for `CartPole` encourage the agent to keep the episode running for as long as possible, which it then needs to associate with balancing the pole.\n",
        "\n",
        "Here, we inherit from `CartPoleEnv` so that we can modify the dynamics of the environment.\n",
        "\n",
        "Try to modify the reward to make the task as easy to learn as possible. Compare this against your performance on the original environment, and see if the agent learns faster with your shaped reward. If you can bound the reward on each timestep between 0 and 1, this will make comparing the results to `CartPole-v1` easier.\n",
        "\n",
        "<details>\n",
        "<summary>Help - I'm not sure what I'm meant to return in this function.</summary>\n",
        "\n",
        "The tuple `(obs, rew, done, info)` is returned from the CartPole environment. Here, `rew` is always 1 unless the episode has terminated.\n",
        "\n",
        "You should change this, so that `rew` incentivises good behaviour, even if the pole hasn't fallen yet. You can use the information returned in `obs` to construct a new reward function.\n",
        "</details>\n",
        "\n",
        "<details>\n",
        "<summary>Help - I'm confused about how to choose a reward function. (Try and think about this for a while before looking at this dropdown.)</summary>\n",
        "\n",
        "Right now, the agent always gets a reward of 1 for each timestep it is active. You should try and change this so that it gets a reward between 0 and 1, which is closer to 1 when the agent is performing well / behaving stably, and equals 0 when the agent is doing very poorly.\n",
        "\n",
        "The variables we have available to us are cart position, cart velocity, pole angle, and pole angular velocity, which I'll denote as $x$, $v$, $\\theta$ and $\\omega$.\n",
        "\n",
        "Here are a few suggestions which you can try out:\n",
        "* $r = 1 - (\\theta / \\theta_{\\text{max}})^2$. This will have the effect of keeping the angle close to zero.\n",
        "* $r = 1 - (x / x_{\\text{max}})^2$. This will have the effect of pushing it back towards the centre of the screen (i.e. it won't tip and fall to the side of the screen).\n",
        "\n",
        "You could also try using e.g. $|\\theta / \\theta_{\\text{max}}|$ rather than $(\\theta / \\theta_{\\text{max}})^2$. This would still mean reward is in the range (0, 1), but it would result in a larger penalty for very small deviations from the vertical position.\n",
        "\n",
        "You can also try a linear combination of two or more of these rewards!\n",
        "</details>\n",
        "\n",
        "\n",
        "<details>\n",
        "<summary>Help - my agent's episodic return is smaller than it was in the original CartPole environment.</summary>\n",
        "\n",
        "This is to be expected, because your reward function is no longer always 1 when the agent is upright. Both your time-discounted reward estimates and your actual realised rewards will be less than they were in the cartpole environment.\n",
        "\n",
        "For a fairer test, measure the length of your episodes - hopefully your agent learns how to stay upright for the entire 500 timestep interval as fast as or faster than it did previously.\n",
        "</details>\n"
      ]
    },
    {
      "cell_type": "markdown",
      "metadata": {
        "id": "ydt3x__xJWhI"
      },
      "source": [
        "### Exercise - implement reward shaping\n",
        "\n",
        "```c\n",
        "Difficulty: 🟠🟠🟠⚪⚪\n",
        "Importance: 🟠🟠🟠🟠⚪\n",
        "\n",
        "You should spend up to 15-30 minutes on this exercise.\n",
        "```\n"
      ]
    },
    {
      "cell_type": "code",
      "execution_count": null,
      "metadata": {
        "id": "YFHBOm9kJWhI"
      },
      "outputs": [],
      "source": [
        "from gym.envs.classic_control.cartpole import CartPoleEnv\n",
        "\n",
        "class EasyCart(CartPoleEnv):\n",
        "    def step(self, action):\n",
        "        (obs, rew, done, info) = super().step(action)\n",
        "        x, v, theta, omega = obs\n",
        "        pass"
      ]
    },
    {
      "cell_type": "code",
      "source": [
        "gym.envs.registration.register(id=\"EasyCart-v0\", entry_point=EasyCart, max_episode_steps=500)\n",
        "\n",
        "args = PPOArgs(env_id=\"EasyCart-v0\", use_wandb=True)\n",
        "\n",
        "# YOUR CODE HERE - train agent"
      ],
      "metadata": {
        "id": "jW_HpWeQOtj1"
      },
      "execution_count": null,
      "outputs": []
    },
    {
      "cell_type": "markdown",
      "metadata": {
        "id": "O1MWChMrJWhI"
      },
      "source": [
        "<details>\n",
        "<summary>Solution</summary>\n",
        "\n",
        "\n",
        "```python\n",
        "class EasyCart(CartPoleEnv):\n",
        "    def step(self, action):\n",
        "        (obs, rew, done, info) = super().step(action)\n",
        "        x, v, theta, omega = obs\n",
        "        # SOLUTION\n",
        "\n",
        "        # First reward: angle should be close to zero\n",
        "        reward_1 = 1 - abs(theta / 0.2095)\n",
        "        # Second reward: position should be close to the center\n",
        "        reward_2 = 1 - abs(x / 2.4)\n",
        "\n",
        "        return (obs, reward_2, done, info)\n",
        "```\n",
        "</details>\n"
      ]
    },
    {
      "cell_type": "markdown",
      "metadata": {
        "id": "30sUa7ZxJWhJ"
      },
      "source": [
        "Now, change the environment such that the reward incentivises the agent to \"dance\".\n",
        "\n",
        "It's up to you to define what qualifies as \"dancing\". Work out a sensible definition, and the reward function to incentive it. You may change the termination conditions of the environment if you think it helps teaching the cart to dance.\n"
      ]
    },
    {
      "cell_type": "code",
      "execution_count": null,
      "metadata": {
        "id": "V8peQOwqJWhJ"
      },
      "outputs": [],
      "source": [
        "class SpinCart(CartPoleEnv):\n",
        "\n",
        "    def step(self, action):\n",
        "        obs, reward, done, info = super().step(action)\n",
        "        # YOUR CODE HERE"
      ]
    },
    {
      "cell_type": "markdown",
      "metadata": {
        "id": "tDCGwkT8JWhJ"
      },
      "source": [
        "<details>\n",
        "<summary>Solution (one possible implementation)</summary>\n",
        "\n",
        "```python\n",
        "class SpinCart(CartPoleEnv):\n",
        "\n",
        "    def step(self, action):\n",
        "        obs, reward, done, info = super().step(action)\n",
        "        # YOUR CODE HERE\n",
        "        x, v, theta, omega = obs\n",
        "        # Allow for 360-degree rotation\n",
        "        done = (abs(x) > self.x_threshold)\n",
        "        # Reward function incentivises fast spinning while staying still & near centre\n",
        "        rotation_speed_reward = min(1, 0.1*abs(omega))\n",
        "        stability_penalty = max(1, abs(x/2.5) + abs(v/10))\n",
        "        reward = rotation_speed_reward - 0.5 * stability_penalty\n",
        "        return (obs, reward, done, info)\n",
        "\n",
        "\n",
        "gym.envs.registration.register(id=\"SpinCart-v0\", entry_point=SpinCart, max_episode_steps=500)\n",
        "\n",
        "wandb.finish()\n",
        "\n",
        "args = PPOArgs(env_id=\"SpinCart-v0\")\n",
        "logger = WandbLogger(save_dir=args.log_dir, project=args.wandb_project_name, name=model.run_name)\n",
        "if args.use_wandb: wandb.gym.monitor() # Makes sure we log video!\n",
        "model = PPOLightning(args).to(device)\n",
        "\n",
        "trainer = pl.Trainer(\n",
        "    max_epochs=args.total_epochs,\n",
        "    logger=logger,\n",
        "    log_every_n_steps=5,\n",
        "    reload_dataloaders_every_n_epochs=1,\n",
        "    enable_progress_bar=False\n",
        ")\n",
        "trainer.fit(model=model)\n",
        "```\n",
        "\n",
        "</details>\n"
      ]
    },
    {
      "cell_type": "markdown",
      "metadata": {
        "id": "djd-lbNbJWhJ"
      },
      "source": [
        "## Bonus\n"
      ]
    },
    {
      "cell_type": "markdown",
      "metadata": {
        "id": "hPyfk0WFJWhK"
      },
      "source": [
        "Here are a few bonus exercises. They're ordered (approximately) from easiest to hardest.\n",
        "\n",
        "### Trust Region Methods\n",
        "\n",
        "Some versions of the PPO algorithm use a slightly different objective function. Rather than our clipped surrogate objective, they use constrained optimization (maximising the surrogate objective subject to a restriction on the [KL divergence](https://www.lesswrong.com/posts/no5jDTut5Byjqb4j5/six-and-a-half-intuitions-for-kl-divergence) between the old and new policies).\n",
        "\n",
        "$$\n",
        "\\begin{array}{ll}\n",
        "\\underset{\\theta}{\\operatorname{maximize}} & \\hat{\\mathbb{E}}_t\\left[\\frac{\\pi_\\theta\\left(a_t \\mid s_t\\right)}{\\pi_{\\theta_{\\text {old}}}\\left(a_t \\mid s_t\\right)} \\hat{A}_t\\right] \\\\\n",
        "\\text { subject to } & \\hat{\\mathbb{E}}_t\\left[\\mathrm{KL}\\left[\\pi_{\\theta_{\\text {old}}}\\left(\\cdot \\mid s_t\\right), \\pi_\\theta\\left(\\cdot \\mid s_t\\right)\\right]\\right] \\leq \\delta\n",
        "\\end{array}\n",
        "$$\n",
        "\n",
        "The intuition behind this is similar to the clipped surrogate objective. For our clipped objective, we made sure the model wasn't rewarded for deviating from its old policy beyond a certain point (which encourages small updates). Adding an explicit KL constraint accomplishes something similar, because it forces the model to closely adhere to the old policy. For more on KL-divergence and why it's a principled measure, see [this post](https://www.lesswrong.com/posts/no5jDTut5Byjqb4j5/six-and-a-half-intuitions-for-kl-divergence). We call these algorithms trust-region methods because they incentivise the model to stay in a **trusted region of policy space**, i.e. close to the old policy (where we can be more confident in our results).\n",
        "\n",
        "The theory behind TRPO actually suggests the following variant - turning the strict constraint into a penalty term, which you should find easier to implement:\n",
        "\n",
        "$$\n",
        "\\underset{\\theta}{\\operatorname{maximize}} \\, \\hat{\\mathbb{E}}_t\\left[\\frac{\\pi_\\theta\\left(a_t \\mid s_t\\right)}{\\pi_{\\theta_{\\text {old}}}\\left(a_t \\mid s_t\\right)} \\hat{A}_t-\\beta \\mathrm{KL}\\left[\\pi_{\\theta_{\\text {old}}}\\left(\\cdot \\mid s_t\\right), \\pi_\\theta\\left(\\cdot \\mid s_t\\right)\\right]\\right]\n",
        "$$\n",
        "\n",
        "Rather than forcing the new policy to stay close to the previous policy, this adds a penalty term which incentivises this behaviour (in fact, there is a 1-1 correspondence between constrained optimization problems and the corresponding unconstrained version).\n",
        "\n",
        "Can you implement this? Does this approach work better than the clipped surrogate objective? What values of $\\beta$ work best?\n",
        "\n",
        "Tip - you can calculate KL divergence using the PyTorch [KL Divergence function](https://pytorch.org/docs/stable/distributions.html#module-torch.distributions.kl). You could also try the approximate version, as described in [detail #12](https://iclr-blog-track.github.io/2022/03/25/ppo-implementation-details/#:~:text=Debug%20variables) of the \"37 Implementational Details\" post.\n",
        "\n",
        "### Long-term replay buffer\n",
        "\n",
        "Above, we discussed the problem of **catastrophic forgetting** (where the agent forgets how to recover from bad behaviour, because the buffer only contains good behaviour). One way to fix this is to have a long-term replay buffer, for instance:\n",
        "\n",
        "* (simple version) You reserve e.g. 10% of your buffer for experiences generated at the start of training.\n",
        "* (galaxy-brained version) You design a custom scheduled method for removing experiences from the buffer, so that you always have a mix of old and new experiences.\n",
        "\n",
        "Can you implement one of these, and does it fix the catastrophic forgetting problem (without needing to use reward shaping)?\n",
        "\n",
        "### Vectorized Advantage Calculation\n",
        "\n",
        "Try optimizing away the for-loop in your advantage calculation. It's tricky (and quite messy), so an easier version of this is: find a vectorized calculation and try to explain what it does.\n",
        "\n",
        "<details>\n",
        "<summary>Hint (for your own implementation)</summary>\n",
        "\n",
        "*(Assume `num_envs=1` for simplicity)*\n",
        "\n",
        "Construct a 2D boolean array from `dones`, where the `(i, j)`-th element of the array tells you whether the expression for the `i`-th advantage function should include rewards / values at timestep `j`. You can do this via careful use of `torch.cumsum`, `torch.triu`, and some rearranging.\n",
        "</details>\n",
        "\n",
        "There are solutions available in `solutions.py` (commented out).\n",
        "\n",
        "### Other Discrete Environments\n",
        "\n",
        "Two environments (supported by gym) which you might like to try are:\n",
        "\n",
        "* [`Acrobot-v1`](https://www.gymlibrary.dev/environments/classic_control/acrobot/) - this is one of the [Classic Control environments](https://www.gymlibrary.dev/environments/classic_control/), and it's a bit harder to learn than cartpole.\n",
        "* [`MountainCar-v0`](https://www.gymlibrary.dev/environments/classic_control/mountain_car/) - this is one of the [Classic Control environments](https://www.gymlibrary.dev/environments/classic_control/), and it's much harder to learn than cartpole. This is primarily because of **sparse rewards** (it's really hard to get to the top of the hill), so you'll definitely need reward shaping to get through it!\n",
        "* [`LunarLander-v2`](https://www.gymlibrary.dev/environments/box2d/lunar_lander/) - this is part of the [Box2d](https://www.gymlibrary.dev/environments/box2d/) environments. It's a bit harder still, because of the added environmental complexity (physics like gravity and friction, and constraints like fuel conservatino). The reward is denser (with the agent receiving rewards for moving towards the landing pad and penalties for moving away or crashing), but the increased complexity makes it overall a harder problem to solve. You might have to perform hyperparameter sweeps to find the best implementation (you can go back and look at the syntax for hyperparameter sweeps [here](https://arena-ch0-fundamentals.streamlit.app/[0.4]_Optimization)). Also, [this page](https://pylessons.com/LunarLander-v2-PPO) might be a useful reference (although the details of their implementation differs from the one we used today). You can look at the hyperparameters they used.\n",
        "\n",
        "### Minigrid envs / Procgen\n",
        "\n",
        "There are many more exciting environments to play in, but generally they're going to require more compute and more optimization than we have time for today. If you want to try them out, some we recommend are:\n",
        "\n",
        "- [Minimalistic Gridworld Environments](https://github.com/Farama-Foundation/gym-minigrid) - a fast gridworld environment for experiments with sparse rewards and natural language instruction.\n",
        "- [microRTS](https://github.com/santiontanon/microrts) - a small real-time strategy game suitable for experimentation.\n",
        "- [Megastep](https://andyljones.com/megastep/) - RL environment that runs fully on the GPU (fast!)\n",
        "- [Procgen](https://github.com/openai/procgen) - A family of 16 procedurally generated gym environments to measure the ability for an agent to generalize. Optimized to run quickly on the CPU.\n",
        "    - For this one, you might want to read [Jacob Hilton's online DL tutorial](https://github.com/jacobhilton/deep_learning_curriculum/blob/master/6-Reinforcement-Learning.md) (the RL chapter suggests implementing PPO on Procgen), and [Connor Kissane's solutions](https://github.com/ckkissane/deep_learning_curriculum/blob/master/solutions/6_Reinforcement_Learning.ipynb).\n",
        "\n",
        "### Continuous Action Spaces\n",
        "\n",
        "The `MountainCar-v0` environment has discrete actions, but there's also a version `MountainCarContinuous-v0` with continuous action spaces. Unlike DQN, PPO can handle continuous actions with minor modifications. Try to adapt your agent; you'll need to handle `gym.spaces.Box` instead of `gym.spaces.Discrete` and make note of the [\"9 details for continuous action domains\"](https://iclr-blog-track.github.io/2022/03/25/ppo-implementation-details/#:~:text=9%20details%20for%20continuous%20action%20domains) section of the reading.\n",
        "\n",
        "### [Atari](https://www.gymlibrary.dev/environments/atari/)\n",
        "\n",
        "The [37 Implementational Details of PPO](https://iclr-blog-track.github.io/2022/03/25/ppo-implementation-details/#:~:text=9%20Atari%2Dspecific%20implementation%20details) post describes how to get PPO working for games like Atari. You've already done a lot of the work here! Try to implement the remaining details and get PPO working on Atari. You'll need to read the Atari-specific implementation details section in the post (and you'll also have to spend some time working with a different library to `gym`). This could be a good capstone project, or just an extended project for the rest of the RL section (after we do RLHF) if you want to get more challenging hands-on engineering experience!\n",
        "\n",
        "### Multi-Agent PPO\n",
        "\n",
        "Multi-Agent PPO (MAPPO) is an extension of the standard PPO algorithm which trains multiple agents at once. It was first described in the paper [The Surprising Effectiveness of PPO in Cooperative Multi-Agent Games](https://arxiv.org/abs/2103.01955). Can you implement MAPPO?\n",
        "\n",
        "Even if you choose not to implement it, you may wish to read some of the material relevant for MAPPO, including [Learning to Deceive in Multi-Agent Hidden Role Games](https://arxiv.org/abs/2209.01551), a paper written by Matthew Aitchison, who will be giving a talk on Tuesday evening.\n"
      ]
    }
  ],
  "metadata": {
    "colab": {
      "collapsed_sections": [
        "jd3LpCav3UXu",
        "TsR3w36EJWg2",
        "of0he7AXJWg_",
        "assWbK1pJWhE"
      ],
      "provenance": []
    },
    "kernelspec": {
      "display_name": "Python 3",
      "name": "python3"
    },
    "language_info": {
      "codemirror_mode": {
        "name": "ipython",
        "version": 3
      },
      "file_extension": ".py",
      "mimetype": "text/x-python",
      "name": "python",
      "nbconvert_exporter": "python",
      "pygments_lexer": "ipython3",
      "version": "3.10.9"
    }
  },
  "nbformat": 4,
  "nbformat_minor": 0
}