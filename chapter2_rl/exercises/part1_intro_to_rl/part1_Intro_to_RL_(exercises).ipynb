{
  "cells": [
    {
      "cell_type": "markdown",
      "metadata": {
        "id": "ST7GZ0xkxW6j"
      },
      "source": [
        "<img src=\"https://raw.githubusercontent.com/callummcdougall/computational-thread-art/master/example_images/misc/bandit.png\" width=\"350\">\n"
      ]
    },
    {
      "cell_type": "markdown",
      "metadata": {
        "id": "NzpGGRLH1tc8"
      },
      "source": [
        "Colab: [**exercises**](https://colab.research.google.com/drive/12YnrSDx0gbyhMKkcXoMvYZqu8oSgDEkM) | [**solutions**](https://colab.research.google.com/drive/1-b_RmzaGpnvKS_V6FFjylMYn4_JHVzXh)\n",
        "\n",
        "Please send any problems / bugs on the `#errata` channel in the [Slack group](https://join.slack.com/t/arena-la82367/shared_invite/zt-1uvoagohe-JUv9xB7Vr143pdx1UBPrzQ), and ask any questions on the dedicated channels for this chapter of material."
      ]
    },
    {
      "cell_type": "markdown",
      "metadata": {
        "id": "jd3LpCav3UXu"
      },
      "source": [
        "# [2.1] - Intro to RL\n"
      ]
    },
    {
      "cell_type": "markdown",
      "metadata": {
        "id": "T8eeowfwDPPG"
      },
      "source": [
        "## Introduction\n"
      ]
    },
    {
      "cell_type": "markdown",
      "metadata": {
        "id": "Q1tJKM6oDPPH"
      },
      "source": [
        "This section is designed to bring you up to speed with the basics of reinforcement learning. Before we cover the big topics like PPO and RLHF, we need to build a strong foundation by understanding what RL is and what kinds of problems it was designed to solve.\n"
      ]
    },
    {
      "cell_type": "markdown",
      "metadata": {
        "id": "dA9lOxctDPPH"
      },
      "source": [
        "## Content & Learning Objectives\n"
      ]
    },
    {
      "cell_type": "markdown",
      "metadata": {
        "id": "qDW1BqzVDPPH"
      },
      "source": [
        "#### 1️⃣ Multi-Armed Bandit\n",
        "\n",
        "In Part 1 we'll study the multi-armed bandit problem, which is simple yet captures introduces many of the difficulties in RL. Many practical problems can be posed in terms of generalizations of the multi-armed bandit. For example, the Hyperband algorithm for hyperparameter optimization is based on the multi-armed bandit with an infinite number of arms.\n",
        "\n",
        "> ##### Learning Objectives\n",
        ">\n",
        "> * Understand the anatomy of a `gym.Env`, so that you feel comfortable using them and writing your own\n",
        "> * Practice RL in the tabular (lookup table) setting before adding the complications of neural networks\n",
        "> * Understand the difficulty of optimal exploration\n",
        "> * Understand that performance is extremely variable in RL, and how to measure performance\n",
        "\n",
        "#### 2️⃣ Tabular RL & Policy Improvement\n",
        "\n",
        "Next, we'll start to get into the weeds of some of the mathematical formulations of RL. Some important concepts to cover are **Markov processes**, the **value function** and the **Bellman equation**.\n",
        "\n",
        "We'll then put this into practice on some basic gridworld environments.\n",
        "\n",
        "> ##### Learning Objectives\n",
        ">\n",
        "> * Understand the tabular RL problem, for known environments.\n",
        "> * Learn how to numerically evaluate a given policy (via an iterative update formula).\n",
        "> * Understand the policy improvement theorem, and understand what circumstances can allow us to directly solve for the optimal policy.\n"
      ]
    },
    {
      "cell_type": "markdown",
      "metadata": {
        "id": "EUlxAwZ6DPPI"
      },
      "source": [
        "## Setup (don't read, just run!)\n"
      ]
    },
    {
      "cell_type": "code",
      "execution_count": null,
      "metadata": {
        "id": "DbowSFBaDPPI"
      },
      "outputs": [],
      "source": [
        "try:\n",
        "    import google.colab # type: ignore\n",
        "    IN_COLAB = True\n",
        "except:\n",
        "    IN_COLAB = False\n",
        "\n",
        "if IN_COLAB:\n",
        "    # Install packages\n",
        "    %pip install wandb==0.13.10\n",
        "    %pip install einops\n",
        "    %pip install gym==0.23.1\n",
        "    %pip install jaxtyping\n",
        "\n",
        "    # Code to make sure output widgets display\n",
        "    from google.colab import output\n",
        "    output.enable_custom_widget_manager()\n",
        "\n",
        "    # Code to download the necessary files (e.g. solutions, test funcs)\n",
        "    import os, sys\n",
        "    if not os.path.exists(\"chapter2_rl\"):\n",
        "        !wget https://github.com/callummcdougall/ARENA_2.0/archive/refs/heads/main.zip\n",
        "        !unzip /content/main.zip 'ARENA_2.0-main/chapter2_rl/exercises/*'\n",
        "        sys.path.append(\"/content/ARENA_2.0-main/chapter2_rl/exercises\")\n",
        "        os.remove(\"/content/main.zip\")\n",
        "        os.rename(\"ARENA_2.0-main/chapter2_rl\", \"chapter2_rl\")\n",
        "        os.rmdir(\"ARENA_2.0-main\")\n",
        "        os.chdir(\"chapter2_rl/exercises\")\n",
        "else:\n",
        "    from IPython import get_ipython\n",
        "    ipython = get_ipython()\n",
        "    ipython.run_line_magic(\"load_ext\", \"autoreload\")\n",
        "    ipython.run_line_magic(\"autoreload\", \"2\")"
      ]
    },
    {
      "cell_type": "code",
      "execution_count": null,
      "metadata": {
        "id": "hZ9yoQKGDPPJ"
      },
      "outputs": [],
      "source": [
        "import os\n",
        "import sys\n",
        "from typing import Optional, Union, List, Tuple\n",
        "import plotly.express as px\n",
        "import plotly.graph_objects as go\n",
        "import numpy as np\n",
        "import random\n",
        "from tqdm import tqdm\n",
        "import einops\n",
        "from pathlib import Path\n",
        "import matplotlib.pyplot as plt\n",
        "import gym\n",
        "import gym.envs.registration\n",
        "import gym.spaces\n",
        "\n",
        "Arr = np.ndarray\n",
        "max_episode_steps = 1000\n",
        "N_RUNS = 200\n",
        "\n",
        "# Make sure exercises are in the path\n",
        "chapter = r\"chapter2_rl\"\n",
        "exercises_dir = Path(f\"{os.getcwd().split(chapter)[0]}/{chapter}/exercises\").resolve()\n",
        "section_dir = exercises_dir / \"part1_intro_to_rl\"\n",
        "if str(exercises_dir) not in sys.path: sys.path.append(str(exercises_dir))\n",
        "\n",
        "import part1_intro_to_rl.utils as utils\n",
        "import part1_intro_to_rl.tests as tests\n",
        "from plotly_utils import imshow\n",
        "\n",
        "MAIN = __name__ == \"__main__\""
      ]
    },
    {
      "cell_type": "markdown",
      "metadata": {
        "id": "XPXTPSKvDPPK"
      },
      "source": [
        "# 1️⃣ Multi-Armed Bandit\n"
      ]
    },
    {
      "cell_type": "markdown",
      "metadata": {
        "id": "qCBEgHupDPPK"
      },
      "source": [
        "> ##### Learning Objectives\n",
        ">\n",
        "> * Understand the anatomy of a `gym.Env`, so that you feel comfortable using them and writing your own\n",
        "> * Practice RL in the tabular (lookup table) setting before adding the complications of neural networks\n",
        "> * Understand the difficulty of optimal exploration\n",
        "> * Understand that performance is extremely variable in RL, and how to measure performance\n"
      ]
    },
    {
      "cell_type": "markdown",
      "metadata": {
        "id": "K9Nxz9jODPPK"
      },
      "source": [
        "## Readings\n",
        "\n",
        "* [Sutton and Barto](https://www.andrew.cmu.edu/course/10-703/textbook/BartoSutton.pdf), Chapter 2\n",
        "    * Section 2.1: A k-armed Bandit Problem through to Section 2.7 Upper-Confidence-Bound Action Section\n",
        "    * We won't cover Gradient Bandits. Don't worry about these.\n",
        "    * Don't worry too much about all the math for the moment if you can't follow it.\n"
      ]
    },
    {
      "cell_type": "markdown",
      "metadata": {
        "id": "Io6wejrbDPPK"
      },
      "source": [
        "## Intro to OpenAI Gym\n",
        "\n",
        "Today and tomorrow, we'll be using OpenAI Gym, which provides a uniform interface to many different RL environments including Atari games. Gym was released in 2016 and details of the API have changed significantly over the years. We are using version 0.23.1, so ensure that any documentation you use refers to the same version.\n",
        "\n",
        "Below, we've provided a simple environment for the multi-armed bandit described in the Sutton and Barto reading. Here, an action is an integer indicating the choice of arm to pull, and an observation is the constant integer 0, since there's nothing to observe here. Even though the agent does in some sense observe the reward, the reward is always a separate variable from the observation.\n",
        "\n",
        "We're using NumPy for this section. PyTorch provides GPU support and autograd, neither of which is of any use to environment code or the code we're writing today.\n",
        "\n",
        "Read the `MultiArmedBandit` code carefully and make sure you understand how the Gym environment API works.\n"
      ]
    },
    {
      "cell_type": "markdown",
      "metadata": {
        "id": "h05aOtvKDPPK"
      },
      "source": [
        "### The `info` dictionary\n",
        "\n",
        "The environment's `step` method returns four values: `obs`, `reward`, `done`, and the `info` dictionary.\n",
        "\n",
        "`info` can contain anything extra that doesn't fit into the uniform interface - it's up to the environment what to put into it. A good use of this is for debugging information that the agent isn't \"supposed\" to see. In this case, we'll return the index of the actual best arm. This would allow us to measure how often the agent chooses the best arm, but it would also allow us to build a \"cheating\" agent that peeks at this information to make its decision.\n",
        "\n",
        "Cheating agents are helpful because we know that they should obtain the maximum possible rewards; if they aren't, then there's a bug.\n",
        "\n",
        "### The `render()` method\n",
        "\n",
        "Render is only used for debugging or entertainment, and what it does is up to the environment. It might render a little popup window showing the Atari game, or it might give you a RGB image tensor, or just some ASCII text describing what's happening. In this case, we'll just make a little plot showing the distribution of rewards for each arm of the bandit.\n",
        "\n",
        "### Observation and Action Types\n",
        "\n",
        "A `gym.Env` is a generic type: both the type of the observations and the type of the actions depends on the specifics of the environment.\n",
        "\n",
        "We're only dealing with the simplest case: a discrete set of actions which are the same in every state. In general, the actions could be continuous, or depend on the state.\n"
      ]
    },
    {
      "cell_type": "code",
      "execution_count": null,
      "metadata": {
        "id": "6oLaKBTxDPPK"
      },
      "outputs": [],
      "source": [
        "ObsType = int\n",
        "ActType = int\n",
        "\n",
        "class MultiArmedBandit(gym.Env):\n",
        "    action_space: gym.spaces.Discrete\n",
        "    observation_space: gym.spaces.Discrete\n",
        "    num_arms: int\n",
        "    stationary: bool\n",
        "    arm_reward_means: np.ndarray\n",
        "\n",
        "    def __init__(self, num_arms=10, stationary=True):\n",
        "        super().__init__()\n",
        "        self.num_arms = num_arms\n",
        "        self.stationary = stationary\n",
        "        self.observation_space = gym.spaces.Discrete(1)\n",
        "        self.action_space = gym.spaces.Discrete(num_arms)\n",
        "        self.reset()\n",
        "\n",
        "    def step(self, arm: ActType) -> Tuple[ObsType, float, bool, dict]:\n",
        "        '''\n",
        "        Note: some documentation references a new style which has (termination, truncation) bools in place of the done bool.\n",
        "        '''\n",
        "        assert self.action_space.contains(arm)\n",
        "        if not self.stationary:\n",
        "            q_drift = self.np_random.normal(loc=0.0, scale=0.01, size=self.num_arms)\n",
        "            self.arm_reward_means += q_drift\n",
        "            self.best_arm = int(np.argmax(self.arm_reward_means))\n",
        "        reward = self.np_random.normal(loc=self.arm_reward_means[arm], scale=1.0)\n",
        "        obs = 0\n",
        "        done = False\n",
        "        info = dict(best_arm=self.best_arm)\n",
        "        return (obs, reward, done, info)\n",
        "\n",
        "    def reset(\n",
        "        self, seed: Optional[int] = None, return_info=False, options=None\n",
        "    ) -> Union[ObsType, Tuple[ObsType, dict]]:\n",
        "        super().reset(seed=seed)\n",
        "        if self.stationary:\n",
        "            self.arm_reward_means = self.np_random.normal(loc=0.0, scale=1.0, size=self.num_arms)\n",
        "        else:\n",
        "            self.arm_reward_means = np.zeros(shape=[self.num_arms])\n",
        "        self.best_arm = int(np.argmax(self.arm_reward_means))\n",
        "        if return_info:\n",
        "            return (0, dict())\n",
        "        else:\n",
        "            return 0\n",
        "\n",
        "    def render(self, mode=\"human\"):\n",
        "        assert mode == \"human\", f\"Mode {mode} not supported!\"\n",
        "        bandit_samples = []\n",
        "        for arm in range(self.action_space.n):\n",
        "            bandit_samples += [np.random.normal(loc=self.arm_reward_means[arm], scale=1.0, size=1000)]\n",
        "        plt.violinplot(bandit_samples, showmeans=True)\n",
        "        plt.xlabel(\"Bandit Arm\")\n",
        "        plt.ylabel(\"Reward Distribution\")\n",
        "        plt.show()"
      ]
    },
    {
      "cell_type": "markdown",
      "metadata": {
        "id": "bUBG_d31DPPL"
      },
      "source": [
        "### Registering an Environment\n",
        "\n",
        "User code normally won't use the constructor of an `Env` directly for two reasons:\n",
        "\n",
        "- Usually, we want to wrap our `Env` in one or more wrapper classes.\n",
        "- If we want to test our agent on a variety of environments, it's annoying to have to import all the `Env` classes directly.\n",
        "\n",
        "The `register` function stores information about our `Env` in a registry so that a later call to `gym.make` can look it up using the `id` string that is passed in.\n",
        "\n",
        "By convention, the `id` strings have a suffix with a version number. There can be multiple versions of the \"same\" environment with different parameters, and benchmarks should always report the version number for a fair comparison. For instance, `id=\"ArmedBanditTestbed-v0\"` below.\n"
      ]
    },
    {
      "cell_type": "markdown",
      "metadata": {
        "id": "OXWuoOkYDPPL"
      },
      "source": [
        "### TimeLimit Wrapper\n",
        "\n",
        "As defined, our environment never terminates; the `done` flag is always False so the agent would keep playing forever. By setting `max_episode_steps` here, we cause our env to be wrapped in a `TimeLimit` wrapper class which terminates the episode after that number of steps.\n",
        "\n",
        "The time limit is also an essential part of the problem definition: if it were larger or shorter, there would be more or less time to explore, which means that different algorithms (or at least different hyperparameters) would then have improved performance.\n",
        "\n",
        "*Note - the `gym` library is well known for being pretty janky and having annoying errors and warnings! You should generally ignore these warnings unless they're causing you problems e.g. you're failing tests.*\n"
      ]
    },
    {
      "cell_type": "code",
      "execution_count": null,
      "metadata": {
        "id": "DjAFCmfyDPPL"
      },
      "outputs": [],
      "source": [
        "gym.envs.registration.register(\n",
        "    id=\"ArmedBanditTestbed-v0\",\n",
        "    entry_point=MultiArmedBandit,\n",
        "    max_episode_steps=max_episode_steps,\n",
        "    nondeterministic=True,\n",
        "    reward_threshold=1.0,\n",
        "    kwargs={\"num_arms\": 10, \"stationary\": True},\n",
        ")\n",
        "\n",
        "env = gym.make(\"ArmedBanditTestbed-v0\")\n",
        "print(f\"Our env inside its wrappers looks like: {env}\")"
      ]
    },
    {
      "cell_type": "markdown",
      "metadata": {
        "id": "unqse6vuDPPL"
      },
      "source": [
        "### A Note on (pseudo) RNGs\n",
        "\n",
        "The PRNG that `gym.Env` provides as `self.np_random` is from the [PCG family](https://www.pcg-random.org/index.html). In RL code, you often need massive quantities of pseudorandomly generated numbers, so it's important to have a generator that is both very fast and has good quality output.\n",
        "\n",
        "When you call `np.random.randint` or similar, you're using the old-school Mersenne Twister algorithm which is both slower and has inferior quality output to PCG. Since Numpy 1.17, you can use `np.random.default_rng()` to get a PCG generator and then use its `integers` method to get random integers.\n"
      ]
    },
    {
      "cell_type": "markdown",
      "metadata": {
        "id": "olOThtIDDPPL"
      },
      "source": [
        "### Exercise - implement `RandomAgent`\n",
        "\n",
        "```c\n",
        "Difficulty: 🟠🟠⚪⚪⚪\n",
        "Importance: 🟠🟠⚪⚪⚪\n",
        "\n",
        "You should spend up to ~10 minutes on this exercise.\n",
        "```\n",
        "\n",
        "- Implement the `RandomAgent` subclass which should pick an arm at random.\n",
        "    - This is useful as a baseline to ensure the environment has no bugs. If your later agents are doing worse than random, you have a bug!\n",
        "- Run the code below, in order to:\n",
        "    - Verify that `RandomAgent` pulls the optimal arm with frequency roughly `1/num_arms`.\n",
        "    - Verify that the average reward is very roughly zero. This is the case since the mean reward for each arm is centered on zero.\n"
      ]
    },
    {
      "cell_type": "code",
      "execution_count": null,
      "metadata": {
        "id": "yecV06ziDPPL"
      },
      "outputs": [],
      "source": [
        "class Agent:\n",
        "    '''\n",
        "    Base class for agents in a multi-armed bandit environment\n",
        "\n",
        "    (you do not need to add any implementation here)\n",
        "    '''\n",
        "    rng: np.random.Generator\n",
        "\n",
        "    def __init__(self, num_arms: int, seed: int):\n",
        "        self.num_arms = num_arms\n",
        "        self.reset(seed)\n",
        "\n",
        "    def get_action(self) -> ActType:\n",
        "        # You don't need to do anything here\n",
        "        raise NotImplementedError()\n",
        "\n",
        "    def observe(self, action: ActType, reward: float, info: dict) -> None:\n",
        "        # You don't need to do anything here\n",
        "        pass\n",
        "\n",
        "    def reset(self, seed: int) -> None:\n",
        "        self.rng = np.random.default_rng(seed)\n",
        "\n",
        "\n",
        "def run_episode(env: gym.Env, agent: Agent, seed: int):\n",
        "\n",
        "    (rewards, was_best) = ([], [])\n",
        "\n",
        "    env.reset(seed=seed)\n",
        "    agent.reset(seed=seed)\n",
        "\n",
        "    done = False\n",
        "    while not done:\n",
        "        arm = agent.get_action()\n",
        "        (obs, reward, done, info) = env.step(arm)\n",
        "        agent.observe(arm, reward, info)\n",
        "        rewards.append(reward)\n",
        "        was_best.append(1 if arm == info[\"best_arm\"] else 0)\n",
        "\n",
        "    rewards = np.array(rewards, dtype=float)\n",
        "    was_best = np.array(was_best, dtype=int)\n",
        "    return (rewards, was_best)\n",
        "\n",
        "\n",
        "def run_agent(env: gym.Env, agent: Agent, n_runs=200, base_seed=1):\n",
        "    all_rewards = []\n",
        "    all_was_bests = []\n",
        "    base_rng = np.random.default_rng(base_seed)\n",
        "    for n in tqdm(range(n_runs)):\n",
        "        seed = base_rng.integers(low=0, high=10_000, size=1).item()\n",
        "        (rewards, corrects) = run_episode(env, agent, seed)\n",
        "        all_rewards.append(rewards)\n",
        "        all_was_bests.append(corrects)\n",
        "    return (np.array(all_rewards), np.array(all_was_bests))\n",
        "\n",
        "\n",
        "class RandomAgent(Agent):\n",
        "\n",
        "    def get_action(self) -> ActType:\n",
        "        pass\n",
        "\n",
        "    def __repr__(self):\n",
        "        # Useful when plotting multiple agents with `plot_rewards`\n",
        "        return \"RandomAgent\"\n",
        "\n",
        "\n",
        "num_arms = 10\n",
        "stationary = True\n",
        "env = gym.make(\"ArmedBanditTestbed-v0\", num_arms=num_arms, stationary=stationary)\n",
        "agent = RandomAgent(num_arms, 0)\n",
        "all_rewards, all_corrects = run_agent(env, agent)\n",
        "\n",
        "print(f\"Expected correct freq: {1/10}, actual: {all_corrects.mean():.6f}\")\n",
        "assert np.isclose(all_corrects.mean(), 1/10, atol=0.05), \"Random agent is not random enough!\"\n",
        "\n",
        "print(f\"Expected average reward: 0.0, actual: {all_rewards.mean():.6f}\")\n",
        "assert np.isclose(all_rewards.mean(), 0, atol=0.05), \"Random agent should be getting mean arm reward, which is zero.\"\n",
        "\n",
        "print(\"All tests passed!\")"
      ]
    },
    {
      "cell_type": "markdown",
      "metadata": {
        "id": "_599wN0dDPPM"
      },
      "source": [
        "<details>\n",
        "<summary>Solution</summary>\n",
        "\n",
        "\n",
        "```python\n",
        "class RandomAgent(Agent):\n",
        "\n",
        "    def get_action(self) -> ActType:\n",
        "        # SOLUTION\n",
        "        return self.rng.integers(low=0, high=self.num_arms)\n",
        "\n",
        "    def __repr__(self):\n",
        "        # Useful when plotting multiple agents with `plot_rewards`\n",
        "        return \"RandomAgent\"\n",
        "```\n",
        "</details>\n"
      ]
    },
    {
      "cell_type": "markdown",
      "metadata": {
        "id": "d-SdrvVxDPPM"
      },
      "source": [
        "### Exercise - implement reward averaging\n",
        "\n",
        "```c\n",
        "Difficulty: 🟠🟠🟠⚪⚪\n",
        "Importance: 🟠🟠⚪⚪⚪\n",
        "\n",
        "You should spend up to 20-30 minutes on this exercise.\n",
        "```\n",
        "\n",
        "You should now complete the methods for the `RewardAveraging` agent, which applies the reward averaging algorithm as detailed in Sutton and Barto section 2.4, \"Incremental Implementation\":\n",
        "\n",
        "- Track the moving average of observed reward for each arm.\n",
        "- Epsilon greedy exploration: with probability `epsilon`, take a random action; otherwise take the action with the highest average observed reward.\n",
        "- Optimistic initial values: initialize each arm's reward estimate with the `optimism` value.\n",
        "\n",
        "Remember to call the init function for your `Agent` superclass with `num_arms` and `seed` in your `__init__()` method.\n",
        "\n",
        "<details>\n",
        "<summary>Hint - average reward formula</summary>\n",
        "\n",
        "$$Q_k = Q_{k-1} + \\frac{1}{k}[R_k - Q_{k-1}]$$\n",
        "\n",
        "Where $k$ is the number of times the action has been taken, $R_k$ is the reward from the kth time the action was taken, and $Q_{k-1}$ is the average reward from the previous times this action was taken (this notation departs slightly from the S&B notation, but may be more helpful for our implementation).\n",
        "\n",
        "**Important - $k$ is not the total number of timesteps, it's the total number of times you've taken this particular action.**\n",
        "</details>\n",
        "\n",
        "We've given you a function for plotting multiple agents' reward trajectories on the same graph, with an optional moving average parameter to make the graph smoother.\n"
      ]
    },
    {
      "cell_type": "code",
      "execution_count": null,
      "metadata": {
        "id": "YJXDTlPnDPPM"
      },
      "outputs": [],
      "source": [
        "class RewardAveraging(Agent):\n",
        "    def __init__(self, num_arms: int, seed: int, epsilon: float, optimism: float):\n",
        "        pass\n",
        "\n",
        "    def get_action(self):\n",
        "        pass\n",
        "\n",
        "    def observe(self, action, reward, info):\n",
        "        pass\n",
        "\n",
        "    def reset(self, seed: int):\n",
        "        pass\n",
        "\n",
        "    def __repr__(self):\n",
        "        # For the legend, when plotting\n",
        "        return f\"RewardAveraging(eps={self.epsilon}, optimism={self.optimism})\"\n",
        "\n",
        "\n",
        "\n",
        "num_arms = 10\n",
        "stationary = True\n",
        "names = []\n",
        "all_rewards = []\n",
        "env = gym.make(\"ArmedBanditTestbed-v0\", num_arms=num_arms, stationary=stationary)\n",
        "\n",
        "for optimism in [0, 5]:\n",
        "    agent = RewardAveraging(num_arms, 0, epsilon=0.01, optimism=optimism)\n",
        "    (rewards, num_correct) = run_agent(env, agent, n_runs=N_RUNS, base_seed=1)\n",
        "    all_rewards.append(rewards)\n",
        "    names.append(str(agent))\n",
        "    print(agent)\n",
        "    print(f\" -> Frequency of correct arm: {num_correct.mean():.4f}\")\n",
        "    print(f\" -> Average reward: {rewards.mean():.4f}\")\n",
        "\n",
        "utils.plot_rewards(all_rewards, names, moving_avg_window=15)"
      ]
    },
    {
      "cell_type": "markdown",
      "metadata": {
        "id": "fwz9IdCODPPM"
      },
      "source": [
        "<details>\n",
        "<summary>Solution</summary>\n",
        "\n",
        "\n",
        "```python\n",
        "class RewardAveraging(Agent):\n",
        "    def __init__(self, num_arms: int, seed: int, epsilon: float, optimism: float):\n",
        "        # SOLUTION\n",
        "        self.epsilon = epsilon\n",
        "        self.optimism = optimism\n",
        "        super().__init__(num_arms, seed)\n",
        "\n",
        "    def get_action(self):\n",
        "        # SOLUTION\n",
        "        if self.rng.random() < self.epsilon:\n",
        "            return self.rng.integers(low=0, high=self.num_arms).item()\n",
        "        else:\n",
        "            return np.argmax(self.Q)\n",
        "\n",
        "    def observe(self, action, reward, info):\n",
        "        # SOLUTION\n",
        "        self.N[action] += 1\n",
        "        self.Q[action] += (reward - self.Q[action]) / self.N[action]\n",
        "\n",
        "    def reset(self, seed: int):\n",
        "        # SOLUTION\n",
        "        super().reset(seed)\n",
        "        self.N = np.zeros(self.num_arms)\n",
        "        self.Q = np.full(self.num_arms, self.optimism, dtype=float)\n",
        "\n",
        "    def __repr__(self):\n",
        "        # For the legend, when plotting\n",
        "        return f\"RewardAveraging(eps={self.epsilon}, optimism={self.optimism})\"\n",
        "```\n",
        "</details>\n",
        "\n",
        "<details>\n",
        "<summary>Question - can you interpret these results?</summary>\n",
        "\n",
        "At the very start, the more optimistic agent performs worse, because it explores more and exploits less. Its estimates are wildly over-optimistic, so even if it finds a good arm, its Q-value for that arm will decrease. On the other hand, if the realistic agent finds a good arm early on, it'll probably return to exploit it.\n",
        "\n",
        "However, the optimistic agent eventually outperforms the realistic agent, because its increased exploration means it's more likely to converge on the best arm.\n",
        "</details>\n",
        "\n",
        "<details>\n",
        "<summary>Question - how do you think these results would change if epsilon was decreased for both agents?</summary>\n",
        "\n",
        "You should expect the optimistic agent to outperform the realistic agent even more. The smaller epsilon is, the more necessary optimism is (because without it the agent won't explore enough).\n",
        "</details>\n"
      ]
    },
    {
      "cell_type": "markdown",
      "metadata": {
        "id": "NBJYkjDPDPPM"
      },
      "source": [
        "## Cheater Agent\n",
        "\n",
        "The cheater agent will always choose the best arm. It's a good idea to implement, because you can compare your other agents to it to make sure they're not doing better than the cheater (if they are, you probably have a bug!).\n"
      ]
    },
    {
      "cell_type": "markdown",
      "metadata": {
        "id": "xDFAbxhwDPPM"
      },
      "source": [
        "### Exercise - implement cheater agent\n",
        "\n",
        "```c\n",
        "Difficulty: 🟠🟠🟠⚪⚪\n",
        "Importance: 🟠🟠🟠⚪⚪\n",
        "\n",
        "You should spend up to 10-25 minutes on this exercise.\n",
        "\n",
        "It's important for you to understand why cheater agents are important for debugging.\n",
        "```\n",
        "\n",
        "You should fill in the four methods below.\n",
        "\n",
        "<details>\n",
        "<summary>Help - I'm not sure how to implement the cheater.</summary>\n",
        "\n",
        "Recall that your `env.step` method returns a tuple of `(obs, reward, done, info)`, and the `info` dict contains `best_arm`.\n",
        "\n",
        "In `observe`, you should read the `best_arm` object from the `info` dictionary, and store it. Then, in `get_action`, you should always return this best arm.\n",
        "\n",
        "Note, you'll have to make a special case for when best arm hasn't been observed yet (in this case, your action doesn't matter).\n",
        "</details>\n"
      ]
    },
    {
      "cell_type": "code",
      "execution_count": null,
      "metadata": {
        "id": "KDF673-RDPPM"
      },
      "outputs": [],
      "source": [
        "class CheatyMcCheater(Agent):\n",
        "    def __init__(self, num_arms: int, seed: int):\n",
        "        pass\n",
        "\n",
        "    def get_action(self):\n",
        "        pass\n",
        "\n",
        "    def observe(self, action: int, reward: float, info: dict):\n",
        "        pass\n",
        "\n",
        "    def __repr__(self):\n",
        "        return \"Cheater\"\n",
        "\n",
        "\n",
        "cheater = CheatyMcCheater(num_arms, 0)\n",
        "reward_averaging = RewardAveraging(num_arms, 0, epsilon=0.1, optimism=0)\n",
        "random = RandomAgent(num_arms, 0)\n",
        "\n",
        "names = []\n",
        "all_rewards = []\n",
        "\n",
        "for agent in [cheater, reward_averaging, random]:\n",
        "    (rewards, num_correct) = run_agent(env, agent, n_runs=N_RUNS, base_seed=1)\n",
        "    names.append(str(agent))\n",
        "    all_rewards.append(rewards)\n",
        "\n",
        "utils.plot_rewards(all_rewards, names, moving_avg_window=15)\n",
        "\n",
        "assert (all_rewards[0] < all_rewards[1]).mean() < 0.001, \"Cheater should be better than reward averaging\"\n",
        "print(\"Tests passed!\")"
      ]
    },
    {
      "cell_type": "markdown",
      "metadata": {
        "id": "Um52KXS8DPPM"
      },
      "source": [
        "<details>\n",
        "<summary>Solution</summary>\n",
        "\n",
        "\n",
        "```python\n",
        "class CheatyMcCheater(Agent):\n",
        "    def __init__(self, num_arms: int, seed: int):\n",
        "        # SOLUTION\n",
        "        super().__init__(num_arms, seed)\n",
        "        self.best_arm = 0\n",
        "\n",
        "    def get_action(self):\n",
        "        # SOLUTION\n",
        "        return self.best_arm\n",
        "\n",
        "    def observe(self, action: int, reward: float, info: dict):\n",
        "        # SOLUTION\n",
        "        self.best_arm = info[\"best_arm\"]\n",
        "\n",
        "    def __repr__(self):\n",
        "        return \"Cheater\"\n",
        "```\n",
        "</details>\n"
      ]
    },
    {
      "cell_type": "markdown",
      "metadata": {
        "id": "bOVPsO7ODPPN"
      },
      "source": [
        "## The Authentic RL Experience\n",
        "\n",
        "It would be nice if we could say something like \"optimistic reward averaging is a good/bad feature that improves/decreases performance in bandit problems.\" Unfortunately, we can't justifiably claim either at this point.\n",
        "\n",
        "Usually, RL code fails silently, which makes it difficult to be confident that you don't have any bugs. I had a bug in my first attempt that made both versions appear to perform equally, and there were only 13 lines of code, and I had written similar code before.\n",
        "\n",
        "The number of hyperparameters also grows rapidly, and hyperparameters have interactions with each other. Even in this simple problem, we already have two different ways to encourage exploration (`epsilon` and `optimism`), and it's not clear whether it's better to use one or the other, or both in some combination. It's actually worse than that, because `epsilon` should probably be annealed down at some rate.\n",
        "\n",
        "Even in this single comparison, we trained 200 agents for each version. Is that a big number or a small number to estimate the effect size? Probably we should like, compute some statistics? And test with a different number of arms - maybe we need more exploration for more arms? The time needed for a rigorous evaluation is going to increase quickly.\n",
        "\n",
        "We're using 0.23.1 of `gym`, which is not the latest version. 0.24.0 and 0.24.1 according to the [release notes](https://github.com/openai/gym/releases) have \"large bugs\" and the maintainers \"highly discourage using these releases\". How confident are we in the quality of the library code we're relying on?\n",
        "\n",
        "As we continue onward to more complicated algorithms, keep an eye out for small discrepancies or minor confusions. Look for opportunities to check and cross-check everything, and be humble with claims.\n"
      ]
    },
    {
      "cell_type": "markdown",
      "metadata": {
        "id": "rExnF-LsDPPN"
      },
      "source": [
        "## UCBActionSelection\n",
        "\n",
        "Once you feel good about your `RewardAveraging` implementation, you should implement `UCBActionSelection`.\n",
        "\n",
        "This should store the same moving average rewards for each action as `RewardAveraging` did, but instead of taking actions using the epsilon-greedy strategy it should use Equation 2.10 in Section 2.7 to select actions using the upper confidence bound. It's also useful to add a small epsilon term to the $N_t(a)$ term, to handle instances where some of the actions haven't been taken yet.\n",
        "\n",
        "You should expect to see a small improvement over `RewardAveraging` using this strategy.\n"
      ]
    },
    {
      "cell_type": "markdown",
      "metadata": {
        "id": "iZ7ZfoxZDPPN"
      },
      "source": [
        "### Exercise - implement `UCBASelection`\n",
        "\n",
        "```c\n",
        "Difficulty: 🟠🟠🟠⚪⚪\n",
        "Importance: 🟠🟠⚪⚪⚪\n",
        "\n",
        "You should spend up to 20-40 minutes on this exercise.\n",
        "```\n"
      ]
    },
    {
      "cell_type": "code",
      "execution_count": null,
      "metadata": {
        "id": "7A_gnE3CDPPN"
      },
      "outputs": [],
      "source": [
        "class UCBActionSelection(Agent):\n",
        "    def __init__(self, num_arms: int, seed: int, c: float, eps: float = 1e-6):\n",
        "        pass\n",
        "\n",
        "    def get_action(self):\n",
        "        pass\n",
        "\n",
        "    def observe(self, action, reward, info):\n",
        "        pass\n",
        "\n",
        "    def reset(self, seed: int):\n",
        "        pass\n",
        "\n",
        "    def __repr__(self):\n",
        "        return f\"UCB(c={self.c})\"\n",
        "\n",
        "\n",
        "cheater = CheatyMcCheater(num_arms, 0)\n",
        "reward_averaging = RewardAveraging(num_arms, 0, epsilon=0.1, optimism=0)\n",
        "reward_averaging_optimism = RewardAveraging(num_arms, 0, epsilon=0.1, optimism=5)\n",
        "ucb = UCBActionSelection(num_arms, 0, c=2.0)\n",
        "random = RandomAgent(num_arms, 0)\n",
        "\n",
        "names = []\n",
        "all_rewards = []\n",
        "\n",
        "for agent in [cheater, reward_averaging, reward_averaging_optimism, ucb, random]:\n",
        "    (rewards, num_correct) = run_agent(env, agent, n_runs=N_RUNS, base_seed=1)\n",
        "    names.append(str(agent))\n",
        "    all_rewards.append(rewards)\n",
        "\n",
        "utils.plot_rewards(all_rewards, names, moving_avg_window=15)"
      ]
    },
    {
      "cell_type": "markdown",
      "metadata": {
        "id": "gdRSGW56DPPN"
      },
      "source": [
        "<details>\n",
        "<summary>Solution</summary>\n",
        "\n",
        "\n",
        "```python\n",
        "class UCBActionSelection(Agent):\n",
        "    def __init__(self, num_arms: int, seed: int, c: float, eps: float = 1e-6):\n",
        "        # SOLUTION\n",
        "        self.c = c\n",
        "        self.eps = eps\n",
        "        super().__init__(num_arms, seed)\n",
        "\n",
        "    def get_action(self):\n",
        "        # SOLUTION\n",
        "        # This method avoids division by zero errors, and makes sure N=0 entries are chosen by argmax\n",
        "        ucb = self.Q + self.c * np.sqrt(np.log(self.t) / (self.N + self.eps))\n",
        "        return np.argmax(ucb)\n",
        "\n",
        "    def observe(self, action, reward, info):\n",
        "        # SOLUTION\n",
        "        self.t += 1\n",
        "        self.N[action] += 1\n",
        "        self.Q[action] += (reward - self.Q[action]) / self.N[action]\n",
        "\n",
        "    def reset(self, seed: int):\n",
        "        # SOLUTION\n",
        "        super().reset(seed)\n",
        "        self.t = 1\n",
        "        self.N = np.zeros(self.num_arms)\n",
        "        self.Q = np.zeros(self.num_arms)\n",
        "\n",
        "    def __repr__(self):\n",
        "        return f\"UCB(c={self.c})\"\n",
        "```\n",
        "</details>\n"
      ]
    },
    {
      "cell_type": "markdown",
      "metadata": {
        "id": "51vPVBebDPPN"
      },
      "source": [
        "## Bonus\n",
        "\n",
        "Here are a few bonus exercises you can try if you're interested. You could instead progress to the second section, and return to them if you have time.\n",
        "\n",
        "* Implement the gradient bandit algorithm.\n",
        "* Implement an environment and an agent for the contextual bandit problem.\n",
        "* Complete the exercises at the end of Chapter 2 of Sutton and Barto.\n"
      ]
    },
    {
      "cell_type": "markdown",
      "metadata": {
        "id": "SbPMAKEoDPPN"
      },
      "source": [
        "# 2️⃣ Tabular RL & Policy Improvement\n"
      ]
    },
    {
      "cell_type": "markdown",
      "metadata": {
        "id": "VvZTRzkhDPPN"
      },
      "source": [
        "> ##### Learning Objectives\n",
        ">\n",
        "> * Understand the tabular RL problem, for known environments.\n",
        "> * Learn how to numerically evaluate a given policy (via an iterative update formula).\n",
        "> * Understand the policy improvement theorem, and understand what circumstances can allow us to directly solve for the optimal policy.\n"
      ]
    },
    {
      "cell_type": "markdown",
      "metadata": {
        "id": "ADm_LUvoDPPN"
      },
      "source": [
        "## Reinforcement Learning, Known Environments\n",
        "\n",
        "We are presented with a environment, and the transition function that indicates how the environment will transition from state to state based on the action chosen. We will see how we can turn the problem of finding the best agent into an optimization problem, which we can then solve iteratively.\n",
        "\n",
        "Here, we assume environments small enough where visiting all pairs of states and actions is tractable. These types of models don't learn any relationships between states that can be treated similarly, but keep track of an estimate\n",
        "of how valuable each state is in a large lookup table.\n"
      ]
    },
    {
      "cell_type": "markdown",
      "metadata": {
        "id": "2ENO8FTTDPPR"
      },
      "source": [
        "## Readings\n",
        "\n",
        "Don't worry about absorbing every detail, we will repeat a lot of the details here.\n",
        "Don't worry too much about the maths, we will also cover that here.\n",
        "\n",
        "- [Sutton and Barto](https://web.stanford.edu/class/psych209/Readings/SuttonBartoIPRLBook2ndEd.pdf)\n",
        "- Chapter 3, Sections 3.1, 3.2, 3.3, 3.5, 3.6\n",
        "- Chapter 4, Sections 4.1, 4.2, 4.3, 4.4\n"
      ]
    },
    {
      "cell_type": "markdown",
      "metadata": {
        "id": "j9-AZ8ERDPPR"
      },
      "source": [
        "## What is Reinforcement Learning?\n",
        "\n",
        "In reinforcement learning, the agent interacts with an environment in a loop: The agent in state $s$ issues an **action** $a$ to the environment, and the environment replies with **state, reward** pairs $(s',r)$. We will assume the environment is **Markovian**, in that the next state $s'$ and reward $r$ depend solely on the current state $s$ and the action $a$ chosen by the agent (as opposed to environments which may depend on actions taken far in the past.)\n"
      ]
    },
    {
      "cell_type": "markdown",
      "metadata": {
        "id": "VZDZrPcVDPPR"
      },
      "source": [
        "### Pedantic note #1\n",
        "\n",
        "Some authors disagree on precisely where the next timestep occours. We (following Sutton and Barto) define the timestep transition to be when the environment\n",
        "acts, so given state $s_t$ the agent returns action $a_t$ (in the same time step), but given $(s_t, a_t)$ the environment generates $(s_{t+1}, r_{t+1})$.\n",
        "\n",
        "Other authors notate the history as\n",
        "$$\n",
        "s_0, a_0, r_0, s_1, a_1, r_1, s_2, a_2, r_2, \\ldots\n",
        "$$\n",
        "often when the reward $r_t$ is a deterministic function of the current state $s_t$ and action chosen $a_t$, and the environment's only job is to select the next state $s_{t+1}$ given $(s_t, a_t)$.\n",
        "\n",
        "There's nothing much we can do about this, so be aware of the difference when reading other sources.\n"
      ]
    },
    {
      "cell_type": "markdown",
      "metadata": {
        "id": "ZghXtdD-DPPR"
      },
      "source": [
        "The agent chooses actions using a policy $\\pi$, which we can think of as either a deterministic function $a = \\pi(s)$ from states to actions, or more generally a stochastic function from which actions are sampled, $a \\sim \\pi(\\cdot | s)$.\n",
        "\n",
        "Implicitly, we have assumed that the agent need only be Markovian as well. Is this a reasonable assumption?\n",
        "\n",
        "<details>\n",
        "<summary>Answer</summary>\n",
        "\n",
        "The environment dynamics depend only on the current state, so the agent needs only the current state to decide how to act optimally (for example, in a game of tic-tac-toe, knowledge of the current state of the board is sufficient to determine the optimal move, how the board got to that state is irrelevant.)\n",
        "</details>\n"
      ]
    },
    {
      "cell_type": "markdown",
      "metadata": {
        "id": "Hir4l_RJDPPR"
      },
      "source": [
        "The environment samples (state, reward) pairs from a probability distribution conditioned on the current state $s$ and the action $a$ the policy chose in that state, $(s', r) \\sim p(\\cdot | s, a)$. In the case where the environment is also deterministic, we write $(s', r) = p(s, a)$.\n",
        "\n",
        "The goal of the agent is to choose a policy that maximizes the **expected discounted return**, the sum of rewards it would expect to obtain by following it's currently chosen **policy** $\\pi$. We call the expected discounted return from a state $s$ following policy $\\pi$ the **state value function** $V_{\\pi}(s)$, or simply **value function**, as\n",
        "$$\n",
        "V_{\\pi}(s) = \\mathbb{E}_{\\pi} \\left[ \\sum_{i=t}^\\infty \\gamma^{i-t} r_{i+1} \\Bigg| s_t = s \\right]\n",
        "$$\n",
        "where the expectation is with respect to sampling actions from $\\pi$, and (implicitly) sampling states and rewards from $p$.\n"
      ]
    },
    {
      "cell_type": "markdown",
      "metadata": {
        "id": "VxNRivcDDPPS"
      },
      "source": [
        "### Pedantic note #2\n",
        "\n",
        "Technically $V_\\pi$ also depends on the choice of environment $p$ and discount factor $\\gamma$, but usually during training the only thing we are optimizing for is the choice of policy $\\pi$ (the environment $p$ is fixed and the discount $\\gamma$ is either provided or fixed as a hyperparameter before training), so we ignore these dependencies instead of writing $V_{\\pi, p, \\gamma}$.\n",
        "\n",
        "<details>\n",
        "<summary>Why do we discount?</summary>\n",
        "\n",
        "We would like a way to signal to the agent that reward now is better than reward later.\n",
        "If we didn't discount, the sum $\\sum_{i=t}^\\infty r_i$ may diverge.\n",
        "This leads to strange behavior, as we can't meaningfully compare the returns for sequences of rewards that diverge. Trying to sum the sequence $1,1,1,\\ldots$ or $2,2,2,2\\ldots$ or even $2, -1, 2 , -1, \\ldots$ all diverge to positive infinity, and so are all \"equally good\" even though it's clear that $2,2,2,2\\ldots$ would be the most desirable.\n",
        "\n",
        "An agent with a policy that leads to infinite expected return might become lazy, as waiting around doing nothing for a thousand years, and then actually optimally leads to the same return (infinite) as playing optimal from the first time step.\n",
        "\n",
        "Worse still, we can have reward sequences for which the sum may never approach any finite value, nor diverge to $\\pm \\infty$ (like summing $-1, 1, -1 ,1 , \\ldots$).\n",
        "We could otherwise patch this by requiring that the agent has a finite number of interactions with the environment (this is often true, and is called an **episodic** environment that we will see later) or restrict ourselves to environments for which the expected return for the optimal policy is finite, but these can often be undesirable constraints to place.\n",
        "</details>\n",
        "\n",
        "<details>\n",
        "<summary>Why do we discount geometrically?</summary>\n",
        "\n",
        "In general, we could consider a more general discount function $\\Gamma : \\mathbb{N} \\to [0,1)$ and define the discounted return as $\\sum_{i=t}^\\infty \\Gamma(i) r_i$. The geometric discount $\\Gamma(i) = \\gamma^i$ is commonly used, but other discounts include the hyperbolic discount $\\Gamma(i) = \\frac{1}{1 + iD}$, where $D>0$ is a hyperparameter. (Humans are [often said](https://chris-said.io/2018/02/04/hyperbolic-discounting/) to act as if they use a hyperbolic discount.) Other than  being mathematically convenient to work with (as the sum of geometric discounts has an elegant closed form expression $\\sum_{i=0}^\\infty \\gamma^i  = \\frac{1}{1-\\gamma}$), geometric is preferred as it is *time consistant*, that is, the discount from one time step to the next remains constant.\n",
        "Rewards at timestep $t+1$ are always worth a factor of $\\gamma$ less than rewards on timestep $t$\n",
        "$$\n",
        "\\frac{\\Gamma(t+1)}{\\Gamma(t)} = \\frac{\\gamma^{t+1}}{\\gamma^t} = \\gamma\n",
        "$$\n",
        "whereas for the hyperbolic reward, the amount discounted from one step to the next\n",
        "is a function of the timestep itself, and decays to 1 (no discount)\n",
        "$$\n",
        "\\frac{\\Gamma(t+1)}{\\Gamma(t)} =  \\frac{1+tD}{1+(t+1)D} \\to 1\n",
        "$$\n",
        "so very little discounting is done once rewards are far away enough in the future.\n",
        "\n",
        "Hence, using geometric discount lends a certain symmetry to the problem. If after $N$ actions the agent ends up in exactly the same state as it was in before, then there will be less total value remaining (because of the decay rate), but the optimal policy won't change (because the rewards the agent gets if it takes a series of actions will just be a scaled-down version of the rewards it would have gotten for those actions $N$ steps ago).\n",
        "</details>\n"
      ]
    },
    {
      "cell_type": "markdown",
      "metadata": {
        "id": "sXNXUVJGDPPS"
      },
      "source": [
        "> Note we can write the value function in the following recursive matter:\n",
        "> $$\n",
        "> V_\\pi(s) = \\sum_a \\pi(a | s) \\sum_{s', r} p(s',r \\mid s, a) \\left( r + \\gamma V_\\pi(s') \\right)\n",
        "> $$\n",
        ">\n",
        "> (Optional) Try to prove this for yourself!\n",
        ">\n",
        "> <details>\n",
        "> <summary>Hint</summary>\n",
        ">\n",
        "> Start by writing the expectation as a sum over all possible actions $a$ that can be taken from state $s$. Then, try to separate $r_{t+1}$ and the later reward terms inside the sum.\n",
        "> </details>\n",
        ">\n",
        "> <details>\n",
        "> <summary>Answer</summary>\n",
        ">\n",
        "> First, we write it out as a sum over possible next actions, using the **policy function** $\\pi$:\n",
        "> $$\n",
        "> \\begin{aligned}\n",
        "> V_\\pi(s) &=\\mathbb{E}_\\pi\\left[\\sum_{i=t}^{\\infty} \\gamma^{i-t} r_{i+1} \\mid s_t=s\\right] \\\\\n",
        "> &=\\sum_a \\pi(a \\mid s) \\mathbb{E}_\\pi\\left[\\sum_{i=t}^{\\infty} \\gamma^{i-t} r_{i+1} \\mid s_t=s, a_t=a\\right]\n",
        "> \\end{aligned}\n",
        "> $$\n",
        "> In other words, this is an average of the possible expected reward streams after a particular action, weighted by the probability that this action is chosen.\n",
        ">\n",
        "> We can then separate out the term for the rewward at step $t+1$:\n",
        "> $$\n",
        "> =\\sum_a \\pi(a \\mid s) \\mathbb{E}_\\pi\\left[r_{t+1}+\\sum_{i=t+1}^{\\infty} \\gamma^{i-t} r_{i+1} \\mid s_t=s, a_t=a\\right]\n",
        "> $$\n",
        "> And then we expand the sum over all possible state-reward pairs $(s', r)$ which we might evolve to, following state-action pair $(s, a)$:\n",
        "> $$\n",
        "> \\begin{aligned}\n",
        "> &=\\sum_{a, s^{\\prime}, r} \\pi(a \\mid s) p\\left(s^{\\prime}, r \\mid s, a\\right)\\left(r+\\gamma \\cdot \\mathbb> {E}_\\pi\\left[\\sum_{i=t+1}^{\\infty} \\gamma^{i-(t+1)} r_{i+1} \\mid s_{t+1}=s^{\\prime}\\right]\\right) \\\\\n",
        "> \\end{aligned}\n",
        "> $$\n",
        "> Finally, we can notice that the sum term looks a lot like our original expression for $V_{\\pi}(s)$, just starting from $s'$ rather than $s$. So we can write this as:\n",
        "> $$\n",
        "> \\begin{aligned}\n",
        "> &=\\sum_{a, s, r} \\pi(a \\mid s) p\\left(s^{\\prime}, r \\mid s, a\\right)\\left(r+\\gamma V_\\pi\\left(s^{\\prime}\\right)\\right) \\\\\n",
        "> \\end{aligned}\n",
        "> $$\n",
        "> And finally, we rearrange the sum terms:\n",
        "> $$\n",
        "> \\begin{aligned}\n",
        "> &=\\sum_a \\pi(a \\mid s) \\sum_{s^{\\prime}, r} p\\left(s^{\\prime}, r \\mid s, a\\right)\\left(r+\\gamma V_\\pi\\left(s^{\\prime}\\right)\\right)\n",
        "> \\end{aligned}\n",
        "> $$\n",
        "> as required.\n",
        ">\n",
        "> How should we interpret this? This formula tells us that the total value from present time can be written as sum of next-timestep rewards and value terms discounted by a factor of $\\gamma$. Recall earlier in our discussion of **geometric** vs **hyperbolic** discounting, we argued that geometric discounting has a symmetry through time, because of the constant discount factor. This is exactly what this formula shows, just on the scale of a single step.\n",
        ">\n",
        "> </details>\n",
        "\n",
        "This recursive formulation of the value function is called the **Bellman equation**, and can be thought of as \"The value of the current state is the reward the agent gets now, plus the value for the next state.\"\n",
        "\n",
        "We can also define the **action-value function**, or **Q-value** of state $s$ and action $a$ following policy $\\pi$:\n",
        "$$\n",
        "Q_\\pi(s,a) = \\mathbb{E}\\left[ \\sum_{i=t}^\\infty \\gamma^{i-t}r_{t+1} \\Bigg| s_t=s, a_t=a   \\right]\n",
        "$$\n",
        "which can be written recursively much like the value function can:\n",
        "$$\n",
        "Q_\\pi(s,a) = \\sum_{s',r} p(s',r \\mid s,a) \\left( r + \\gamma \\sum_{a'} \\pi(a' \\mid s') Q_\\pi(s', a') \\right)\n",
        "$$\n"
      ]
    },
    {
      "cell_type": "markdown",
      "metadata": {
        "id": "AMifEi4zDPPS"
      },
      "source": [
        "### Theory Exercises\n",
        "\n",
        "(These are mostly to check your understanding of the readings on RL.\n",
        "Feel free to skip ahead if you're already happy with the definition.)\n",
        "\n",
        "Consider the following environment: There are two actions $A = \\{a_L, a_R\\}$, three states $S = \\{s_0, s_L, s_R\\}$ and three rewards $R = \\{0,1,2\\}$. The environment is deterministic, and can be represented by the following transition diagram:\n",
        "\n",
        "<img src=\"https://raw.githubusercontent.com/callummcdougall/computational-thread-art/master/example_images/misc/markov-diagram.png\" width=\"400\">\n",
        "\n",
        "The edges represent the state transitions given an action, as well as the reward received. For example, in state $s_0$, taking action $a_L$ means the new state is $s_L$, and the reward received is $+1$. (The transitions for $s_L$ and $s_R$ are independent of action taken.)\n",
        "\n",
        "We say that two policies $\\pi_1$ and $\\pi_2$ are **equivalent** if $\\forall s \\in S. V_{\\pi_1}(s) = V_{\\pi_2}(s)$.\n",
        "\n",
        "This gives us effectively two choices of deterministic policies, $\\pi_L(s_0) = s_L$ and $\\pi_R(s_0) = s_R$. (It is irrelevant what those policies do in the other states.)\n",
        "\n",
        "A policy $\\pi_1$ is **better** than $\\pi_2$ (denoted $\\pi_1 \\geq \\pi_2$) if\n",
        "$\\forall s \\in S. V_{\\pi_1}(s) \\geq V_{\\pi_2}(s)$.\n"
      ]
    },
    {
      "cell_type": "markdown",
      "metadata": {
        "id": "kwOFg581DPPS"
      },
      "source": [
        "### Exercise - compute the value $V_{\\pi}(s_0)$ for $\\pi = \\pi_L$ and $\\pi = \\pi_R$.\n",
        "\n",
        "```c\n",
        "Difficulty: 🟠🟠🟠⚪⚪\n",
        "Importance: 🟠🟠🟠⚪⚪\n",
        "\n",
        "You should spend up to 15-25 minutes on this exercise.\n",
        "\n",
        "This is a good exercise to build your intuition for these formulas and expressions.\n",
        "```\n",
        "\n",
        "Which policy is better? Does the answer depend on the choice of discount factor $\\gamma$? If so, how?\n",
        "\n",
        "<details>\n",
        "<summary>Answer</summary>\n",
        "\n",
        "Following the first policy, this gives\n",
        "$$\n",
        "V_{\\pi_L}(s_0) = 1 + \\gamma V_{\\pi_L}(s_L) = 1 + \\gamma(0 + \\gamma V_{\\pi_L}(s_0)) = 1 +\\gamma^2 V_{\\pi_L}(s_0)\n",
        "$$\n",
        "Rearranging, this gives\n",
        "$$\n",
        "V_{\\pi_L}(s_0) = \\frac{1}{1-\\gamma^2}\n",
        "$$\n",
        "Following the second policy, this gives\n",
        "$$\n",
        "V_{\\pi_R}(s_0) = 0 + \\gamma V_{\\pi_R}(s_R) = \\gamma(2 + \\gamma V_{\\pi_R}(s_0)) = 2 \\gamma + \\gamma^2 V_{\\pi_R}(s_0)\n",
        "$$\n",
        "Rearranging, this gives\n",
        "$$\n",
        "V_{\\pi_R}(s_0) = \\frac{2\\gamma}{1-\\gamma^2}\n",
        "$$\n",
        "Therefore,\n",
        "$$\n",
        "\\pi^* = \\begin{cases}\n",
        "\\pi_L & \\gamma < 1/2 \\\\\n",
        "\\pi_L \\text{ or } \\pi_R & \\gamma = 1/2 \\\\\n",
        "\\pi_R & \\gamma > 1/2\n",
        "\\end{cases}\n",
        "$$\n",
        "which makes sense, an agent that discounts heavily ($\\gamma < 1/2$) is shortsighted,\n",
        "and will choose the reward 1 now, over the reward 2 later.\n",
        "</details>\n"
      ]
    },
    {
      "cell_type": "markdown",
      "metadata": {
        "id": "a42iVdDYDPPS"
      },
      "source": [
        "An **optimal** policy (denoted $\\pi^*$) is a policy that is better than all other policies. There may be more than one optimal policy, so we refer to any of them as $\\pi^*$, with the understanding that since all optimal policies have the same value $V_{\\pi^*}$ for all states, it doesn't actually matter which is chosen.\n",
        "\n",
        "It is possible to prove that, for any environment, an optimal policy exists, but we won't go into detail on this proof today.\n"
      ]
    },
    {
      "cell_type": "markdown",
      "metadata": {
        "id": "1tuzlS9-DPPS"
      },
      "source": [
        "## Tabular RL, Known Environments\n",
        "\n",
        "For the moment, we focus on environments for which the agent has access to $p$, the function describing the underlying dynamics of the environment, which will allow us to solve the Bellman equation explicitly. While unrealistic, it means we can explicitly solve the Bellman equation. Later on we will remove this assumption and treat the environment as a black box from which the agent can sample from.\n",
        "\n",
        "We will simplify things a bit further, and assume that the environment samples states from a probability distribution $T(\\cdot | s, a)$ conditioned on the current state $s$ and the action $a$ the policy $\\pi$ chose in that state.\n",
        "\n",
        "Normally, the reward is also considered to be a stochastic function of both state and action $r \\sim  R(\\cdot \\mid s,a)$, but we will assume the reward is a deterministic function $R(s,a,s')$ of the current state, action and next state, and offload the randomness in the rewards to the next state $s'$ sampled from $T$.\n",
        "\n",
        "This (together with assuming $\\pi$ is deterministic) gives a simpler recursive form of the value function\n",
        "$$\n",
        "V_\\pi(s) = \\sum_{s'} T(s' \\mid s, a) \\Big( R(s,a,s') + \\gamma V_\\pi (s') \\Big)\n",
        "\\text{ where } a = \\pi(s)\n",
        "$$\n",
        "\n",
        "Below, we've provided a simple environment for a gridworld taken from [Russell and Norvig](http://aima.cs.berkeley.edu/). The agent can choose one of four actions: `up` (0), `right` (1), `down` (2) and `left` (3), encoded as numbers. The observation is just the state that the agent is in (encoded as a number from 0 to 11).\n",
        "\n",
        "<img src=\"https://raw.githubusercontent.com/callummcdougall/computational-thread-art/master/example_images/misc/gridworld.png\" width=\"300\">\n",
        "\n",
        "The result of choosing an action from an empty cell will move the agent in that direction, unless they would bump into a wall or walk outside the grid, in which case the next state is unchanged. Both the terminal states \"trap\" the agent, and any movement from one of the terminal states leaves the agent in the same state, and no reward is received. The agent receives a small penalty for each move $r = -0.04$ to encourage them to move to a terminal state quickly, unless the agent is moving into a terminal state, in which case they recieve reward either $+1$ or $-1$ as appropriate.\n",
        "\n",
        "Lastly, the environment is slippery, and the agent only has a 70\\% chance of moving in the direction chosen, with a 10% chance each of attempting to move in the other three cardinal directions.\n",
        "\n",
        "<details>\n",
        "<summary>There are two possible routes to +1, starting from the cell immediately to the <b>right of START</b>. Which one do you think the agent will prefer? How do you think changing the penalty value r=-0.04 to something else might affect this?\n",
        "</summary>\n",
        "\n",
        "The two routes are moving clockwise and anticlockwise around the center obstacle.\n",
        "\n",
        "The clockwise route requires more steps, which (assuming $r<0$) will be penalised more.\n",
        "\n",
        "But the anticlockwise route has a different disadvantage. The agent has a 70% probability of slipping, and the anticlockwise route brings them into closer proximity with the $-1$ terminal state.\n",
        "\n",
        "We can guess that there is a certain threshold value $r^* < 0$ such that the optimal policy is clockwise when $r<r^*$ (because movement penalty is large, making the anticlockwise route less attractive), and anticlockwise when $r>r^*$.\n",
        "\n",
        "You can test this out (and find the approximate value of $r^*$) when you run your RL agent!\n",
        "</details>\n",
        "\n",
        "Provided is a class that allows us to define environments with known dynamics. The only parts you should be concerned\n",
        "with are\n",
        "\n",
        "* `.num_states`, which gives the number of states,\n",
        "* `.num_actions`, which gives the number of actions\n",
        "* `.T`, a 3-tensor of shape  `(num_states, num_actions, num_states)` representing the probability $T(s_{next} \\mid s, a)$ = `T[s,a,s_next]`\n",
        "* `.R`, the reward function, encoded as a vector of shape `(num_states, num_actions, num_states)` that returns the reward $R(s,a,s_{next})$ = `R[s,a,s_next]` associated with entering state $s_{next}$ from state $s$ by taking action $a$.\n",
        "\n",
        "This environment also provides two additional parameters which we will not use now, but need for part 3 where the environment is treated as a black box, and agents learn from interaction.\n",
        "* `.start`, the state with which interaction with the environment begins. By default, assumed to be state zero.\n",
        "* `.terminal`, a list of all the terminal states (with which interaction with the environment ends). By default, terminal states are empty.\n"
      ]
    },
    {
      "cell_type": "code",
      "execution_count": null,
      "metadata": {
        "id": "2miiRuieDPPT"
      },
      "outputs": [],
      "source": [
        "class Environment:\n",
        "    def __init__(self, num_states: int, num_actions: int, start=0, terminal=None):\n",
        "        self.num_states = num_states\n",
        "        self.num_actions = num_actions\n",
        "        self.start = start\n",
        "        self.terminal = np.array([], dtype=int) if terminal is None else terminal\n",
        "        (self.T, self.R) = self.build()\n",
        "\n",
        "    def build(self):\n",
        "        '''\n",
        "        Constructs the T and R tensors from the dynamics of the environment.\n",
        "        Outputs:\n",
        "            T : (num_states, num_actions, num_states) State transition probabilities\n",
        "            R : (num_states, num_actions, num_states) Reward function\n",
        "        '''\n",
        "        num_states = self.num_states\n",
        "        num_actions = self.num_actions\n",
        "        T = np.zeros((num_states, num_actions, num_states))\n",
        "        R = np.zeros((num_states, num_actions, num_states))\n",
        "        for s in range(num_states):\n",
        "            for a in range(num_actions):\n",
        "                (states, rewards, probs) = self.dynamics(s, a)\n",
        "                (all_s, all_r, all_p) = self.out_pad(states, rewards, probs)\n",
        "                T[s, a, all_s] = all_p\n",
        "                R[s, a, all_s] = all_r\n",
        "        return (T, R)\n",
        "\n",
        "    def dynamics(self, state: int, action: int) -> Tuple[Arr, Arr, Arr]:\n",
        "        '''\n",
        "        Computes the distribution over possible outcomes for a given state\n",
        "        and action.\n",
        "        Inputs:\n",
        "            state : int (index of state)\n",
        "            action : int (index of action)\n",
        "        Outputs:\n",
        "            states  : (m,) all the possible next states\n",
        "            rewards : (m,) rewards for each next state transition\n",
        "            probs   : (m,) likelihood of each state-reward pair\n",
        "        '''\n",
        "        raise NotImplementedError()\n",
        "\n",
        "    def render(pi: Arr):\n",
        "        '''\n",
        "        Takes a policy pi, and draws an image of the behavior of that policy, if applicable.\n",
        "        Inputs:\n",
        "            pi : (num_actions,) a policy\n",
        "        Outputs:\n",
        "            None\n",
        "        '''\n",
        "        raise NotImplementedError()\n",
        "\n",
        "    def out_pad(self, states: Arr, rewards: Arr, probs: Arr):\n",
        "        '''\n",
        "        Inputs:\n",
        "            states  : (m,) all the possible next states\n",
        "            rewards : (m,) rewards for each next state transition\n",
        "            probs   : (m,) likelihood of each state-reward pair\n",
        "        Outputs:\n",
        "            states  : (num_states,) all the next states\n",
        "            rewards : (num_states,) rewards for each next state transition\n",
        "            probs   : (num_states,) likelihood of each state-reward pair (including zero-prob outcomes.)\n",
        "        '''\n",
        "        out_s = np.arange(self.num_states)\n",
        "        out_r = np.zeros(self.num_states)\n",
        "        out_p = np.zeros(self.num_states)\n",
        "        for i in range(len(states)):\n",
        "            idx = states[i]\n",
        "            out_r[idx] += rewards[i]\n",
        "            out_p[idx] += probs[i]\n",
        "        return (out_s, out_r, out_p)"
      ]
    },
    {
      "cell_type": "markdown",
      "metadata": {
        "id": "4JnXl-poDPPT"
      },
      "source": [
        "For example, here is the toy environment from the diagram earlier implemented in this format.\n",
        "\n",
        "<img src=\"https://raw.githubusercontent.com/callummcdougall/computational-thread-art/master/example_images/misc/markov-diagram.png\" width=\"400\">\n"
      ]
    },
    {
      "cell_type": "code",
      "execution_count": null,
      "metadata": {
        "id": "NG3KakK_DPPT"
      },
      "outputs": [],
      "source": [
        "class Toy(Environment):\n",
        "    def dynamics(self, state: int, action: int):\n",
        "        (S0, SL, SR) = (0, 1, 2)\n",
        "        LEFT = 0\n",
        "        num_states = 3\n",
        "        num_actions = 2\n",
        "        assert 0 <= state < self.num_states and 0 <= action < self.num_actions\n",
        "        if state == S0:\n",
        "            if action == LEFT:\n",
        "                (next_state, reward) = (SL, 1)\n",
        "            else:\n",
        "                (next_state, reward) = (SR, 0)\n",
        "        elif state == SL:\n",
        "            (next_state, reward) = (S0, 0)\n",
        "        elif state == SR:\n",
        "            (next_state, reward) = (S0, 2)\n",
        "        return (np.array([next_state]), np.array([reward]), np.array([1]))\n",
        "\n",
        "    def __init__(self):\n",
        "        super().__init__(num_states=3, num_actions=2)"
      ]
    },
    {
      "cell_type": "markdown",
      "metadata": {
        "id": "ry1fl_c1DPPT"
      },
      "source": [
        "Given a definition for the `dynamics` function, the `Environment` class automatically generates `T` and `R` for us.\n"
      ]
    },
    {
      "cell_type": "code",
      "execution_count": null,
      "metadata": {
        "id": "YO1ICpXSDPPU"
      },
      "outputs": [],
      "source": [
        "toy = Toy()\n",
        "\n",
        "actions = [\"a_L\", \"a_R\"]\n",
        "states = [\"s_L\", \"S_0\", \"S_R\"]\n",
        "\n",
        "imshow(\n",
        "    toy.T, # dimensions (s, a, s_next)\n",
        "    title=\"Transition probabilities T(s_next | s, a) for toy environment\",\n",
        "    facet_col=-1, facet_labels=[f\"s_next = {s}\" for s in states], y=states, x=actions,\n",
        "    labels = {\"x\": \"Action\", \"y\": \"State\", \"color\": \"Transition<br>Probability\"},\n",
        ")\n",
        "\n",
        "imshow(\n",
        "    toy.R, # dimensions (s, a, s_next)\n",
        "    title=\"Rewards R(s, a, s_next) for toy environment\",\n",
        "    facet_col=-1, facet_labels=[f\"s_next = {s}\" for s in states], y=states, x=actions,\n",
        "    labels = {\"x\": \"Action\", \"y\": \"State\", \"color\": \"Reward\"},\n",
        ")"
      ]
    },
    {
      "cell_type": "markdown",
      "metadata": {
        "id": "KzpEVg03DPPU"
      },
      "source": [
        "A few notes:\n",
        "\n",
        "* This environment is deterministic; the transition probabilities are always 1.\n",
        "* Given that there are some \"illegal moves\", some of the reward function values don't really make sense (e.g. in this environment we can't have $s_{next} = s$ because every move has to be to a new state). But this is fine, because (see the formula above) we'll always be multiplying these reward values by the corresponding transition probabilities of zero, so they won't change any of the computation we're doing.\n"
      ]
    },
    {
      "cell_type": "markdown",
      "metadata": {
        "id": "rIWhPuXMDPPU"
      },
      "source": [
        "We also provide an implementation of the gridworld environment above. We include a definition of `render`, which given a policy, prints out a grid showing the direction the policy will try to move in from each cell.\n"
      ]
    },
    {
      "cell_type": "code",
      "execution_count": null,
      "metadata": {
        "id": "lV9xPk0oDPPU"
      },
      "outputs": [],
      "source": [
        "class Norvig(Environment):\n",
        "    def dynamics(self, state: int, action: int) -> Tuple[Arr, Arr, Arr]:\n",
        "        def state_index(state):\n",
        "            assert 0 <= state[0] < self.width and 0 <= state[1] < self.height, print(state)\n",
        "            pos = state[0] + state[1] * self.width\n",
        "            assert 0 <= pos < self.num_states, print(state, pos)\n",
        "            return pos\n",
        "\n",
        "        pos = self.states[state]\n",
        "        move = self.actions[action]\n",
        "        if state in self.terminal or state in self.walls:\n",
        "            return (np.array([state]), np.array([0]), np.array([1]))\n",
        "        out_probs = np.zeros(self.num_actions) + 0.1\n",
        "        out_probs[action] = 0.7\n",
        "        out_states = np.zeros(self.num_actions, dtype=int) + self.num_actions\n",
        "        out_rewards = np.zeros(self.num_actions) + self.penalty\n",
        "        new_states = [pos + x for x in self.actions]\n",
        "        for (i, s_new) in enumerate(new_states):\n",
        "            if not (0 <= s_new[0] < self.width and 0 <= s_new[1] < self.height):\n",
        "                out_states[i] = state\n",
        "                continue\n",
        "            new_state = state_index(s_new)\n",
        "            if new_state in self.walls:\n",
        "                out_states[i] = state\n",
        "            else:\n",
        "                out_states[i] = new_state\n",
        "            for idx in range(len(self.terminal)):\n",
        "                if new_state == self.terminal[idx]:\n",
        "                    out_rewards[i] = self.goal_rewards[idx]\n",
        "        return (out_states, out_rewards, out_probs)\n",
        "\n",
        "    def render(self, pi: Arr):\n",
        "        assert len(pi) == self.num_states\n",
        "        emoji = [\"⬆️\", \"➡️\", \"⬇️\", \"⬅️\"]\n",
        "        grid = [emoji[act] for act in pi]\n",
        "        grid[3] = \"🟩\"\n",
        "        grid[7] = \"🟥\"\n",
        "        grid[5] = \"⬛\"\n",
        "        print(\"\".join(grid[0:4]) + \"\\n\" + \"\".join(grid[4:8]) + \"\\n\" + \"\".join(grid[8:]))\n",
        "\n",
        "    def __init__(self, penalty=-0.04):\n",
        "        self.height = 3\n",
        "        self.width = 4\n",
        "        self.penalty = penalty\n",
        "        num_states = self.height * self.width\n",
        "        num_actions = 4\n",
        "        self.states = np.array([[x, y] for y in range(self.height) for x in range(self.width)])\n",
        "        self.actions = np.array([[0, -1], [1, 0], [0, 1], [-1, 0]])\n",
        "        self.dim = (self.height, self.width)\n",
        "        terminal = np.array([3, 7], dtype=int)\n",
        "        self.walls = np.array([5], dtype=int)\n",
        "        self.goal_rewards = np.array([1.0, -1])\n",
        "        super().__init__(num_states, num_actions, start=8, terminal=terminal)"
      ]
    },
    {
      "cell_type": "markdown",
      "metadata": {
        "id": "PN-Lg9j7DPPU"
      },
      "source": [
        "## Policy Evaluation\n",
        "\n",
        "At the moment, we would like to determine the value function $V_\\pi$ of some policy $\\pi$. **We will assume policies are deterministic**, and encode policies as a lookup table from states to actions (so $\\pi$ will be a vector of shape `(num_states,)`, where each element is an integer `a` in the range `0 <= a < num_actions`, representing one of the possible actions to choose for that state.)\n",
        "\n",
        "Firstly, we will use the Bellman equation as an update rule: Given a current estimate $\\hat{V}_\\pi$ of the value function $V_{\\pi}$, we can obtain a better estimate by using the Bellman equation, sweeping over all states.\n",
        "$$\n",
        "\\forall s. \\hat{V}_\\pi(s) \\leftarrow \\sum_{s'} T(s' \\,|\\, s, a) \\left( R(s,a,s') + \\gamma \\hat{V}_\\pi(s') \\right) \\;\\text{ where } a = \\pi(s)\n",
        "$$\n",
        "Recall that the true value function $V_\\pi$ satisfies this as an equality, i.e. it is a fixed point of the iteration.\n",
        "\n",
        "(Also, remember how we defined our objects: `T[s, a, s']` $= T(s' \\,|\\, a, s)$, and `R[s, a, s']` $= R(s, a, s')$.)\n",
        "\n",
        "We continue looping this update rule until the result stabilizes: $\\max_s |\\hat{V}^{new}(s) - \\hat{V}^{old}(s)| < \\epsilon$ for some small $\\epsilon > 0$. Use $\\hat{V}_\\pi(s) = 0$ as your initial guess.\n"
      ]
    },
    {
      "cell_type": "markdown",
      "metadata": {
        "id": "UzNvTtRkDPPV"
      },
      "source": [
        "### Exercise - implement `policy_eval_numerical`\n",
        "\n",
        "```c\n",
        "Difficulty: 🟠🟠🟠⚪⚪\n",
        "Importance: 🟠🟠🟠⚪⚪\n",
        "\n",
        "You should spend up to 15-30 minutes on this exercise.\n",
        "```\n",
        "\n",
        "The `policy_eval_numerical` function takes in a deterministic policy $\\pi$, and transition and reward matrices $T$ and $R$ (stored as `env.T` and `env.R`), and computes the value function $V_\\pi$ using the Bellman equation as an update rule. It keeps iterating until it reaches `max_iterations`, or the resut stabilizes - which ever comes first.\n"
      ]
    },
    {
      "cell_type": "code",
      "execution_count": null,
      "metadata": {
        "id": "jTYA0S8KDPPV"
      },
      "outputs": [],
      "source": [
        "def policy_eval_numerical(env: Environment, pi: Arr, gamma=0.99, eps=1e-8, max_iterations=10_000) -> Arr:\n",
        "    '''\n",
        "    Numerically evaluates the value of a given policy by iterating the Bellman equation\n",
        "    Inputs:\n",
        "        env: Environment\n",
        "        pi : shape (num_states,) - The policy to evaluate\n",
        "        gamma: float - Discount factor\n",
        "        eps  : float - Tolerance\n",
        "        max_iterations: int - Maximum number of iterations to run\n",
        "    Outputs:\n",
        "        value : float (num_states,) - The value function for policy pi\n",
        "    '''\n",
        "    pass\n",
        "\n",
        "tests.test_policy_eval(policy_eval_numerical, exact=False)"
      ]
    },
    {
      "cell_type": "markdown",
      "metadata": {
        "id": "qwBvC2fDDPPV"
      },
      "source": [
        "<details>\n",
        "<summary>Solution</summary>\n",
        "\n",
        "\n",
        "```python\n",
        "def policy_eval_numerical(env: Environment, pi: Arr, gamma=0.99, eps=1e-8, max_iterations=10_000) -> Arr:\n",
        "    '''\n",
        "    Numerically evaluates the value of a given policy by iterating the Bellman equation\n",
        "    Inputs:\n",
        "        env: Environment\n",
        "        pi : shape (num_states,) - The policy to evaluate\n",
        "        gamma: float - Discount factor\n",
        "        eps  : float - Tolerance\n",
        "        max_iterations: int - Maximum number of iterations to run\n",
        "    Outputs:\n",
        "        value : float (num_states,) - The value function for policy pi\n",
        "    '''\n",
        "    # SOLUTION\n",
        "    num_states = env.num_states\n",
        "    T = env.T\n",
        "    R = env.R\n",
        "    value = np.zeros((num_states,))\n",
        "\n",
        "    for i in range(max_iterations):\n",
        "        new_v = np.zeros_like(value)\n",
        "        for s in range(num_states):\n",
        "            new_v[s] = np.dot(T[s, pi[s]], R[s, pi[s]] + gamma * value)\n",
        "        delta = np.abs(new_v - value).sum()\n",
        "        if delta < eps:\n",
        "            break\n",
        "        value = np.copy(new_v)\n",
        "    else:\n",
        "        print(f\"Failed to converge after {max_iterations} steps.\")\n",
        "\n",
        "    return value\n",
        "```\n",
        "</details>\n"
      ]
    },
    {
      "cell_type": "markdown",
      "metadata": {
        "id": "BEVe_8e9DPPV"
      },
      "source": [
        "## Exact Policy Evaluation\n",
        "\n",
        "Essentially what we are doing in the previous step is numerically solving the Bellman equation. Since the Bellman equation essentially gives us a set of simultaneous equations, we can solve it explicitly rather than iterating the Bellman update rule.\n",
        "\n",
        "Given a policy $\\pi$, consider $\\mathbf{v} \\in \\mathbb{R}^{|S|}$ to be a vector representing the value function $V_\\pi$ for each state.\n",
        "$$\n",
        "\\mathbf{v} = [V_\\pi(s_1), \\ldots, V_\\pi(s_{N})]\n",
        "$$\n",
        "and recall the Bellman equation:\n",
        "$$\n",
        "\\mathbf{v}_i = \\sum_{s'} T(s' \\mid s_i,\\pi(s)) \\left( R(s,\\pi(s),s') + \\gamma V_\\pi(s') \\right)\n",
        "$$\n",
        "We can define two matrices $P^\\pi$ and $R^\\pi$, both of shape `(num_states, num_states)`\n",
        "as\n",
        "$$\n",
        "P^\\pi_{i,j} = T(j \\,|\\, \\pi(i), i) \\quad R^\\pi_{i,j} = R(i, \\pi(i), j)\n",
        "$$\n",
        "$P^\\pi$ can be thought of as a probability transition matrix from current state to next state, and $R^\\pi$ is the reward function given current state and next state, assuming actions are chosen by $\\pi$.\n",
        "$$\n",
        "\\mathbf{v}_i = \\sum_{j} P^\\pi_{i,j} \\left( R^\\pi_{i,j} + \\gamma \\mathbf{v}_j \\right)\n",
        "$$\n",
        "$$\n",
        "\\mathbf{v}_i = \\sum_{j} P^\\pi_{i,j}  R^\\pi_{i,j} +  \\gamma \\sum_{j} P^\\pi_{i,j} \\mathbf{v}_j\n",
        "$$\n",
        "We can define $\\mathbf{r}^\\pi_i = \\sum_{j} P^\\pi_{i,j}  (R^\\pi)_{i,j} = (P^\\pi  (R^\\pi)^T)_{ii}$\n",
        "$$\n",
        "\\mathbf{v}_i = \\mathbf{r}_i^\\pi + \\gamma (P^\\pi \\mathbf{v})_i\n",
        "$$\n",
        "A little matrix algebra, and we obtain:\n",
        "$$\n",
        "\\mathbf{v} = (I - \\gamma P^\\pi)^{-1} \\mathbf{r}^\\pi\n",
        "$$\n",
        "which gives us a closed form solution for the value function $\\mathbf{v}$.\n",
        "\n",
        "Is the inverse $(I - \\gamma P^\\pi)^{-1}$ guaranteed to exist? Discuss with your partner, and ask Callum if you're not sure.\n"
      ]
    },
    {
      "cell_type": "markdown",
      "metadata": {
        "id": "5crbRqgMDPPV"
      },
      "source": [
        "### Exercise - implement `policy_eval_exact`\n",
        "\n",
        "```c\n",
        "Difficulty: 🟠🟠🟠⚪⚪\n",
        "Importance: 🟠🟠🟠⚪⚪\n",
        "\n",
        "You should spend up to 10-30 minutes on this exercise.\n",
        "```\n",
        "\n",
        "<details>\n",
        "<summary>Help - I'm not sure where to start.</summary>\n",
        "\n",
        "You can define the matrix $P^\\pi$ indexing `env.T` with the states and corresponding actions `pi` (i.e. you have a 2D array whose elements are $T(s' \\mid s, \\pi(s))$ for all $s, s'$). Same for defining $R^\\pi$ from the reward matrix.\n",
        "\n",
        "</details>\n"
      ]
    },
    {
      "cell_type": "code",
      "execution_count": null,
      "metadata": {
        "id": "dI6KUDDrDPPV"
      },
      "outputs": [],
      "source": [
        "def policy_eval_exact(env: Environment, pi: Arr, gamma=0.99) -> Arr:\n",
        "    '''\n",
        "    Finds the exact solution to the Bellman equation.\n",
        "    '''\n",
        "    pass\n",
        "\n",
        "tests.test_policy_eval(policy_eval_exact, exact=True)"
      ]
    },
    {
      "cell_type": "markdown",
      "metadata": {
        "id": "TQipWPQsDPPV"
      },
      "source": [
        "<details>\n",
        "<summary>Solution</summary>\n",
        "\n",
        "\n",
        "```python\n",
        "def policy_eval_exact(env: Environment, pi: Arr, gamma=0.99) -> Arr:\n",
        "    '''\n",
        "    Finds the exact solution to the Bellman equation.\n",
        "    '''\n",
        "    # SOLUTION\n",
        "    states = np.arange(env.num_states)\n",
        "    actions = pi\n",
        "    transition_matrix = env.T[states, actions, :]\n",
        "    reward_matrix = env.R[states, actions, :]\n",
        "\n",
        "    r = einops.einsum(transition_matrix, reward_matrix, \"s s_next, s s_next -> s\")\n",
        "\n",
        "    mat = np.eye(env.num_states) - gamma * transition_matrix\n",
        "\n",
        "    return np.linalg.solve(mat, r)\n",
        "```\n",
        "</details>\n"
      ]
    },
    {
      "cell_type": "markdown",
      "metadata": {
        "id": "54UVnKAEDPPW"
      },
      "source": [
        "## Policy Improvement\n",
        "\n",
        "So, we now have a way to compute the value of a policy. What we are really interested in is finding better policies. One way we can do this is to compare how well $\\pi$ performs on a state versus the value obtained by choosing another action instead, that is, the Q-value. If there is an action $a'$ for which $Q_{\\pi}(s,a') > V_\\pi(s) \\equiv Q_\\pi(s, \\pi(s))$, then we would prefer that $\\pi$ take action $a'$ in state $s$ rather than whatever action $\\pi(s)$ currently is. In general, we can select the action that maximizes the Bellman equation:\n",
        "\n",
        "$$\n",
        "\\text{argmax}_a \\sum_{s'} T(s' \\mid s, a) (R(s,a,s') + \\gamma V_{\\pi}(s')) \\geq \\sum_{s',r}\n",
        "T(s' \\mid s, \\pi(s)) \\left( R(s,\\pi(s),s') + \\gamma V_{\\pi}(s') \\right) = V_{\\pi}(s')\n",
        "$$\n",
        "\n",
        "This gives us an update rule for the policy. Given the value function $V_{\\pi}(s)$\n",
        "for policy $\\pi$, we define an improved policy $\\pi^\\text{better}$ as follows:\n",
        "\n",
        "$$\n",
        "\\pi^\\text{better}(s) = \\text{argmax}_a \\sum_{s'} T(s' \\mid s, a) (R(s,a,s') + \\gamma V_{\\pi}(s'))\n",
        "$$\n",
        "\n",
        "Note that we are simultaneously applying this improvement over all states $s$.\n"
      ]
    },
    {
      "cell_type": "markdown",
      "metadata": {
        "id": "JxVgZD9tDPPW"
      },
      "source": [
        "### Exercise - implement `policy_improvement`\n",
        "\n",
        "```c\n",
        "Difficulty: 🟠🟠⚪⚪⚪\n",
        "Importance: 🟠🟠🟠🟠⚪\n",
        "\n",
        "You should spend up to 10-25 minutes on this exercise.\n",
        "```\n",
        "\n",
        "The `policy_improvement` function takes in a value function $V$, and transition and reward matrices $T$ and $R$ (stored as `env.T` and `env.R`), and returns a new policy $\\pi^\\text{better}$.\n"
      ]
    },
    {
      "cell_type": "code",
      "execution_count": null,
      "metadata": {
        "id": "sKU0r_-XDPPW"
      },
      "outputs": [],
      "source": [
        "def policy_improvement(env: Environment, V: Arr, gamma=0.99) -> Arr:\n",
        "    '''\n",
        "    Inputs:\n",
        "        env: Environment\n",
        "        V  : (num_states,) value of each state following some policy pi\n",
        "    Outputs:\n",
        "        pi_better : vector (num_states,) of actions representing a new policy obtained via policy iteration\n",
        "    '''\n",
        "    pass\n",
        "\n",
        "tests.test_policy_improvement(policy_improvement)"
      ]
    },
    {
      "cell_type": "markdown",
      "metadata": {
        "id": "dRyh95LADPPW"
      },
      "source": [
        "<details>\n",
        "<summary>Solution</summary>\n",
        "\n",
        "\n",
        "```python\n",
        "def policy_improvement(env: Environment, V: Arr, gamma=0.99) -> Arr:\n",
        "    '''\n",
        "    Inputs:\n",
        "        env: Environment\n",
        "        V  : (num_states,) value of each state following some policy pi\n",
        "    Outputs:\n",
        "        pi_better : vector (num_states,) of actions representing a new policy obtained via policy iteration\n",
        "    '''\n",
        "    # SOLUTION\n",
        "    sum_term = sum([\n",
        "        einops.einsum(env.T, env.R, \"s a s_next, s a s_next -> s a\"),\n",
        "        gamma * einops.einsum(env.T, V, \"s a s_next, s_next -> s a\")\n",
        "    ])\n",
        "    pi_new = np.argmax(sum_term, axis=1)\n",
        "    return pi_new\n",
        "```\n",
        "</details>\n"
      ]
    },
    {
      "cell_type": "markdown",
      "metadata": {
        "id": "_37nsyptDPPW"
      },
      "source": [
        "Putting these together, we now have an algorithm to find the optimal policy for an environment.\n",
        "$$\n",
        "\\pi_0 \\overset{E}{\\to} V_{\\pi_0}\n",
        "\\overset{I}{\\to} \\pi_1 \\overset{E}{\\to} V_{\\pi_1}\n",
        "\\overset{I}{\\to} \\pi_2 \\overset{E}{\\to} V_{\\pi_2} \\overset{I}{\\to}  \\ldots\n",
        "$$\n",
        "We alternate policy evaluation ($\\overset{E}{\\to}$) and policy improvement ($\\overset{I}{\\to}$), each step a monotonic improvement, until the policy no longer changes ($\\pi_n = \\pi_{n+1}$), at which point we have an optimal policy, as our current policy will satisfy the optimal Bellman equations:\n",
        "$$\n",
        "V_{\\pi^*} = \\text{argmax}_a \\sum_{s',r} T(s' \\mid s,a) (R(s,a,s') + \\gamma V_{\\pi^*}(s'))\n",
        "$$\n"
      ]
    },
    {
      "cell_type": "markdown",
      "metadata": {
        "id": "dyclHwsJDPPW"
      },
      "source": [
        "### Exercise - implement `find_optimal_policy`\n",
        "\n",
        "```c\n",
        "Difficulty: 🟠🟠🟠⚪⚪\n",
        "Importance: 🟠🟠🟠🟠⚪\n",
        "\n",
        "You should spend up to 15-30 minutes on this exercise.\n",
        "```\n",
        "\n",
        "Implement the `find_optimal_policy` function below. This should iteratively do the following:\n",
        "\n",
        "* find the correct value function $V_{\\pi}$ for your given policy $\\pi$ using your `policy_eval_exact` function,\n",
        "* update your policy using `policy_improvement`,\n",
        "\n",
        "where we start from any arbitrary value of $\\pi_0$ (we've picked all zeros).\n",
        "\n",
        "A few things to note:\n",
        "\n",
        "* Don't forget that policies should be of `dtype=int`, rather than floats! $\\pi$ in this case represents **the deterministic action you take in each state**.\n",
        "* Since the optimal policy is not unique, the automated tests will merely check that your optimal policy has the same value function as the optimal policy found by the solution.\n"
      ]
    },
    {
      "cell_type": "code",
      "execution_count": null,
      "metadata": {
        "id": "dXfmfvhBDPPW"
      },
      "outputs": [],
      "source": [
        "def find_optimal_policy(env: Environment, gamma=0.99, max_iterations=10_000):\n",
        "    '''\n",
        "    Inputs:\n",
        "        env: environment\n",
        "    Outputs:\n",
        "        pi : (num_states,) int, of actions represeting an optimal policy\n",
        "    '''\n",
        "    pi = np.zeros(shape=env.num_states, dtype=int)\n",
        "    pass\n",
        "\n",
        "tests.test_find_optimal_policy(find_optimal_policy)\n",
        "\n",
        "penalty = -0.04\n",
        "norvig = Norvig(penalty)\n",
        "pi_opt = find_optimal_policy(norvig, gamma=0.99)\n",
        "norvig.render(pi_opt)"
      ]
    },
    {
      "cell_type": "markdown",
      "metadata": {
        "id": "-mQq0f8DDPPX"
      },
      "source": [
        "<details>\n",
        "<summary>Solution</summary>\n",
        "\n",
        "\n",
        "```python\n",
        "def find_optimal_policy(env: Environment, gamma=0.99, max_iterations=10_000):\n",
        "    '''\n",
        "    Inputs:\n",
        "        env: environment\n",
        "    Outputs:\n",
        "        pi : (num_states,) int, of actions represeting an optimal policy\n",
        "    '''\n",
        "    pi = np.zeros(shape=env.num_states, dtype=int)\n",
        "    # SOLUTION\n",
        "\n",
        "    for i in range(max_iterations):\n",
        "        V = policy_eval_exact(env, pi, gamma)\n",
        "        pi_new = policy_improvement(env, V, gamma)\n",
        "        if np.array_equal(pi_new, pi):\n",
        "            return pi_new\n",
        "        else:\n",
        "            pi = pi_new\n",
        "    else:\n",
        "        print(f\"Failed to converge after {max_iterations} steps.\")\n",
        "        return pi\n",
        "```\n",
        "</details>\n"
      ]
    },
    {
      "cell_type": "markdown",
      "metadata": {
        "id": "Re6cwjPcDPPX"
      },
      "source": [
        "Once you've passed the tests, you should play around with the `penalty` value for the gridworld environment and see how this affects the optimal policy found. Which squares change their optimal strategy when the penalty takes different negative values? Can you see why this happens?\n"
      ]
    },
    {
      "cell_type": "markdown",
      "metadata": {
        "id": "O2b7y09XDPPX"
      },
      "source": [
        "## Bonus\n",
        "\n",
        "- Implement and test your policy evaluation method on other environments.\n",
        "- Complete some exercises in Chapters 3 and 4 of Sutton and Barto.\n",
        "- Modify the tabular RL solvers to allow stochastic policies or to allow $\\gamma=1$ on episodic environments (may need to change how environments are defined.)\n"
      ]
    }
  ],
  "metadata": {
    "colab": {
      "collapsed_sections": [
        "jd3LpCav3UXu",
        "XPXTPSKvDPPK",
        "SbPMAKEoDPPN"
      ],
      "provenance": []
    },
    "kernelspec": {
      "display_name": "Python 3",
      "name": "python3"
    },
    "language_info": {
      "codemirror_mode": {
        "name": "ipython",
        "version": 3
      },
      "file_extension": ".py",
      "mimetype": "text/x-python",
      "name": "python",
      "nbconvert_exporter": "python",
      "pygments_lexer": "ipython3",
      "version": "3.10.9"
    }
  },
  "nbformat": 4,
  "nbformat_minor": 0
}